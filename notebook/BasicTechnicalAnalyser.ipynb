{
 "cells": [
  {
   "cell_type": "markdown",
   "id": "5d4686e2",
   "metadata": {},
   "source": [
    "# IMPORTS"
   ]
  },
  {
   "cell_type": "code",
   "execution_count": null,
   "id": "a3fbfbf2-caf6-4c7c-97fb-904dbb660aaa",
   "metadata": {
    "scrolled": true
   },
   "outputs": [],
   "source": [
    "!pip install nsepy\n",
    "!pip install pandas\n",
    "!pip install numpy\n",
    "!pip install TA-Lib\n",
    "!pip install plotly\n",
    "!pip install yfinance"
   ]
  },
  {
   "cell_type": "code",
   "execution_count": null,
   "id": "af6f4779",
   "metadata": {},
   "outputs": [],
   "source": [
    "from nsepy import get_history\n",
    "from datetime import date\n",
    "import pandas as pd\n",
    "import numpy as np\n",
    "import talib\n",
    "import datetime\n",
    "import yfinance as yf\n",
    "import plotly.graph_objects as go"
   ]
  },
  {
   "cell_type": "markdown",
   "id": "d7542a69",
   "metadata": {},
   "source": [
    "# FETCHING DATA FROM NSE"
   ]
  },
  {
   "cell_type": "code",
   "execution_count": null,
   "id": "436fab4a",
   "metadata": {},
   "outputs": [],
   "source": [
    "scrip = 'HDFCAMC'"
   ]
  },
  {
   "cell_type": "code",
   "execution_count": null,
   "id": "6a247362",
   "metadata": {},
   "outputs": [],
   "source": [
    "\n",
    "stock_df = get_history(symbol=scrip,\n",
    "                    start=date(2021,1,1), \n",
    "                    end=date(2021,12,31)) "
   ]
  },
  {
   "cell_type": "code",
   "execution_count": null,
   "id": "339b671f",
   "metadata": {},
   "outputs": [],
   "source": [
    "pd.set_option('display.width', 10000)\n",
    "print(f\"Stock data size:{stock_df.shape}\")\n",
    "display(stock_df.head(2))\n",
    "display(stock_df.tail(2))"
   ]
  },
  {
   "cell_type": "markdown",
   "id": "ad70589f",
   "metadata": {},
   "source": [
    "# STOCK ANALYSIS"
   ]
  },
  {
   "cell_type": "markdown",
   "id": "f98b11d0",
   "metadata": {},
   "source": [
    "## CANDLESTICK CHART"
   ]
  },
  {
   "cell_type": "code",
   "execution_count": null,
   "id": "e4fcfe2a",
   "metadata": {},
   "outputs": [],
   "source": [
    "import plotly.graph_objects as go\n",
    "\n",
    "candlestick = go.Candlestick(x=stock_df.index, \n",
    "                             open=stock_df['Open'],  \n",
    "                             high=stock_df['High'], \n",
    "                             low=stock_df['Low'], \n",
    "                             close=stock_df['Close'])\n",
    "\n",
    "fig = go.Figure(data=[candlestick])\n",
    "fig.layout.xaxis.type = 'category' \n",
    "fig.show()"
   ]
  },
  {
   "cell_type": "markdown",
   "id": "63962ff1",
   "metadata": {},
   "source": [
    "# CANDLESTICK PATTERNS"
   ]
  },
  {
   "cell_type": "code",
   "execution_count": null,
   "id": "3e37b769",
   "metadata": {},
   "outputs": [],
   "source": [
    "def plot_candle(df, title):\n",
    "    candlestick = go.Candlestick(x=df.index, open=df['Open'], high=df['High'], low=df['Low'], close=df['Close'])\n",
    "\n",
    "    # Plot only the last month's data\n",
    "    fig = go.Figure(data=[candlestick],\n",
    "                    layout=go.Layout(title=go.layout.Title(text=title)))\n",
    "    fig.layout.xaxis.type = 'category' \n",
    "    fig.show()\n"
   ]
  },
  {
   "cell_type": "markdown",
   "id": "9b3f8170",
   "metadata": {},
   "source": [
    "## MARUBOZU CANDLE - SINGLE CANDLESTICK PATTERN"
   ]
  },
  {
   "cell_type": "code",
   "execution_count": null,
   "id": "afc5c694",
   "metadata": {},
   "outputs": [],
   "source": [
    "# Identify the marubozu candles in the dataset\n",
    "stock_df['marubozu'] = talib.CDLMARUBOZU(stock_df['Open'], stock_df['High'], stock_df['Low'], stock_df['Close'])\n",
    "\n",
    "# Subset dataframe for only the marubozu candles\n",
    "marubozu_candles = stock_df[stock_df['marubozu'] != 0]\n",
    "display(marubozu_candles[['Close','marubozu']])\n",
    "\n",
    "# Plot the candlestick chart\n",
    "plot_candle(marubozu_candles, title = f\"Marubozu Candlestick Pattern - {scrip}\")\n"
   ]
  },
  {
   "cell_type": "markdown",
   "id": "26700b49",
   "metadata": {},
   "source": [
    "## DOJI CANDLE"
   ]
  },
  {
   "cell_type": "code",
   "execution_count": null,
   "id": "f29c7190",
   "metadata": {},
   "outputs": [],
   "source": [
    "# Identify the doji candles in the dataset\n",
    "stock_df['doji'] = talib.CDLDOJI(stock_df['Open'], stock_df['High'], stock_df['Low'], stock_df['Close'])\n",
    "\n",
    "# Subset dataframe for only the doji candles\n",
    "doji_candles = stock_df[stock_df['doji'] != 0]\n",
    "display(doji_candles[['Open','Close','doji']].tail())\n",
    "\n",
    "\n",
    "# Plot the candlestick chart\n",
    "plot_candle(doji_candles, title = f\"Doji Candlestick Pattern - {scrip}\")\n"
   ]
  },
  {
   "cell_type": "markdown",
   "id": "3cbdd900",
   "metadata": {},
   "source": [
    "## ENGULFING CANDLE"
   ]
  },
  {
   "cell_type": "code",
   "execution_count": null,
   "id": "bcfda9cd",
   "metadata": {},
   "outputs": [],
   "source": [
    "# Identify the engulfing candles in the dataset\n",
    "stock_df['engulf'] = talib.CDLENGULFING(stock_df['Open'], stock_df['High'], stock_df['Low'], stock_df['Close'])\n",
    "\n",
    "# Subset dataframe for only the doji candles\n",
    "stock_df['next_is_engulf'] = stock_df['engulf'].shift(-1)\n",
    "engulf_candles = stock_df[(stock_df['engulf'] != 0) | (stock_df['next_is_engulf'] != 0)]\n",
    "display(engulf_candles[['Open','Close','engulf']].head(10))\n",
    "\n",
    "\n",
    "# Plot the candlestick chart\n",
    "plot_candle(engulf_candles, title = f\"Engulfing Candlestick Pattern - {scrip}\")\n"
   ]
  },
  {
   "cell_type": "markdown",
   "id": "442d8808",
   "metadata": {},
   "source": [
    "## MORNING STAR/EVENING STAR CANDLE"
   ]
  },
  {
   "cell_type": "code",
   "execution_count": null,
   "id": "ced35681",
   "metadata": {},
   "outputs": [],
   "source": [
    "stock_df[stock_df['eve_star'] != 0]"
   ]
  },
  {
   "cell_type": "code",
   "execution_count": null,
   "id": "bd13675e",
   "metadata": {},
   "outputs": [],
   "source": [
    "# Identify the morning/evening candles in the dataset\n",
    "stock_df['morn_star'] = talib.CDLMORNINGSTAR(stock_df['Open'], stock_df['High'], stock_df['Low'], stock_df['Close'])           \n",
    "stock_df['eve_star']  = talib.CDLEVENINGSTAR(stock_df['Open'], stock_df['High'], stock_df['Low'], stock_df['Close'])\n",
    "stock_df['star'] = stock_df['morn_star'] + stock_df['eve_star'] \n",
    "# Subset dataframe for only the doji candles\n",
    "stock_df['next_1_star'] = stock_df['star'].shift(-1, fill_value=0)\n",
    "stock_df['next_2_star'] = stock_df['star'].shift(-2, fill_value=0)\n",
    "star_candles = stock_df[(stock_df['star'] != 0) | (stock_df['next_1_star'] != 0) | (stock_df['next_2_star'] != 0)]\n",
    "display(star_candles[['Close','morn_star','eve_star']].head(10))\n",
    "\n",
    "\n",
    "# Plot the candlestick chart\n",
    "plot_candle(star_candles, title = f\"Morning/Evening Candlestick Pattern - {scrip}\")\n"
   ]
  },
  {
   "cell_type": "code",
   "execution_count": null,
   "id": "95d36769",
   "metadata": {},
   "outputs": [],
   "source": []
  },
  {
   "cell_type": "markdown",
   "id": "6fff275e",
   "metadata": {},
   "source": [
    "# TRADING STRATEGIES/INDICATORS"
   ]
  },
  {
   "cell_type": "markdown",
   "id": "838b5b16",
   "metadata": {
    "jp-MarkdownHeadingCollapsed": true
   },
   "source": [
    "## MOVING AVERAGE"
   ]
  },
  {
   "cell_type": "markdown",
   "id": "5d5d3d35",
   "metadata": {},
   "source": [
    "### SIMPLE MOVING AVERAGE"
   ]
  },
  {
   "cell_type": "code",
   "execution_count": null,
   "id": "2fc65623",
   "metadata": {},
   "outputs": [],
   "source": [
    "stock_df['20_sma'] = stock_df['Close'].rolling(window=20).mean()\n",
    "stock_df[['Close','20_sma']].tail()"
   ]
  },
  {
   "cell_type": "markdown",
   "id": "cb1ee7a0",
   "metadata": {},
   "source": [
    "### MOVING AVERAGE CHART"
   ]
  },
  {
   "cell_type": "code",
   "execution_count": null,
   "id": "798e1a0e",
   "metadata": {},
   "outputs": [],
   "source": [
    "# Compute the moving averages for 20 days, 50 days and 200 days\n",
    "stock_df['20_sma'] = stock_df['Close'].rolling(window=20).mean()\n",
    "stock_df['50_sma'] = stock_df['Close'].rolling(window=50).mean()\n",
    "stock_df['200_sma'] = stock_df['Close'].rolling(window=200).mean()\n",
    "\n",
    "# Plot the moving averages along with the candlestick chart\n",
    "small_df = stock_df.tail(40)\n",
    "candlestick = go.Candlestick(x=small_df.index, open=small_df['Open'], high=small_df['High'], low=small_df['Low'], close=small_df['Close'])\n",
    "sma_20 = go.Scatter(x=small_df.index, y=small_df['20_sma'], name='20 days MA', line={'color': 'blue'})\n",
    "sma_50 = go.Scatter(x=small_df.index, y=small_df['50_sma'], name='50 days MA', line={'color': 'orange'})\n",
    "sma_200 = go.Scatter(x=small_df.index, y=small_df['200_sma'], name='200 days MA', line={'color': 'brown'})\n",
    "\n",
    "# Plot only the last month's data\n",
    "fig = go.Figure(data=[candlestick,sma_20,sma_50,sma_200],\n",
    "                layout=go.Layout(title=go.layout.Title(text=f\"MOVING AVERAGE CHART - {scrip}\")))\n",
    "fig.layout.xaxis.type = 'category' \n",
    "fig.show()\n"
   ]
  },
  {
   "cell_type": "markdown",
   "id": "985b28ef",
   "metadata": {},
   "source": [
    "## RSI"
   ]
  },
  {
   "cell_type": "code",
   "execution_count": null,
   "id": "abb1fdd8",
   "metadata": {},
   "outputs": [],
   "source": [
    "import talib\n",
    "RSI_PERIOD = 14\n",
    "stock_df['rsi'] = talib.RSI(stock_df['Close'], RSI_PERIOD) \n",
    "stock_df['rsi_indicator'] = stock_df['rsi'].apply(lambda x: 'BUY' if x<30 else 'SELL' if x>70 else 'HOLD')\n",
    "display(stock_df[['Close','rsi','rsi_indicator']].tail(15))"
   ]
  },
  {
   "cell_type": "markdown",
   "id": "69ce4437",
   "metadata": {
    "jp-MarkdownHeadingCollapsed": true
   },
   "source": [
    "## MACD"
   ]
  },
  {
   "cell_type": "code",
   "execution_count": null,
   "id": "b3b2a3e0",
   "metadata": {},
   "outputs": [],
   "source": [
    "scrip = 'HINDUNILVR'\n",
    "stock_df = get_history(symbol=scrip,\n",
    "                    start=date(2021,1,1), \n",
    "                    end=date(2021,12,31))"
   ]
  },
  {
   "cell_type": "code",
   "execution_count": null,
   "id": "38809adc",
   "metadata": {},
   "outputs": [],
   "source": [
    "from plotly.subplots import make_subplots\n",
    "\n",
    "def plot_macd(stock_df, macd, signal, hist):\n",
    "    fig = make_subplots( rows=2, cols=1)\n",
    "\n",
    "    candlestick = go.Candlestick(x=stock_df.index, \n",
    "                                 open=stock_df['Open'],  \n",
    "                                 high=stock_df['High'], \n",
    "                                 low=stock_df['Low'], \n",
    "                                 close=stock_df['Close'], name = 'daily candle')\n",
    "\n",
    "    positive_hist = hist[hist>0]\n",
    "    negative_hist = hist[hist<0]\n",
    "\n",
    "    macd_line = go.Scatter(x=macd.index, y = macd, name = 'macd',line_color = 'blue')\n",
    "    signal_line = go.Scatter(x=signal.index, y = signal, name = 'signal',line_color = 'orange')\n",
    "    pos_hist_bar = go.Bar(x=positive_hist.index, y = positive_hist, name = 'hist',marker={'color': 'green'})\n",
    "    neg_hist_bar = go.Bar(x=negative_hist.index, y = negative_hist, name = 'hist',marker={'color': 'red'})\n",
    "\n",
    "    fig.add_trace(candlestick, row=1,col=1)    \n",
    "    fig.add_trace(macd_line, row=2, col=1)\n",
    "    fig.add_trace(signal_line, row=2, col=1)\n",
    "    fig.add_trace(pos_hist_bar, row=2, col=1)\n",
    "    fig.add_trace(neg_hist_bar, row=2, col=1)\n",
    "\n",
    "    fig.update_layout(title_text=f'MACD - {scrip}', title_x=0.5,\n",
    "                     xaxis_type = 'category',xaxis_rangeslider_visible = False,\n",
    "                     xaxis_showticklabels = False,\n",
    "                     xaxis2_type = 'category' )\n",
    "    \n",
    "    fig.show()\n"
   ]
  },
  {
   "cell_type": "code",
   "execution_count": null,
   "id": "6ee5e814",
   "metadata": {},
   "outputs": [],
   "source": [
    "import talib\n",
    "\n",
    "MACD_FAST_EMA = 12\n",
    "MACD_SLOW_EMA = 26\n",
    "MACD_SIGNAL_PERIOD = 9 \n",
    "\n",
    "macd, signal, hist = talib.MACD(stock_df['Close'], \n",
    "                                fastperiod=MACD_FAST_EMA, slowperiod=MACD_SLOW_EMA, signalperiod=MACD_SIGNAL_PERIOD)\n",
    "\n",
    "plot_macd(stock_df, macd, signal, hist)"
   ]
  },
  {
   "cell_type": "markdown",
   "id": "63ca3939",
   "metadata": {},
   "source": [
    "## BOLLINGER BAND"
   ]
  },
  {
   "cell_type": "code",
   "execution_count": null,
   "id": "77e7880b",
   "metadata": {},
   "outputs": [],
   "source": [
    "scrip = 'ITC'\n",
    "stock_df = get_history(symbol=scrip,\n",
    "                    start=date(2021,1,1), \n",
    "                    end=date(2021,12,31))"
   ]
  },
  {
   "cell_type": "code",
   "execution_count": null,
   "id": "522d3f01",
   "metadata": {},
   "outputs": [],
   "source": [
    "# 20-day moving average \n",
    "stock_df['sma_bb'] = stock_df['Close'].rolling(window=20).mean()\n",
    "\n",
    "# upper and lower bollinger bands: SMA +/- 2 * standard deviation\n",
    "stock_df['stddev'] = stock_df['Close'].rolling(window=20).std()\n",
    "stock_df['upper_bb'] = stock_df['sma_bb'] + (2 * stock_df['stddev'])\n",
    "stock_df['lower_bb'] = stock_df['sma_bb'] - (2 * stock_df['stddev'])\n",
    "\n",
    "display(stock_df[['Close','sma_bb','upper_bb','lower_bb']]).tail()\n",
    "\n",
    "\n",
    "# TALib - Bollinger Band\n",
    "# upperband, middleband, lowerband = BBANDS(stock_df['Close'], timeperiod=20, nbdevup=2, nbdevdn=2, matype=0)\n"
   ]
  },
  {
   "cell_type": "code",
   "execution_count": null,
   "id": "e3970fe7",
   "metadata": {},
   "outputs": [],
   "source": [
    "def plot_bollinger_band(stock_df):\n",
    "\n",
    "    candlestick = go.Candlestick(x=stock_df.index, \n",
    "                                 open=stock_df['Open'],  \n",
    "                                 high=stock_df['High'], \n",
    "                                 low=stock_df['Low'], \n",
    "                                 close=stock_df['Close'], name = 'Daily candle')\n",
    "\n",
    "\n",
    "    upper_line = go.Scatter(x=stock_df.index, y = stock_df['upper_bb'], name='upper_band',line_color = 'blue')\n",
    "    lower_line = go.Scatter(x=stock_df.index, y = stock_df['lower_bb'], name = 'lower_band',line_color = 'blue')\n",
    "    sma_line = go.Scatter(x=stock_df.index, y = stock_df['sma_bb'], name = 'sma_line',line_color = 'lightblue')   \n",
    "\n",
    "                                                         \n",
    "    fig = go.Figure(data=[candlestick, upper_line, lower_line, sma_line])\n",
    "                                                         \n",
    "    fig.update_layout(title_text=f'Bollinger Band - {scrip}', title_x=0.5,\n",
    "                     xaxis_type = 'category',xaxis_rangeslider_visible = False,\n",
    "                     xaxis_showticklabels = True )\n",
    "    \n",
    "    fig.show()\n",
    "    \n",
    "plot_bollinger_band(stock_df)"
   ]
  },
  {
   "cell_type": "markdown",
   "id": "594bb3c8",
   "metadata": {},
   "source": [
    "# BUILDING A SIMPLE TRADING STRATEGY"
   ]
  },
  {
   "cell_type": "markdown",
   "id": "1b2792e0",
   "metadata": {},
   "source": [
    "TRADING STRATEGY:  \n",
    "1. Get the individual BUY/SELL/HOLD indicators based on the following strategies: Moving Average, MACD, Engulfing Pattern  \n",
    "2. If even one of the strategies provide a BUY/SELL recommendation, then check the RSI value\n",
    "3. If more than one indicator gives a signal, choose in this order: MACD, Moving Average, Engulfing Pattern  \n",
    "4. RSI value of last 3 sessions considered\n",
    "5. If strategy indicates a BUY and RSI < lower_threshold (40) --> Final Indicator = 'BUY'  \n",
    "6. If strategy indicates a BUY and RSI > upper_threshold (60) --> Final Indicator = 'SELL' \n"
   ]
  },
  {
   "cell_type": "code",
   "execution_count": null,
   "id": "060a9532",
   "metadata": {},
   "outputs": [],
   "source": [
    "# Get additional data to calculate the 200-d moving average from 1st Jan\n",
    "start_date = date(2021,1,1) - datetime.timedelta(300) \n",
    "def fetch_data(scrip_name):\n",
    "    return yf.Ticker(scrip_name).history(\n",
    "                    start=start_date, \n",
    "                    end=date(2021,12,31))"
   ]
  },
  {
   "cell_type": "code",
   "execution_count": null,
   "id": "3d2a65c7",
   "metadata": {},
   "outputs": [],
   "source": [
    "# Compute RSI\n",
    "def apply_rsi_strategy(stock_df, rsi_period = 14):\n",
    "    stock_df['rsi'] = talib.RSI(stock_df['Close'], rsi_period) \n",
    "    return stock_df"
   ]
  },
  {
   "cell_type": "code",
   "execution_count": null,
   "id": "419946d5",
   "metadata": {},
   "outputs": [],
   "source": [
    "# BUY/SELL/HOLD indicator based on the 200-days, 50-days and 20-days simple moving average\n",
    "def get_ma_indicator(row):\n",
    "    indicator = 'HOLD'\n",
    "    row_values = [row['Close'], row['20_sma'], row['50_sma'] , row['200_sma']]\n",
    "    \n",
    "    # If close < 20-day sma < 50-day sma < 200-day sma --> BUY\n",
    "    # If close > 20-day sma > 50-day sma > 200-day sma --> SELL\n",
    "    if(row_values == sorted(row_values)):\n",
    "        indicator = 'BUY'\n",
    "    elif (row_values == sorted(row_values, reverse=True)):\n",
    "        indicator = 'SELL'\n",
    "        \n",
    "    return indicator\n",
    "\n",
    "def apply_moving_average_strategy(stock_df):\n",
    "    # Compute the moving averages for 20 days, 50 days and 200 days\n",
    "    stock_df['20_sma'] = stock_df['Close'].rolling(window=20).mean()\n",
    "    stock_df['50_sma'] = stock_df['Close'].rolling(window=50).mean()\n",
    "    stock_df['200_sma'] = stock_df['Close'].rolling(window=200).mean()\n",
    "\n",
    "    stock_df['MA_indicator'] = stock_df.apply(lambda row: get_ma_indicator(row), axis=1)\n",
    "    return stock_df\n",
    "        "
   ]
  },
  {
   "cell_type": "code",
   "execution_count": null,
   "id": "0d4ade3a",
   "metadata": {},
   "outputs": [],
   "source": [
    "# BUY/SELL/HOLD indicator based on the macd crossover\n",
    "\n",
    "def get_macd_indicator(row):\n",
    "    last_hist = row['hist']\n",
    "    prev_hist = row['prev_hist']\n",
    "    indicator = 'HOLD'\n",
    "    # Provide BUY or SELL indications during crossovers\n",
    "    if not np.isnan(prev_hist) and not np.isnan(last_hist):\n",
    "        # If hist value has changed from negative to positive or vice versa, it indicates a crossover\n",
    "        macd_crossover = (abs(last_hist + prev_hist)) != (abs(last_hist) + abs(prev_hist))\n",
    "        if macd_crossover:\n",
    "            indicator = 'BUY' if last_hist > 0 else 'SELL'\n",
    "            \n",
    "    return indicator\n",
    "        \n",
    "def apply_macd_strategy(stock_df):\n",
    "    stock_df['macd'],  stock_df['signal'],  stock_df['hist'] = talib.MACD(stock_df['Close'], \n",
    "                                fastperiod=12, slowperiod=26, signalperiod=9)\n",
    "    stock_df['prev_hist'] = stock_df['hist'].shift(1)\n",
    "    stock_df['macd_indicator'] = stock_df.apply(lambda row: get_macd_indicator(row), axis=1)\n",
    "    \n",
    "    return stock_df\n",
    "    "
   ]
  },
  {
   "cell_type": "code",
   "execution_count": null,
   "id": "e35ff280",
   "metadata": {},
   "outputs": [],
   "source": [
    "# BUY/SELL/HOLD indicator based on the engulfing pattern\n",
    "\n",
    "def apply_engulfing_pattern(stock_df):\n",
    "    stock_df['engulf'] = talib.CDLENGULFING(stock_df['Open'], stock_df['High'], stock_df['Low'], stock_df['Close'])\n",
    "    stock_df['engulf_indicator'] = stock_df.apply(lambda row: 'BUY' if (row['engulf'] > 0) else 'SELL' if (row['engulf'] < 0) else 'HOLD', axis=1)\n",
    "    return stock_df\n",
    "\n"
   ]
  },
  {
   "cell_type": "code",
   "execution_count": null,
   "id": "f00acf14",
   "metadata": {
    "scrolled": true
   },
   "outputs": [],
   "source": [
    "CHECK_RSI_LAST_SESSIONS = 3\n",
    "RSI_LOWER_LIMIT = 40\n",
    "RSI_UPPER_LIMIT = 60\n",
    "def apply_trading_algo(stock_df):\n",
    "    stock_df['indicator'] = 'HOLD'\n",
    "    buy_sell_signals = stock_df[(stock_df['macd_indicator'] != 'HOLD') | (stock_df['MA_indicator'] != 'HOLD')| (stock_df['engulf_indicator'] != 'HOLD')]\n",
    "    for index,row in buy_sell_signals.iterrows():\n",
    "        # Get previous n sessions whenever a signal is reached \n",
    "        analysis_df = stock_df.loc[:index].tail(3)\n",
    "        macd_ind = analysis_df.iloc[-1]['macd_indicator']\n",
    "        ma_ind = analysis_df.iloc[-1]['MA_indicator']\n",
    "        engulf_ind = analysis_df.iloc[-1]['engulf_indicator']\n",
    "        current_indicator = 'HOLD' \n",
    "        \n",
    "        # Preference given in this order: MACD, MA, engulfing pattern\n",
    "        current_indicator = macd_ind if macd_ind != 'HOLD' else \\\n",
    "                            ma_ind if ma_ind != 'HOLD' else engulf_ind\n",
    "        \n",
    "        # Decide the final indicator based on the RSI value\n",
    "        if ((current_indicator == 'BUY') and (analysis_df['rsi'].min() <= RSI_LOWER_LIMIT)) \\\n",
    "            or \\\n",
    "            ((current_indicator == 'SELL') and (analysis_df['rsi'].max() >= RSI_UPPER_LIMIT)): \n",
    "            stock_df.at[index, 'indicator'] = current_indicator\n",
    "        \n",
    "    return stock_df\n",
    "\n"
   ]
  },
  {
   "cell_type": "code",
   "execution_count": 96,
   "id": "f930cbee",
   "metadata": {},
   "outputs": [],
   "source": [
    "def plot_buy_sell_chart(scrip_name, stock):\n",
    "    print(\"inside this method\")\n",
    "    candlestick = go.Candlestick(x=stock.index, \n",
    "                                 open=stock['Open'],  \n",
    "                                 high=stock['High'], \n",
    "                                 low=stock['Low'], \n",
    "                                 close=stock['Close'])\n",
    "    # print(candlestick)\n",
    "\n",
    "    fig = go.Figure(data=[candlestick],\n",
    "                   layout=go.Layout(title=go.layout.Title(text=f\"TRADING ALGO - BUY/SELL RECOMMENDATIONS - {scrip_name}\")))\n",
    "    fig.layout.xaxis.type = 'category' \n",
    "    fig.layout.xaxis.rangeslider.visible = False\n",
    "\n",
    "    for index, row in stock.iterrows(): \n",
    "        if (row['indicator'] == 'BUY'):\n",
    "            print(row)\n",
    "        if (row['indicator'] != 'HOLD'):\n",
    "            line_colour = 'orange' if (row['indicator'] == 'BUY') else 'purple'\n",
    "            fig.add_vline(x=row.name, line_width=3, line_dash=\"dash\", line_color=line_colour)\n",
    "\n",
    "            \n",
    "    fig.show()\n",
    "    \n",
    "    "
   ]
  },
  {
   "cell_type": "code",
   "execution_count": null,
   "id": "d2e2959b",
   "metadata": {},
   "outputs": [],
   "source": [
    "def my_trading_algo(scrip_name):\n",
    "    # Fetch the NSE data\n",
    "    stock = fetch_data(scrip_name)\n",
    "\n",
    "    # Apply the strategies individual\n",
    "    stock = apply_moving_average_strategy(stock)\n",
    "    stock = apply_rsi_strategy(stock)\n",
    "    stock = apply_macd_strategy(stock)\n",
    "    stock = apply_engulfing_pattern(stock)\n",
    "\n",
    "    # Get only 2021 data for further analysis\n",
    "    # import pdb; pdb.set_trace()\n",
    "    stock = stock[stock.index >= str(date(2021,1,1))]\n",
    "\n",
    "    # stock = print(stock)\n",
    "\n",
    "    # Merge the strategies to create a final BUY/SELL/HOLD indicator\n",
    "    stock = apply_trading_algo(stock)\n",
    "\n",
    "    # # Plot the buy/sell recommendations on 2021 data\n",
    "    plot_buy_sell_chart(scrip_name, stock)\n",
    "    \n",
    "    return stock"
   ]
  },
  {
   "cell_type": "code",
   "execution_count": null,
   "id": "f9d118a1",
   "metadata": {},
   "outputs": [],
   "source": [
    "hul = my_trading_algo('HINDUNILVR')"
   ]
  },
  {
   "cell_type": "code",
   "execution_count": 97,
   "id": "686088c5",
   "metadata": {},
   "outputs": [
    {
     "name": "stdout",
     "output_type": "stream",
     "text": [
      "inside this method\n",
      "Open                207.349692\n",
      "High                211.321013\n",
      "Low                 206.789043\n",
      "Close               210.666916\n",
      "Volume                15904846\n",
      "Dividends                  0.0\n",
      "Stock Splits               0.0\n",
      "20_sma              214.327555\n",
      "50_sma              219.354313\n",
      "200_sma              199.47581\n",
      "MA_indicator              HOLD\n",
      "rsi                  45.022243\n",
      "macd                 -2.414117\n",
      "signal               -1.485183\n",
      "hist                 -0.928934\n",
      "prev_hist            -1.207687\n",
      "macd_indicator            HOLD\n",
      "engulf                     100\n",
      "engulf_indicator           BUY\n",
      "indicator                  BUY\n",
      "Name: 2021-12-02 00:00:00+05:30, dtype: object\n"
     ]
    },
    {
     "data": {
      "application/vnd.plotly.v1+json": {
       "config": {
        "plotlyServerURL": "https://plot.ly"
       },
       "data": [
        {
         "close": [
          189.9189453125,
          189.519287109375,
          187.78750610351562,
          182.41453552246094,
          180.1055145263672,
          178.9509735107422,
          179.8390655517578,
          183.3470458984375,
          187.6099090576172,
          190.18536376953125,
          193.4713134765625,
          195.15869140625,
          194.35940551757812,
          193.293701171875,
          189.7857208251953,
          187.12144470214844,
          184.54598999023438,
          187.0770263671875,
          183.48025512695312,
          180.50514221191406,
          191.78395080566406,
          193.78216552734375,
          192.49441528320312,
          204.21725463867188,
          208.12490844726562,
          207.01475524902344,
          203.3735809326172,
          202.08583068847656,
          201.1089324951172,
          193.1160888671875,
          194.13739013671875,
          193.82656860351562,
          193.38250732421875,
          194.35940551757812,
          191.78395080566406,
          188.23828125,
          189.55653381347656,
          189.87472534179688,
          190.14744567871094,
          185.32901000976562,
          188.10189819335938,
          190.82931518554688,
          190.87478637695312,
          190.6475067138672,
          189.60198974609375,
          189.1019744873047,
          188.92015075683594,
          187.73825073242188,
          186.55636596679688,
          186.7836456298828,
          188.9656219482422,
          191.4657440185547,
          197.87521362304688,
          202.69366455078125,
          205.46656799316406,
          202.0117950439453,
          196.3296661376953,
          192.3748779296875,
          191.7384796142578,
          195.05685424804688,
          198.64796447753906,
          200.05714416503906,
          193.2385711669922,
          193.32948303222656,
          194.375,
          193.87498474121094,
          193.73861694335938,
          186.6472930908203,
          189.7383575439453,
          187.92005920410156,
          189.05650329589844,
          186.92002868652344,
          185.05625915527344,
          187.19276428222656,
          186.6927490234375,
          186.6472930908203,
          186.73817443847656,
          186.8291015625,
          185.73812866210938,
          184.19259643554688,
          182.69248962402344,
          181.46517944335938,
          183.10159301757812,
          184.32896423339844,
          186.6927490234375,
          186.8745574951172,
          185.4653778076172,
          184.7835235595703,
          192.9658203125,
          193.28402709960938,
          190.9656982421875,
          188.87469482421875,
          188.1928253173828,
          190.0565643310547,
          192.28396606445312,
          191.7384796142578,
          191.4657440185547,
          191.96575927734375,
          193.5567626953125,
          196.9206085205078,
          195.69325256347656,
          190.01109313964844,
          190.0565643310547,
          189.78382873535156,
          192.23851013183594,
          194.23861694335938,
          193.193115234375,
          195.575927734375,
          194.26771545410156,
          193.70704650878906,
          193.47344970703125,
          194.2209930419922,
          192.1652374267578,
          191.1373748779297,
          191.04393005371094,
          191.65130615234375,
          190.57672119140625,
          189.92262268066406,
          191.60458374023438,
          190.24969482421875,
          189.96934509277344,
          189.40869140625,
          189.6890106201172,
          189.12835693359375,
          190.29638671875,
          189.2218017578125,
          190.3898468017578,
          188.75457763671875,
          188.147216796875,
          187.91360473632812,
          188.6144256591797,
          190.71688842773438,
          192.72589111328125,
          194.26771545410156,
          194.1275634765625,
          193.23983764648438,
          193.42672729492188,
          198.47264099121094,
          197.30459594726562,
          194.96852111816406,
          195.3890380859375,
          192.5390167236328,
          191.51113891601562,
          193.70704650878906,
          196.1365509033203,
          194.92181396484375,
          201.13575744628906,
          200.20132446289062,
          199.78085327148438,
          196.08984375,
          194.96852111816406,
          195.2021484375,
          197.5849151611328,
          197.0709686279297,
          195.4824676513672,
          195.24887084960938,
          195.2021484375,
          192.77261352539062,
          192.25868225097656,
          192.8660430908203,
          191.18409729003906,
          192.39883422851562,
          194.3611602783203,
          197.44476318359375,
          195.76278686523438,
          195.99639892578125,
          196.79066467285156,
          195.575927734375,
          197.86524963378906,
          197.39804077148438,
          198.70623779296875,
          200.10787963867188,
          201.93003845214844,
          201.8365936279297,
          215.61940002441406,
          215.9931640625,
          218.42269897460938,
          225.6645050048828,
          227.5333709716797,
          226.59893798828125,
          222.8144989013672,
          223.04811096191406,
          222.160400390625,
          222.48745727539062,
          220.66529846191406,
          219.9177703857422,
          221.0858154296875,
          219.31039428710938,
          216.0866241455078,
          217.67514038085938,
          216.50711059570312,
          222.44073486328125,
          225.47763061523438,
          232.85960388183594,
          239.72764587402344,
          245.33421325683594,
          229.82272338867188,
          230.4300994873047,
          228.65469360351562,
          221.0858154296875,
          218.09564208984375,
          221.1792449951172,
          222.8144989013672,
          210.33987426757812,
          208.564453125,
          211.9751434326172,
          210.80709838867188,
          207.86366271972656,
          211.69480895996094,
          214.731689453125,
          213.7505340576172,
          215.7128448486328,
          214.9185791015625,
          217.62841796875,
          222.48745727539062,
          220.01119995117188,
          223.795654296875,
          221.9268035888672,
          215.75955200195312,
          216.41368103027344,
          212.76939392089844,
          216.1333465576172,
          209.31201171875,
          206.97593688964844,
          206.64889526367188,
          207.34971618652344,
          210.6669158935547,
          207.11610412597656,
          203.61199951171875,
          206.18167114257812,
          210.19970703125,
          219.9644775390625,
          220.6186065673828,
          219.2169647216797,
          213.61038208007812,
          209.3587188720703,
          208.28411865234375,
          203.65872192382812,
          198.47264099121094,
          198.5660858154297,
          198.09886169433594,
          203.05133056640625,
          203.70542907714844,
          203.28494262695312,
          205.6210174560547,
          202.53741455078125,
          201.8365936279297
         ],
         "high": [
          190.229770143935,
          191.82833733107898,
          189.3860782905422,
          187.83191533318168,
          184.3683695872931,
          182.94739723678856,
          183.0362099153967,
          183.7466855804095,
          189.1640739847217,
          192.27239051898695,
          194.04856924604283,
          197.15690326365188,
          196.89046565403336,
          194.49263378694903,
          194.936669705334,
          190.71822891225546,
          188.72003030316156,
          188.85321465854932,
          187.3878639306019,
          185.43406762462797,
          193.5601393077795,
          198.48906783273094,
          197.15690977103156,
          205.50498849357217,
          212.1213328706514,
          211.41081865482494,
          212.43213946914898,
          205.23856769590225,
          203.64000643111552,
          200.4872737346801,
          196.26881071493636,
          196.9793058775327,
          193.95976311961525,
          195.9135702430517,
          194.40382613603575,
          192.73854159289374,
          191.42028188445144,
          190.73840934635288,
          192.01119349272346,
          189.1019520620286,
          188.8746761840017,
          191.6475530881466,
          192.73853441345744,
          192.10214275965365,
          190.92024581173501,
          191.64758076450602,
          190.6929790149064,
          190.19293695056166,
          189.10197221338777,
          187.2836776407899,
          189.92021223214905,
          194.46590830972923,
          199.19348370468444,
          205.6029227560689,
          205.83022008665458,
          207.37575299444936,
          202.55730878807574,
          196.3296460469443,
          194.96594385071535,
          195.46596628671773,
          199.37528245377482,
          200.55717615000043,
          200.01169158480846,
          195.420517190381,
          195.64779611667393,
          196.4660510475718,
          196.32966935417133,
          191.82941186919717,
          190.6475015799704,
          191.32934915291486,
          190.23839334084278,
          187.3746007272276,
          188.19280309910462,
          187.55643024499236,
          188.19283125986695,
          187.9655493078508,
          188.1473504309802,
          187.73824560903284,
          188.69284676849594,
          187.01093476434667,
          183.5107275725598,
          183.96532587727498,
          183.64708495751555,
          187.2382225466883,
          187.6927992235777,
          188.6019255971723,
          187.73823782976936,
          186.601811614277,
          193.82950436626643,
          197.2842552986251,
          195.10230617915056,
          192.19306538166157,
          190.28385948428573,
          190.78388233752133,
          192.7839980651129,
          194.01133979874373,
          193.14765220111656,
          194.69319140843044,
          194.1022546742854,
          198.1024846980103,
          199.46619474104497,
          193.14763711794484,
          191.6021064245231,
          190.64751284612666,
          193.10219422072512,
          194.78410891169014,
          195.23868939568015,
          197.53821942908428,
          196.6505114224008,
          194.7816336670705,
          194.734919796152,
          195.62263596240612,
          194.36115035765593,
          192.91278353224402,
          192.49229727808424,
          192.72589330870503,
          192.35214418951279,
          191.23081708438968,
          192.11852231238507,
          192.39886949314908,
          191.83820237010866,
          190.99721731749304,
          190.43655637076256,
          190.34311705514475,
          190.7168910130978,
          190.43656185531506,
          191.7447655592491,
          191.09064914212368,
          189.08164545887436,
          189.26852340928235,
          188.9414671264473,
          191.6980270792469,
          194.82835537997158,
          195.90296563219417,
          195.76281371042043,
          195.5759091502904,
          194.5947630877656,
          199.59396678591534,
          201.2292075287755,
          199.0332912196106,
          196.23001817481537,
          196.4168897272914,
          193.52016896303857,
          193.89392937219688,
          197.07097947219415,
          197.257885492427,
          202.53740035532243,
          201.83657448767502,
          202.91118077315943,
          200.38820667474977,
          196.7906682894497,
          200.1546233664418,
          198.37918513641537,
          199.26688134724768,
          197.6316563641879,
          197.6316668476495,
          196.8841229380416,
          196.4168791823802,
          193.42671798761674,
          194.26768588728922,
          193.28656164033313,
          193.28655276447424,
          194.5480431577072,
          197.72509461119986,
          198.3791897322667,
          197.63164897641352,
          197.39803754661864,
          197.35133654267153,
          200.29476961830616,
          199.03329081337833,
          199.87427355299855,
          201.04230824171634,
          203.004625704245,
          202.95790518532374,
          218.32923726833354,
          221.7399084775387,
          223.65550516671277,
          226.55220931577816,
          229.6825596682366,
          229.49567238338983,
          228.00058053149988,
          225.9915696991541,
          225.7579562159179,
          225.57106027529247,
          224.63661983689673,
          221.45957182808132,
          222.72106550162823,
          221.88007299239948,
          220.89892596371874,
          219.5439975882645,
          219.40384505034856,
          223.79565350466595,
          227.066156429967,
          234.44812964754945,
          244.68013456290205,
          247.9038918621471,
          245.33423040838903,
          232.20550813189485,
          232.06536681748221,
          229.6825558133833,
          221.13253521464117,
          223.32843360953655,
          225.47762613956343,
          220.47841557456798,
          213.28332023597798,
          212.62924063126712,
          214.21775708387233,
          211.97515757952766,
          212.39563043240074,
          215.57266946758594,
          215.7595497673184,
          217.58170202121528,
          216.3202220087466,
          218.6095708627169,
          223.32843731931857,
          223.93579702210388,
          229.16861885723839,
          227.066161145662,
          224.96367915781525,
          217.44154399026178,
          217.44153702086655,
          216.97432662749236,
          214.96530774405358,
          208.98495269566143,
          210.43333423974528,
          208.65792487957955,
          211.32101303357342,
          211.36775732602806,
          207.63004560533557,
          207.39643121108566,
          210.85380418812673,
          220.94563037968615,
          223.28171962388015,
          223.09483787569562,
          221.55302512120946,
          216.97430582918807,
          211.32101144801823,
          208.2374308751984,
          202.07019702301307,
          201.32264744921753,
          200.15460174706135,
          204.12591771571604,
          205.99477623118227,
          204.1259226547397,
          206.13495604063982,
          205.85463918630794,
          203.6120024056161
         ],
         "low": [
          185.87811409391117,
          188.36477554976437,
          187.03263420355955,
          181.61525619685887,
          179.48385126880862,
          177.84085580906265,
          178.72894786316672,
          179.03979713525143,
          182.28134359325884,
          187.92073444505854,
          187.56547932528608,
          190.5850119086934,
          193.160473023145,
          191.56192015662324,
          188.45357957436158,
          185.7448959857813,
          183.7023031532453,
          183.92430299101323,
          182.72536968588312,
          179.7058628698488,
          179.2174225736946,
          192.7164551217119,
          191.56191367538904,
          191.82834349800726,
          201.81943338098165,
          205.59379916475316,
          202.6631028304643,
          198.13381435015043,
          199.3771514842331,
          191.65073879859386,
          193.1604811334781,
          192.93847436020056,
          192.31679702051042,
          193.5157052541854,
          190.05216972635012,
          187.2836772081892,
          188.192817742876,
          187.7382314446628,
          189.82925362957022,
          184.55623206053752,
          185.51084597711343,
          187.73823121333328,
          189.82927629113794,
          188.7383125102646,
          188.37463975975783,
          188.82922848038342,
          186.1472584186035,
          187.101852656969,
          185.0108237760789,
          183.28344929840824,
          186.32909552250362,
          189.6019959265808,
          192.6476348946337,
          195.96600408402628,
          201.37541951542406,
          201.19357098879487,
          195.6932680405065,
          190.0565579313305,
          191.23846147162104,
          191.28389820323642,
          193.37492649037566,
          197.55699811266908,
          191.37482308455537,
          191.05662283258863,
          193.14764998772088,
          193.51133264002695,
          193.2385849043625,
          186.37454707670815,
          187.28367142116502,
          187.28366118814367,
          187.73824719179942,
          185.23810658694296,
          184.1016552056458,
          182.3288516800122,
          185.69268495085905,
          186.101801062596,
          186.41998235787037,
          186.64727552768088,
          185.5108426539258,
          183.64710443774678,
          181.82880557204362,
          181.01060736446564,
          181.37422499517007,
          183.7380261239188,
          184.51079483029494,
          186.37452550585797,
          185.23809180540198,
          184.41987149760374,
          185.4653820671378,
          192.42032916970723,
          190.6020323220245,
          188.69286877095752,
          188.0109992751386,
          188.55646834163528,
          188.87467588600538,
          191.14754151526654,
          191.19299802687405,
          191.19299516366482,
          192.3294265512794,
          194.92048049486917,
          194.78410853298422,
          189.6474410940973,
          189.73835836808894,
          189.10197066803892,
          191.10208004844552,
          192.01121683880996,
          192.28397116268383,
          193.8939532401597,
          194.1275568564222,
          191.74474079738548,
          193.42672542411952,
          193.47344729945493,
          191.55786453518974,
          189.22179337727536,
          189.12834851555587,
          190.95048472213028,
          190.24967971735356,
          189.26852547880125,
          190.38982373103693,
          190.0160876420958,
          189.82917224202362,
          189.26853280694186,
          188.89474058663473,
          188.98819833652055,
          189.40868236293147,
          188.98819459514854,
          189.03492804426654,
          188.56769476793613,
          187.72671249237538,
          187.77343188572974,
          188.14721134172643,
          188.4742511685288,
          189.59554972402074,
          193.61361823451452,
          192.81936899277636,
          192.86605765092608,
          192.35214006880543,
          192.95951761966333,
          196.9775544876392,
          194.3144239517212,
          193.84722224532837,
          192.1652367270489,
          191.1840974606274,
          191.9783479412074,
          192.91277519235524,
          194.45459965932713,
          193.33327288270368,
          198.6595229999648,
          198.75297602720298,
          194.87508374104405,
          193.84720965308364,
          194.68822406249453,
          195.4824509117653,
          196.69720292424682,
          195.1087019005503,
          194.68822219364418,
          193.14640816272708,
          192.49228210756493,
          191.27752938054903,
          192.49227738172775,
          190.9504901400064,
          191.46440567129457,
          192.49230296795184,
          193.66032455653286,
          195.57590400149962,
          195.29557747551027,
          195.99639467646514,
          195.3423205617965,
          196.37015821897108,
          195.94967359701425,
          196.74394627106813,
          197.91198097646677,
          200.15461544915226,
          201.18249640763733,
          202.11690957009296,
          214.07759684906927,
          215.1521986691072,
          216.50710195013636,
          224.91696796101257,
          225.85139224842268,
          222.11367744481544,
          220.05794219980856,
          220.80548176775784,
          220.24482006116773,
          219.82431846227587,
          217.62840897501343,
          219.96448968804316,
          219.12351141473812,
          215.47925122958785,
          217.0677674917523,
          216.03989628096997,
          216.50710744910634,
          222.3940132935479,
          224.40302221422291,
          233.93420566511543,
          240.47520173123687,
          228.98174330780304,
          226.45877791965657,
          227.15961628054058,
          218.3759638983791,
          215.38580469717056,
          217.3480963207815,
          220.71203453171196,
          209.45215573021068,
          207.7234731187161,
          207.9103731310254,
          209.77922122281063,
          207.16284119049064,
          209.3120131020158,
          210.90052659113957,
          212.90955405314884,
          212.30217195372055,
          213.56366047626764,
          214.12431067476035,
          217.8153142352375,
          219.59070995397346,
          220.19809840967983,
          220.80549206448913,
          214.49808198218548,
          214.1243194313115,
          212.06857245590322,
          210.94726477138832,
          208.47103166067973,
          205.76117684632123,
          205.57430799337018,
          206.13497032202486,
          206.78904307481986,
          206.83578693817617,
          203.23823375064967,
          203.7988895468799,
          206.50871697764322,
          208.37756908685932,
          218.42269357043375,
          218.7964604269374,
          212.6292292057004,
          208.7513317613827,
          206.3218272470107,
          202.5374103926812,
          196.0431350386009,
          197.211167140339,
          197.25788166402742,
          199.22016773641334,
          202.25706193618873,
          201.5095197508222,
          203.70543596346405,
          202.1169245002497,
          201.369379290828
         ],
         "open": [
          186.41096246976048,
          190.05214902245788,
          188.67560025728133,
          187.78750791481679,
          183.03622822770643,
          181.48204729106814,
          181.17120677806713,
          180.2831236016626,
          184.2351482199417,
          188.27596669757614,
          190.8514249272134,
          193.95975887131232,
          196.26880247409213,
          194.0485866778464,
          194.49262262172277,
          190.05215826413348,
          188.27598317303648,
          184.72358230162956,
          185.83369918236232,
          185.21204407947187,
          181.171227215773,
          195.380737911413,
          196.71286267695265,
          191.9171583367901,
          206.17109011039307,
          210.92236415390443,
          208.34691409644464,
          203.37356452214576,
          203.37357545607742,
          200.4872737346801,
          194.0041678810542,
          194.53704670841623,
          193.24929861797085,
          193.78213620308622,
          194.35943226447714,
          192.73854159289374,
          189.10196178994306,
          190.10201133628195,
          190.46565160028698,
          188.42009406180495,
          186.78364209676715,
          188.1928032017433,
          192.73853441345744,
          189.8292826083857,
          189.10195775638516,
          190.6475166966075,
          189.73837491519512,
          190.1020308668899,
          189.10197221338777,
          187.1473115798323,
          187.6473517991533,
          192.92036618678895,
          193.6476989829577,
          199.10254830335884,
          203.01188168100768,
          204.55740103126615,
          200.9208466292773,
          195.60232806496848,
          194.784117810444,
          193.87496423554677,
          194.60227644230076,
          200.01168418959952,
          197.82975140740368,
          194.37500704752264,
          193.3749359994439,
          195.32962089082378,
          194.32955507062218,
          190.9202677371157,
          188.1928154571901,
          190.01109314719432,
          189.1019632730958,
          186.37453668870336,
          187.46548514355803,
          183.64710784799786,
          185.69268495085905,
          187.10186515686107,
          186.64726836077622,
          187.28367358576642,
          188.28373472825288,
          185.37447264338414,
          182.91977563098848,
          182.919801772356,
          183.14705299131228,
          183.9198521674173,
          184.51079483029494,
          188.32917961462758,
          185.37445785775643,
          185.3744616283752,
          186.37452609687867,
          197.10242926638568,
          194.6477341832741,
          190.96572911781936,
          189.51108146420057,
          188.7383082475798,
          190.465677969281,
          193.64768771820104,
          192.55671411283973,
          191.82939321976428,
          193.19311062428875,
          195.46597247866833,
          198.1933986473305,
          191.3748091191196,
          191.6021064245231,
          190.4656868026642,
          191.28390608730047,
          192.92036087106987,
          194.55683134191176,
          195.01526481688646,
          196.51035282472142,
          194.31441937942665,
          193.9406640196499,
          193.47344729945493,
          193.37999746814296,
          192.49229350972212,
          189.78245996144977,
          192.58573472596171,
          192.1652470520544,
          191.04393420646457,
          190.6234308767192,
          192.39886949314908,
          190.24967653602363,
          190.90378300403768,
          189.59556205444304,
          189.96935129078287,
          189.6890138064135,
          189.9226232458044,
          189.2218109318084,
          190.1562205399617,
          188.75458972387466,
          188.75458480692055,
          188.7545842511159,
          188.6144240174944,
          190.99719256848098,
          194.0808325711124,
          193.239859058404,
          194.5480319853162,
          193.42672729492188,
          193.42673194804024,
          199.96772319782602,
          198.09886262233542,
          194.6414923079073,
          195.38902681774582,
          192.58574036207412,
          192.91277651649511,
          193.89392804132245,
          197.07098836362107,
          194.9218129195407,
          201.2759116330209,
          200.9021648281777,
          199.96771666425502,
          196.08984684149334,
          196.4636328774688,
          196.08983802764263,
          197.53818288665713,
          196.97755917113363,
          195.85625804971775,
          193.42673962252576,
          195.76278204628568,
          193.42671798761674,
          192.8660430908203,
          192.8660573636752,
          191.55785423031597,
          192.49230296795184,
          194.4078702773996,
          197.1644297306179,
          195.29557747551027,
          195.99639467646514,
          197.1644536562588,
          197.07097964624543,
          198.33246936685237,
          197.21116057508004,
          199.36034816283546,
          200.80871265730883,
          202.86447087285342,
          202.72428245841144,
          217.72186266680205,
          215.85302016314338,
          219.54399487463272,
          227.5333709716797,
          228.93500951393364,
          228.00058053149988,
          224.0759881574422,
          224.12270616046638,
          220.5251514952267,
          224.169405557487,
          219.77759754482594,
          220.52515255886533,
          220.89892008963886,
          219.4038486867428,
          217.72186466269432,
          219.35712076722538,
          216.7874388855219,
          222.95467617321793,
          226.64565940544978,
          236.6440429012577,
          243.88586035862312,
          244.25964316525113,
          229.82271233965616,
          231.7383110783861,
          228.65467863629232,
          218.7497535540922,
          218.7497392095443,
          224.49647324874118,
          219.6841598546185,
          210.2464273958162,
          209.45217468914666,
          213.04972133096135,
          211.18088747642673,
          210.1062831407473,
          214.63824089229666,
          214.77841118152145,
          212.53577910029335,
          215.29234484017866,
          216.03989218045785,
          218.60956999711414,
          223.3751484452554,
          220.52515412969728,
          224.26287520559208,
          222.30055201900277,
          214.1243194313115,
          217.20792986586815,
          212.11530056746466,
          213.89070627179794,
          207.44315119413974,
          207.44316533876446,
          207.443164756831,
          207.34969165558667,
          210.24644580007757,
          207.11610699017822,
          204.54642104296207,
          206.50871697764322,
          208.37756908685932,
          220.7120408759927,
          222.39401639545784,
          219.59071937245395,
          214.91856587679874,
          211.1808528684402,
          208.19070659093194,
          202.07019702301307,
          199.96772877412684,
          199.96771888013154,
          199.87426488200404,
          203.70542907714844,
          204.07919837358517,
          203.70543596346405,
          205.57430773320357,
          202.39725653575172
         ],
         "type": "candlestick",
         "x": [
          "2021-01-01T00:00:00+05:30",
          "2021-01-04T00:00:00+05:30",
          "2021-01-05T00:00:00+05:30",
          "2021-01-06T00:00:00+05:30",
          "2021-01-07T00:00:00+05:30",
          "2021-01-08T00:00:00+05:30",
          "2021-01-11T00:00:00+05:30",
          "2021-01-12T00:00:00+05:30",
          "2021-01-13T00:00:00+05:30",
          "2021-01-14T00:00:00+05:30",
          "2021-01-15T00:00:00+05:30",
          "2021-01-18T00:00:00+05:30",
          "2021-01-19T00:00:00+05:30",
          "2021-01-20T00:00:00+05:30",
          "2021-01-21T00:00:00+05:30",
          "2021-01-22T00:00:00+05:30",
          "2021-01-25T00:00:00+05:30",
          "2021-01-27T00:00:00+05:30",
          "2021-01-28T00:00:00+05:30",
          "2021-01-29T00:00:00+05:30",
          "2021-02-01T00:00:00+05:30",
          "2021-02-02T00:00:00+05:30",
          "2021-02-03T00:00:00+05:30",
          "2021-02-04T00:00:00+05:30",
          "2021-02-05T00:00:00+05:30",
          "2021-02-08T00:00:00+05:30",
          "2021-02-09T00:00:00+05:30",
          "2021-02-10T00:00:00+05:30",
          "2021-02-11T00:00:00+05:30",
          "2021-02-12T00:00:00+05:30",
          "2021-02-15T00:00:00+05:30",
          "2021-02-16T00:00:00+05:30",
          "2021-02-17T00:00:00+05:30",
          "2021-02-18T00:00:00+05:30",
          "2021-02-19T00:00:00+05:30",
          "2021-02-22T00:00:00+05:30",
          "2021-02-23T00:00:00+05:30",
          "2021-02-24T00:00:00+05:30",
          "2021-02-25T00:00:00+05:30",
          "2021-02-26T00:00:00+05:30",
          "2021-03-01T00:00:00+05:30",
          "2021-03-02T00:00:00+05:30",
          "2021-03-03T00:00:00+05:30",
          "2021-03-04T00:00:00+05:30",
          "2021-03-05T00:00:00+05:30",
          "2021-03-08T00:00:00+05:30",
          "2021-03-09T00:00:00+05:30",
          "2021-03-10T00:00:00+05:30",
          "2021-03-12T00:00:00+05:30",
          "2021-03-15T00:00:00+05:30",
          "2021-03-16T00:00:00+05:30",
          "2021-03-17T00:00:00+05:30",
          "2021-03-18T00:00:00+05:30",
          "2021-03-19T00:00:00+05:30",
          "2021-03-22T00:00:00+05:30",
          "2021-03-23T00:00:00+05:30",
          "2021-03-24T00:00:00+05:30",
          "2021-03-25T00:00:00+05:30",
          "2021-03-26T00:00:00+05:30",
          "2021-03-30T00:00:00+05:30",
          "2021-03-31T00:00:00+05:30",
          "2021-04-01T00:00:00+05:30",
          "2021-04-05T00:00:00+05:30",
          "2021-04-06T00:00:00+05:30",
          "2021-04-07T00:00:00+05:30",
          "2021-04-08T00:00:00+05:30",
          "2021-04-09T00:00:00+05:30",
          "2021-04-12T00:00:00+05:30",
          "2021-04-13T00:00:00+05:30",
          "2021-04-15T00:00:00+05:30",
          "2021-04-16T00:00:00+05:30",
          "2021-04-19T00:00:00+05:30",
          "2021-04-20T00:00:00+05:30",
          "2021-04-22T00:00:00+05:30",
          "2021-04-23T00:00:00+05:30",
          "2021-04-26T00:00:00+05:30",
          "2021-04-27T00:00:00+05:30",
          "2021-04-28T00:00:00+05:30",
          "2021-04-29T00:00:00+05:30",
          "2021-04-30T00:00:00+05:30",
          "2021-05-03T00:00:00+05:30",
          "2021-05-04T00:00:00+05:30",
          "2021-05-05T00:00:00+05:30",
          "2021-05-06T00:00:00+05:30",
          "2021-05-07T00:00:00+05:30",
          "2021-05-10T00:00:00+05:30",
          "2021-05-11T00:00:00+05:30",
          "2021-05-12T00:00:00+05:30",
          "2021-05-14T00:00:00+05:30",
          "2021-05-17T00:00:00+05:30",
          "2021-05-18T00:00:00+05:30",
          "2021-05-19T00:00:00+05:30",
          "2021-05-20T00:00:00+05:30",
          "2021-05-21T00:00:00+05:30",
          "2021-05-24T00:00:00+05:30",
          "2021-05-25T00:00:00+05:30",
          "2021-05-26T00:00:00+05:30",
          "2021-05-27T00:00:00+05:30",
          "2021-05-28T00:00:00+05:30",
          "2021-05-31T00:00:00+05:30",
          "2021-06-01T00:00:00+05:30",
          "2021-06-02T00:00:00+05:30",
          "2021-06-03T00:00:00+05:30",
          "2021-06-04T00:00:00+05:30",
          "2021-06-07T00:00:00+05:30",
          "2021-06-08T00:00:00+05:30",
          "2021-06-09T00:00:00+05:30",
          "2021-06-10T00:00:00+05:30",
          "2021-06-11T00:00:00+05:30",
          "2021-06-14T00:00:00+05:30",
          "2021-06-15T00:00:00+05:30",
          "2021-06-16T00:00:00+05:30",
          "2021-06-17T00:00:00+05:30",
          "2021-06-18T00:00:00+05:30",
          "2021-06-21T00:00:00+05:30",
          "2021-06-22T00:00:00+05:30",
          "2021-06-23T00:00:00+05:30",
          "2021-06-24T00:00:00+05:30",
          "2021-06-25T00:00:00+05:30",
          "2021-06-28T00:00:00+05:30",
          "2021-06-29T00:00:00+05:30",
          "2021-06-30T00:00:00+05:30",
          "2021-07-01T00:00:00+05:30",
          "2021-07-02T00:00:00+05:30",
          "2021-07-05T00:00:00+05:30",
          "2021-07-06T00:00:00+05:30",
          "2021-07-07T00:00:00+05:30",
          "2021-07-08T00:00:00+05:30",
          "2021-07-09T00:00:00+05:30",
          "2021-07-12T00:00:00+05:30",
          "2021-07-13T00:00:00+05:30",
          "2021-07-14T00:00:00+05:30",
          "2021-07-15T00:00:00+05:30",
          "2021-07-16T00:00:00+05:30",
          "2021-07-19T00:00:00+05:30",
          "2021-07-20T00:00:00+05:30",
          "2021-07-22T00:00:00+05:30",
          "2021-07-23T00:00:00+05:30",
          "2021-07-26T00:00:00+05:30",
          "2021-07-27T00:00:00+05:30",
          "2021-07-28T00:00:00+05:30",
          "2021-07-29T00:00:00+05:30",
          "2021-07-30T00:00:00+05:30",
          "2021-08-02T00:00:00+05:30",
          "2021-08-03T00:00:00+05:30",
          "2021-08-04T00:00:00+05:30",
          "2021-08-05T00:00:00+05:30",
          "2021-08-06T00:00:00+05:30",
          "2021-08-09T00:00:00+05:30",
          "2021-08-10T00:00:00+05:30",
          "2021-08-11T00:00:00+05:30",
          "2021-08-12T00:00:00+05:30",
          "2021-08-13T00:00:00+05:30",
          "2021-08-16T00:00:00+05:30",
          "2021-08-17T00:00:00+05:30",
          "2021-08-18T00:00:00+05:30",
          "2021-08-20T00:00:00+05:30",
          "2021-08-23T00:00:00+05:30",
          "2021-08-24T00:00:00+05:30",
          "2021-08-25T00:00:00+05:30",
          "2021-08-26T00:00:00+05:30",
          "2021-08-27T00:00:00+05:30",
          "2021-08-30T00:00:00+05:30",
          "2021-08-31T00:00:00+05:30",
          "2021-09-01T00:00:00+05:30",
          "2021-09-02T00:00:00+05:30",
          "2021-09-03T00:00:00+05:30",
          "2021-09-06T00:00:00+05:30",
          "2021-09-07T00:00:00+05:30",
          "2021-09-08T00:00:00+05:30",
          "2021-09-09T00:00:00+05:30",
          "2021-09-13T00:00:00+05:30",
          "2021-09-14T00:00:00+05:30",
          "2021-09-15T00:00:00+05:30",
          "2021-09-16T00:00:00+05:30",
          "2021-09-17T00:00:00+05:30",
          "2021-09-20T00:00:00+05:30",
          "2021-09-21T00:00:00+05:30",
          "2021-09-22T00:00:00+05:30",
          "2021-09-23T00:00:00+05:30",
          "2021-09-24T00:00:00+05:30",
          "2021-09-27T00:00:00+05:30",
          "2021-09-28T00:00:00+05:30",
          "2021-09-29T00:00:00+05:30",
          "2021-09-30T00:00:00+05:30",
          "2021-10-01T00:00:00+05:30",
          "2021-10-04T00:00:00+05:30",
          "2021-10-05T00:00:00+05:30",
          "2021-10-06T00:00:00+05:30",
          "2021-10-07T00:00:00+05:30",
          "2021-10-08T00:00:00+05:30",
          "2021-10-11T00:00:00+05:30",
          "2021-10-12T00:00:00+05:30",
          "2021-10-13T00:00:00+05:30",
          "2021-10-14T00:00:00+05:30",
          "2021-10-18T00:00:00+05:30",
          "2021-10-19T00:00:00+05:30",
          "2021-10-20T00:00:00+05:30",
          "2021-10-21T00:00:00+05:30",
          "2021-10-22T00:00:00+05:30",
          "2021-10-25T00:00:00+05:30",
          "2021-10-26T00:00:00+05:30",
          "2021-10-27T00:00:00+05:30",
          "2021-10-28T00:00:00+05:30",
          "2021-10-29T00:00:00+05:30",
          "2021-11-01T00:00:00+05:30",
          "2021-11-02T00:00:00+05:30",
          "2021-11-03T00:00:00+05:30",
          "2021-11-04T00:00:00+05:30",
          "2021-11-08T00:00:00+05:30",
          "2021-11-09T00:00:00+05:30",
          "2021-11-10T00:00:00+05:30",
          "2021-11-11T00:00:00+05:30",
          "2021-11-12T00:00:00+05:30",
          "2021-11-15T00:00:00+05:30",
          "2021-11-16T00:00:00+05:30",
          "2021-11-17T00:00:00+05:30",
          "2021-11-18T00:00:00+05:30",
          "2021-11-22T00:00:00+05:30",
          "2021-11-23T00:00:00+05:30",
          "2021-11-24T00:00:00+05:30",
          "2021-11-25T00:00:00+05:30",
          "2021-11-26T00:00:00+05:30",
          "2021-11-29T00:00:00+05:30",
          "2021-11-30T00:00:00+05:30",
          "2021-12-01T00:00:00+05:30",
          "2021-12-02T00:00:00+05:30",
          "2021-12-03T00:00:00+05:30",
          "2021-12-06T00:00:00+05:30",
          "2021-12-07T00:00:00+05:30",
          "2021-12-08T00:00:00+05:30",
          "2021-12-09T00:00:00+05:30",
          "2021-12-10T00:00:00+05:30",
          "2021-12-13T00:00:00+05:30",
          "2021-12-14T00:00:00+05:30",
          "2021-12-15T00:00:00+05:30",
          "2021-12-16T00:00:00+05:30",
          "2021-12-17T00:00:00+05:30",
          "2021-12-20T00:00:00+05:30",
          "2021-12-21T00:00:00+05:30",
          "2021-12-22T00:00:00+05:30",
          "2021-12-23T00:00:00+05:30",
          "2021-12-24T00:00:00+05:30",
          "2021-12-27T00:00:00+05:30",
          "2021-12-28T00:00:00+05:30",
          "2021-12-29T00:00:00+05:30",
          "2021-12-30T00:00:00+05:30"
         ]
        }
       ],
       "layout": {
        "shapes": [
         {
          "line": {
           "color": "purple",
           "dash": "dash",
           "width": 3
          },
          "type": "line",
          "x0": "2021-01-01T00:00:00+05:30",
          "x1": "2021-01-01T00:00:00+05:30",
          "xref": "x",
          "y0": 0,
          "y1": 1,
          "yref": "y domain"
         },
         {
          "line": {
           "color": "purple",
           "dash": "dash",
           "width": 3
          },
          "type": "line",
          "x0": "2021-01-04T00:00:00+05:30",
          "x1": "2021-01-04T00:00:00+05:30",
          "xref": "x",
          "y0": 0,
          "y1": 1,
          "yref": "y domain"
         },
         {
          "line": {
           "color": "purple",
           "dash": "dash",
           "width": 3
          },
          "type": "line",
          "x0": "2021-01-05T00:00:00+05:30",
          "x1": "2021-01-05T00:00:00+05:30",
          "xref": "x",
          "y0": 0,
          "y1": 1,
          "yref": "y domain"
         },
         {
          "line": {
           "color": "purple",
           "dash": "dash",
           "width": 3
          },
          "type": "line",
          "x0": "2021-01-14T00:00:00+05:30",
          "x1": "2021-01-14T00:00:00+05:30",
          "xref": "x",
          "y0": 0,
          "y1": 1,
          "yref": "y domain"
         },
         {
          "line": {
           "color": "purple",
           "dash": "dash",
           "width": 3
          },
          "type": "line",
          "x0": "2021-01-15T00:00:00+05:30",
          "x1": "2021-01-15T00:00:00+05:30",
          "xref": "x",
          "y0": 0,
          "y1": 1,
          "yref": "y domain"
         },
         {
          "line": {
           "color": "purple",
           "dash": "dash",
           "width": 3
          },
          "type": "line",
          "x0": "2021-01-19T00:00:00+05:30",
          "x1": "2021-01-19T00:00:00+05:30",
          "xref": "x",
          "y0": 0,
          "y1": 1,
          "yref": "y domain"
         },
         {
          "line": {
           "color": "purple",
           "dash": "dash",
           "width": 3
          },
          "type": "line",
          "x0": "2021-01-20T00:00:00+05:30",
          "x1": "2021-01-20T00:00:00+05:30",
          "xref": "x",
          "y0": 0,
          "y1": 1,
          "yref": "y domain"
         },
         {
          "line": {
           "color": "purple",
           "dash": "dash",
           "width": 3
          },
          "type": "line",
          "x0": "2021-01-21T00:00:00+05:30",
          "x1": "2021-01-21T00:00:00+05:30",
          "xref": "x",
          "y0": 0,
          "y1": 1,
          "yref": "y domain"
         },
         {
          "line": {
           "color": "purple",
           "dash": "dash",
           "width": 3
          },
          "type": "line",
          "x0": "2021-01-22T00:00:00+05:30",
          "x1": "2021-01-22T00:00:00+05:30",
          "xref": "x",
          "y0": 0,
          "y1": 1,
          "yref": "y domain"
         },
         {
          "line": {
           "color": "purple",
           "dash": "dash",
           "width": 3
          },
          "type": "line",
          "x0": "2021-02-05T00:00:00+05:30",
          "x1": "2021-02-05T00:00:00+05:30",
          "xref": "x",
          "y0": 0,
          "y1": 1,
          "yref": "y domain"
         },
         {
          "line": {
           "color": "purple",
           "dash": "dash",
           "width": 3
          },
          "type": "line",
          "x0": "2021-02-08T00:00:00+05:30",
          "x1": "2021-02-08T00:00:00+05:30",
          "xref": "x",
          "y0": 0,
          "y1": 1,
          "yref": "y domain"
         },
         {
          "line": {
           "color": "purple",
           "dash": "dash",
           "width": 3
          },
          "type": "line",
          "x0": "2021-02-09T00:00:00+05:30",
          "x1": "2021-02-09T00:00:00+05:30",
          "xref": "x",
          "y0": 0,
          "y1": 1,
          "yref": "y domain"
         },
         {
          "line": {
           "color": "purple",
           "dash": "dash",
           "width": 3
          },
          "type": "line",
          "x0": "2021-02-10T00:00:00+05:30",
          "x1": "2021-02-10T00:00:00+05:30",
          "xref": "x",
          "y0": 0,
          "y1": 1,
          "yref": "y domain"
         },
         {
          "line": {
           "color": "purple",
           "dash": "dash",
           "width": 3
          },
          "type": "line",
          "x0": "2021-02-11T00:00:00+05:30",
          "x1": "2021-02-11T00:00:00+05:30",
          "xref": "x",
          "y0": 0,
          "y1": 1,
          "yref": "y domain"
         },
         {
          "line": {
           "color": "purple",
           "dash": "dash",
           "width": 3
          },
          "type": "line",
          "x0": "2021-07-20T00:00:00+05:30",
          "x1": "2021-07-20T00:00:00+05:30",
          "xref": "x",
          "y0": 0,
          "y1": 1,
          "yref": "y domain"
         },
         {
          "line": {
           "color": "purple",
           "dash": "dash",
           "width": 3
          },
          "type": "line",
          "x0": "2021-08-05T00:00:00+05:30",
          "x1": "2021-08-05T00:00:00+05:30",
          "xref": "x",
          "y0": 0,
          "y1": 1,
          "yref": "y domain"
         },
         {
          "line": {
           "color": "purple",
           "dash": "dash",
           "width": 3
          },
          "type": "line",
          "x0": "2021-08-06T00:00:00+05:30",
          "x1": "2021-08-06T00:00:00+05:30",
          "xref": "x",
          "y0": 0,
          "y1": 1,
          "yref": "y domain"
         },
         {
          "line": {
           "color": "purple",
           "dash": "dash",
           "width": 3
          },
          "type": "line",
          "x0": "2021-08-09T00:00:00+05:30",
          "x1": "2021-08-09T00:00:00+05:30",
          "xref": "x",
          "y0": 0,
          "y1": 1,
          "yref": "y domain"
         },
         {
          "line": {
           "color": "purple",
           "dash": "dash",
           "width": 3
          },
          "type": "line",
          "x0": "2021-08-10T00:00:00+05:30",
          "x1": "2021-08-10T00:00:00+05:30",
          "xref": "x",
          "y0": 0,
          "y1": 1,
          "yref": "y domain"
         },
         {
          "line": {
           "color": "purple",
           "dash": "dash",
           "width": 3
          },
          "type": "line",
          "x0": "2021-09-13T00:00:00+05:30",
          "x1": "2021-09-13T00:00:00+05:30",
          "xref": "x",
          "y0": 0,
          "y1": 1,
          "yref": "y domain"
         },
         {
          "line": {
           "color": "purple",
           "dash": "dash",
           "width": 3
          },
          "type": "line",
          "x0": "2021-09-14T00:00:00+05:30",
          "x1": "2021-09-14T00:00:00+05:30",
          "xref": "x",
          "y0": 0,
          "y1": 1,
          "yref": "y domain"
         },
         {
          "line": {
           "color": "purple",
           "dash": "dash",
           "width": 3
          },
          "type": "line",
          "x0": "2021-09-15T00:00:00+05:30",
          "x1": "2021-09-15T00:00:00+05:30",
          "xref": "x",
          "y0": 0,
          "y1": 1,
          "yref": "y domain"
         },
         {
          "line": {
           "color": "purple",
           "dash": "dash",
           "width": 3
          },
          "type": "line",
          "x0": "2021-09-16T00:00:00+05:30",
          "x1": "2021-09-16T00:00:00+05:30",
          "xref": "x",
          "y0": 0,
          "y1": 1,
          "yref": "y domain"
         },
         {
          "line": {
           "color": "purple",
           "dash": "dash",
           "width": 3
          },
          "type": "line",
          "x0": "2021-09-17T00:00:00+05:30",
          "x1": "2021-09-17T00:00:00+05:30",
          "xref": "x",
          "y0": 0,
          "y1": 1,
          "yref": "y domain"
         },
         {
          "line": {
           "color": "purple",
           "dash": "dash",
           "width": 3
          },
          "type": "line",
          "x0": "2021-09-20T00:00:00+05:30",
          "x1": "2021-09-20T00:00:00+05:30",
          "xref": "x",
          "y0": 0,
          "y1": 1,
          "yref": "y domain"
         },
         {
          "line": {
           "color": "purple",
           "dash": "dash",
           "width": 3
          },
          "type": "line",
          "x0": "2021-09-21T00:00:00+05:30",
          "x1": "2021-09-21T00:00:00+05:30",
          "xref": "x",
          "y0": 0,
          "y1": 1,
          "yref": "y domain"
         },
         {
          "line": {
           "color": "purple",
           "dash": "dash",
           "width": 3
          },
          "type": "line",
          "x0": "2021-09-22T00:00:00+05:30",
          "x1": "2021-09-22T00:00:00+05:30",
          "xref": "x",
          "y0": 0,
          "y1": 1,
          "yref": "y domain"
         },
         {
          "line": {
           "color": "purple",
           "dash": "dash",
           "width": 3
          },
          "type": "line",
          "x0": "2021-09-23T00:00:00+05:30",
          "x1": "2021-09-23T00:00:00+05:30",
          "xref": "x",
          "y0": 0,
          "y1": 1,
          "yref": "y domain"
         },
         {
          "line": {
           "color": "purple",
           "dash": "dash",
           "width": 3
          },
          "type": "line",
          "x0": "2021-09-24T00:00:00+05:30",
          "x1": "2021-09-24T00:00:00+05:30",
          "xref": "x",
          "y0": 0,
          "y1": 1,
          "yref": "y domain"
         },
         {
          "line": {
           "color": "purple",
           "dash": "dash",
           "width": 3
          },
          "type": "line",
          "x0": "2021-09-27T00:00:00+05:30",
          "x1": "2021-09-27T00:00:00+05:30",
          "xref": "x",
          "y0": 0,
          "y1": 1,
          "yref": "y domain"
         },
         {
          "line": {
           "color": "purple",
           "dash": "dash",
           "width": 3
          },
          "type": "line",
          "x0": "2021-09-28T00:00:00+05:30",
          "x1": "2021-09-28T00:00:00+05:30",
          "xref": "x",
          "y0": 0,
          "y1": 1,
          "yref": "y domain"
         },
         {
          "line": {
           "color": "purple",
           "dash": "dash",
           "width": 3
          },
          "type": "line",
          "x0": "2021-09-29T00:00:00+05:30",
          "x1": "2021-09-29T00:00:00+05:30",
          "xref": "x",
          "y0": 0,
          "y1": 1,
          "yref": "y domain"
         },
         {
          "line": {
           "color": "purple",
           "dash": "dash",
           "width": 3
          },
          "type": "line",
          "x0": "2021-09-30T00:00:00+05:30",
          "x1": "2021-09-30T00:00:00+05:30",
          "xref": "x",
          "y0": 0,
          "y1": 1,
          "yref": "y domain"
         },
         {
          "line": {
           "color": "purple",
           "dash": "dash",
           "width": 3
          },
          "type": "line",
          "x0": "2021-10-01T00:00:00+05:30",
          "x1": "2021-10-01T00:00:00+05:30",
          "xref": "x",
          "y0": 0,
          "y1": 1,
          "yref": "y domain"
         },
         {
          "line": {
           "color": "purple",
           "dash": "dash",
           "width": 3
          },
          "type": "line",
          "x0": "2021-10-04T00:00:00+05:30",
          "x1": "2021-10-04T00:00:00+05:30",
          "xref": "x",
          "y0": 0,
          "y1": 1,
          "yref": "y domain"
         },
         {
          "line": {
           "color": "purple",
           "dash": "dash",
           "width": 3
          },
          "type": "line",
          "x0": "2021-10-05T00:00:00+05:30",
          "x1": "2021-10-05T00:00:00+05:30",
          "xref": "x",
          "y0": 0,
          "y1": 1,
          "yref": "y domain"
         },
         {
          "line": {
           "color": "purple",
           "dash": "dash",
           "width": 3
          },
          "type": "line",
          "x0": "2021-10-06T00:00:00+05:30",
          "x1": "2021-10-06T00:00:00+05:30",
          "xref": "x",
          "y0": 0,
          "y1": 1,
          "yref": "y domain"
         },
         {
          "line": {
           "color": "purple",
           "dash": "dash",
           "width": 3
          },
          "type": "line",
          "x0": "2021-10-07T00:00:00+05:30",
          "x1": "2021-10-07T00:00:00+05:30",
          "xref": "x",
          "y0": 0,
          "y1": 1,
          "yref": "y domain"
         },
         {
          "line": {
           "color": "purple",
           "dash": "dash",
           "width": 3
          },
          "type": "line",
          "x0": "2021-10-11T00:00:00+05:30",
          "x1": "2021-10-11T00:00:00+05:30",
          "xref": "x",
          "y0": 0,
          "y1": 1,
          "yref": "y domain"
         },
         {
          "line": {
           "color": "purple",
           "dash": "dash",
           "width": 3
          },
          "type": "line",
          "x0": "2021-10-12T00:00:00+05:30",
          "x1": "2021-10-12T00:00:00+05:30",
          "xref": "x",
          "y0": 0,
          "y1": 1,
          "yref": "y domain"
         },
         {
          "line": {
           "color": "purple",
           "dash": "dash",
           "width": 3
          },
          "type": "line",
          "x0": "2021-10-14T00:00:00+05:30",
          "x1": "2021-10-14T00:00:00+05:30",
          "xref": "x",
          "y0": 0,
          "y1": 1,
          "yref": "y domain"
         },
         {
          "line": {
           "color": "purple",
           "dash": "dash",
           "width": 3
          },
          "type": "line",
          "x0": "2021-10-18T00:00:00+05:30",
          "x1": "2021-10-18T00:00:00+05:30",
          "xref": "x",
          "y0": 0,
          "y1": 1,
          "yref": "y domain"
         },
         {
          "line": {
           "color": "purple",
           "dash": "dash",
           "width": 3
          },
          "type": "line",
          "x0": "2021-10-19T00:00:00+05:30",
          "x1": "2021-10-19T00:00:00+05:30",
          "xref": "x",
          "y0": 0,
          "y1": 1,
          "yref": "y domain"
         },
         {
          "line": {
           "color": "purple",
           "dash": "dash",
           "width": 3
          },
          "type": "line",
          "x0": "2021-10-20T00:00:00+05:30",
          "x1": "2021-10-20T00:00:00+05:30",
          "xref": "x",
          "y0": 0,
          "y1": 1,
          "yref": "y domain"
         },
         {
          "line": {
           "color": "orange",
           "dash": "dash",
           "width": 3
          },
          "type": "line",
          "x0": "2021-12-02T00:00:00+05:30",
          "x1": "2021-12-02T00:00:00+05:30",
          "xref": "x",
          "y0": 0,
          "y1": 1,
          "yref": "y domain"
         }
        ],
        "template": {
         "data": {
          "bar": [
           {
            "error_x": {
             "color": "#2a3f5f"
            },
            "error_y": {
             "color": "#2a3f5f"
            },
            "marker": {
             "line": {
              "color": "#E5ECF6",
              "width": 0.5
             },
             "pattern": {
              "fillmode": "overlay",
              "size": 10,
              "solidity": 0.2
             }
            },
            "type": "bar"
           }
          ],
          "barpolar": [
           {
            "marker": {
             "line": {
              "color": "#E5ECF6",
              "width": 0.5
             },
             "pattern": {
              "fillmode": "overlay",
              "size": 10,
              "solidity": 0.2
             }
            },
            "type": "barpolar"
           }
          ],
          "carpet": [
           {
            "aaxis": {
             "endlinecolor": "#2a3f5f",
             "gridcolor": "white",
             "linecolor": "white",
             "minorgridcolor": "white",
             "startlinecolor": "#2a3f5f"
            },
            "baxis": {
             "endlinecolor": "#2a3f5f",
             "gridcolor": "white",
             "linecolor": "white",
             "minorgridcolor": "white",
             "startlinecolor": "#2a3f5f"
            },
            "type": "carpet"
           }
          ],
          "choropleth": [
           {
            "colorbar": {
             "outlinewidth": 0,
             "ticks": ""
            },
            "type": "choropleth"
           }
          ],
          "contour": [
           {
            "colorbar": {
             "outlinewidth": 0,
             "ticks": ""
            },
            "colorscale": [
             [
              0,
              "#0d0887"
             ],
             [
              0.1111111111111111,
              "#46039f"
             ],
             [
              0.2222222222222222,
              "#7201a8"
             ],
             [
              0.3333333333333333,
              "#9c179e"
             ],
             [
              0.4444444444444444,
              "#bd3786"
             ],
             [
              0.5555555555555556,
              "#d8576b"
             ],
             [
              0.6666666666666666,
              "#ed7953"
             ],
             [
              0.7777777777777778,
              "#fb9f3a"
             ],
             [
              0.8888888888888888,
              "#fdca26"
             ],
             [
              1,
              "#f0f921"
             ]
            ],
            "type": "contour"
           }
          ],
          "contourcarpet": [
           {
            "colorbar": {
             "outlinewidth": 0,
             "ticks": ""
            },
            "type": "contourcarpet"
           }
          ],
          "heatmap": [
           {
            "colorbar": {
             "outlinewidth": 0,
             "ticks": ""
            },
            "colorscale": [
             [
              0,
              "#0d0887"
             ],
             [
              0.1111111111111111,
              "#46039f"
             ],
             [
              0.2222222222222222,
              "#7201a8"
             ],
             [
              0.3333333333333333,
              "#9c179e"
             ],
             [
              0.4444444444444444,
              "#bd3786"
             ],
             [
              0.5555555555555556,
              "#d8576b"
             ],
             [
              0.6666666666666666,
              "#ed7953"
             ],
             [
              0.7777777777777778,
              "#fb9f3a"
             ],
             [
              0.8888888888888888,
              "#fdca26"
             ],
             [
              1,
              "#f0f921"
             ]
            ],
            "type": "heatmap"
           }
          ],
          "heatmapgl": [
           {
            "colorbar": {
             "outlinewidth": 0,
             "ticks": ""
            },
            "colorscale": [
             [
              0,
              "#0d0887"
             ],
             [
              0.1111111111111111,
              "#46039f"
             ],
             [
              0.2222222222222222,
              "#7201a8"
             ],
             [
              0.3333333333333333,
              "#9c179e"
             ],
             [
              0.4444444444444444,
              "#bd3786"
             ],
             [
              0.5555555555555556,
              "#d8576b"
             ],
             [
              0.6666666666666666,
              "#ed7953"
             ],
             [
              0.7777777777777778,
              "#fb9f3a"
             ],
             [
              0.8888888888888888,
              "#fdca26"
             ],
             [
              1,
              "#f0f921"
             ]
            ],
            "type": "heatmapgl"
           }
          ],
          "histogram": [
           {
            "marker": {
             "pattern": {
              "fillmode": "overlay",
              "size": 10,
              "solidity": 0.2
             }
            },
            "type": "histogram"
           }
          ],
          "histogram2d": [
           {
            "colorbar": {
             "outlinewidth": 0,
             "ticks": ""
            },
            "colorscale": [
             [
              0,
              "#0d0887"
             ],
             [
              0.1111111111111111,
              "#46039f"
             ],
             [
              0.2222222222222222,
              "#7201a8"
             ],
             [
              0.3333333333333333,
              "#9c179e"
             ],
             [
              0.4444444444444444,
              "#bd3786"
             ],
             [
              0.5555555555555556,
              "#d8576b"
             ],
             [
              0.6666666666666666,
              "#ed7953"
             ],
             [
              0.7777777777777778,
              "#fb9f3a"
             ],
             [
              0.8888888888888888,
              "#fdca26"
             ],
             [
              1,
              "#f0f921"
             ]
            ],
            "type": "histogram2d"
           }
          ],
          "histogram2dcontour": [
           {
            "colorbar": {
             "outlinewidth": 0,
             "ticks": ""
            },
            "colorscale": [
             [
              0,
              "#0d0887"
             ],
             [
              0.1111111111111111,
              "#46039f"
             ],
             [
              0.2222222222222222,
              "#7201a8"
             ],
             [
              0.3333333333333333,
              "#9c179e"
             ],
             [
              0.4444444444444444,
              "#bd3786"
             ],
             [
              0.5555555555555556,
              "#d8576b"
             ],
             [
              0.6666666666666666,
              "#ed7953"
             ],
             [
              0.7777777777777778,
              "#fb9f3a"
             ],
             [
              0.8888888888888888,
              "#fdca26"
             ],
             [
              1,
              "#f0f921"
             ]
            ],
            "type": "histogram2dcontour"
           }
          ],
          "mesh3d": [
           {
            "colorbar": {
             "outlinewidth": 0,
             "ticks": ""
            },
            "type": "mesh3d"
           }
          ],
          "parcoords": [
           {
            "line": {
             "colorbar": {
              "outlinewidth": 0,
              "ticks": ""
             }
            },
            "type": "parcoords"
           }
          ],
          "pie": [
           {
            "automargin": true,
            "type": "pie"
           }
          ],
          "scatter": [
           {
            "fillpattern": {
             "fillmode": "overlay",
             "size": 10,
             "solidity": 0.2
            },
            "type": "scatter"
           }
          ],
          "scatter3d": [
           {
            "line": {
             "colorbar": {
              "outlinewidth": 0,
              "ticks": ""
             }
            },
            "marker": {
             "colorbar": {
              "outlinewidth": 0,
              "ticks": ""
             }
            },
            "type": "scatter3d"
           }
          ],
          "scattercarpet": [
           {
            "marker": {
             "colorbar": {
              "outlinewidth": 0,
              "ticks": ""
             }
            },
            "type": "scattercarpet"
           }
          ],
          "scattergeo": [
           {
            "marker": {
             "colorbar": {
              "outlinewidth": 0,
              "ticks": ""
             }
            },
            "type": "scattergeo"
           }
          ],
          "scattergl": [
           {
            "marker": {
             "colorbar": {
              "outlinewidth": 0,
              "ticks": ""
             }
            },
            "type": "scattergl"
           }
          ],
          "scattermapbox": [
           {
            "marker": {
             "colorbar": {
              "outlinewidth": 0,
              "ticks": ""
             }
            },
            "type": "scattermapbox"
           }
          ],
          "scatterpolar": [
           {
            "marker": {
             "colorbar": {
              "outlinewidth": 0,
              "ticks": ""
             }
            },
            "type": "scatterpolar"
           }
          ],
          "scatterpolargl": [
           {
            "marker": {
             "colorbar": {
              "outlinewidth": 0,
              "ticks": ""
             }
            },
            "type": "scatterpolargl"
           }
          ],
          "scatterternary": [
           {
            "marker": {
             "colorbar": {
              "outlinewidth": 0,
              "ticks": ""
             }
            },
            "type": "scatterternary"
           }
          ],
          "surface": [
           {
            "colorbar": {
             "outlinewidth": 0,
             "ticks": ""
            },
            "colorscale": [
             [
              0,
              "#0d0887"
             ],
             [
              0.1111111111111111,
              "#46039f"
             ],
             [
              0.2222222222222222,
              "#7201a8"
             ],
             [
              0.3333333333333333,
              "#9c179e"
             ],
             [
              0.4444444444444444,
              "#bd3786"
             ],
             [
              0.5555555555555556,
              "#d8576b"
             ],
             [
              0.6666666666666666,
              "#ed7953"
             ],
             [
              0.7777777777777778,
              "#fb9f3a"
             ],
             [
              0.8888888888888888,
              "#fdca26"
             ],
             [
              1,
              "#f0f921"
             ]
            ],
            "type": "surface"
           }
          ],
          "table": [
           {
            "cells": {
             "fill": {
              "color": "#EBF0F8"
             },
             "line": {
              "color": "white"
             }
            },
            "header": {
             "fill": {
              "color": "#C8D4E3"
             },
             "line": {
              "color": "white"
             }
            },
            "type": "table"
           }
          ]
         },
         "layout": {
          "annotationdefaults": {
           "arrowcolor": "#2a3f5f",
           "arrowhead": 0,
           "arrowwidth": 1
          },
          "autotypenumbers": "strict",
          "coloraxis": {
           "colorbar": {
            "outlinewidth": 0,
            "ticks": ""
           }
          },
          "colorscale": {
           "diverging": [
            [
             0,
             "#8e0152"
            ],
            [
             0.1,
             "#c51b7d"
            ],
            [
             0.2,
             "#de77ae"
            ],
            [
             0.3,
             "#f1b6da"
            ],
            [
             0.4,
             "#fde0ef"
            ],
            [
             0.5,
             "#f7f7f7"
            ],
            [
             0.6,
             "#e6f5d0"
            ],
            [
             0.7,
             "#b8e186"
            ],
            [
             0.8,
             "#7fbc41"
            ],
            [
             0.9,
             "#4d9221"
            ],
            [
             1,
             "#276419"
            ]
           ],
           "sequential": [
            [
             0,
             "#0d0887"
            ],
            [
             0.1111111111111111,
             "#46039f"
            ],
            [
             0.2222222222222222,
             "#7201a8"
            ],
            [
             0.3333333333333333,
             "#9c179e"
            ],
            [
             0.4444444444444444,
             "#bd3786"
            ],
            [
             0.5555555555555556,
             "#d8576b"
            ],
            [
             0.6666666666666666,
             "#ed7953"
            ],
            [
             0.7777777777777778,
             "#fb9f3a"
            ],
            [
             0.8888888888888888,
             "#fdca26"
            ],
            [
             1,
             "#f0f921"
            ]
           ],
           "sequentialminus": [
            [
             0,
             "#0d0887"
            ],
            [
             0.1111111111111111,
             "#46039f"
            ],
            [
             0.2222222222222222,
             "#7201a8"
            ],
            [
             0.3333333333333333,
             "#9c179e"
            ],
            [
             0.4444444444444444,
             "#bd3786"
            ],
            [
             0.5555555555555556,
             "#d8576b"
            ],
            [
             0.6666666666666666,
             "#ed7953"
            ],
            [
             0.7777777777777778,
             "#fb9f3a"
            ],
            [
             0.8888888888888888,
             "#fdca26"
            ],
            [
             1,
             "#f0f921"
            ]
           ]
          },
          "colorway": [
           "#636efa",
           "#EF553B",
           "#00cc96",
           "#ab63fa",
           "#FFA15A",
           "#19d3f3",
           "#FF6692",
           "#B6E880",
           "#FF97FF",
           "#FECB52"
          ],
          "font": {
           "color": "#2a3f5f"
          },
          "geo": {
           "bgcolor": "white",
           "lakecolor": "white",
           "landcolor": "#E5ECF6",
           "showlakes": true,
           "showland": true,
           "subunitcolor": "white"
          },
          "hoverlabel": {
           "align": "left"
          },
          "hovermode": "closest",
          "mapbox": {
           "style": "light"
          },
          "paper_bgcolor": "white",
          "plot_bgcolor": "#E5ECF6",
          "polar": {
           "angularaxis": {
            "gridcolor": "white",
            "linecolor": "white",
            "ticks": ""
           },
           "bgcolor": "#E5ECF6",
           "radialaxis": {
            "gridcolor": "white",
            "linecolor": "white",
            "ticks": ""
           }
          },
          "scene": {
           "xaxis": {
            "backgroundcolor": "#E5ECF6",
            "gridcolor": "white",
            "gridwidth": 2,
            "linecolor": "white",
            "showbackground": true,
            "ticks": "",
            "zerolinecolor": "white"
           },
           "yaxis": {
            "backgroundcolor": "#E5ECF6",
            "gridcolor": "white",
            "gridwidth": 2,
            "linecolor": "white",
            "showbackground": true,
            "ticks": "",
            "zerolinecolor": "white"
           },
           "zaxis": {
            "backgroundcolor": "#E5ECF6",
            "gridcolor": "white",
            "gridwidth": 2,
            "linecolor": "white",
            "showbackground": true,
            "ticks": "",
            "zerolinecolor": "white"
           }
          },
          "shapedefaults": {
           "line": {
            "color": "#2a3f5f"
           }
          },
          "ternary": {
           "aaxis": {
            "gridcolor": "white",
            "linecolor": "white",
            "ticks": ""
           },
           "baxis": {
            "gridcolor": "white",
            "linecolor": "white",
            "ticks": ""
           },
           "bgcolor": "#E5ECF6",
           "caxis": {
            "gridcolor": "white",
            "linecolor": "white",
            "ticks": ""
           }
          },
          "title": {
           "x": 0.05
          },
          "xaxis": {
           "automargin": true,
           "gridcolor": "white",
           "linecolor": "white",
           "ticks": "",
           "title": {
            "standoff": 15
           },
           "zerolinecolor": "white",
           "zerolinewidth": 2
          },
          "yaxis": {
           "automargin": true,
           "gridcolor": "white",
           "linecolor": "white",
           "ticks": "",
           "title": {
            "standoff": 15
           },
           "zerolinecolor": "white",
           "zerolinewidth": 2
          }
         }
        },
        "title": {
         "text": "TRADING ALGO - BUY/SELL RECOMMENDATIONS - ITC.NS"
        },
        "xaxis": {
         "rangeslider": {
          "visible": false
         },
         "type": "category"
        }
       }
      },
      "text/html": [
       "<div>                            <div id=\"aeb02fdd-01a0-4d96-b153-92c57bf01e23\" class=\"plotly-graph-div\" style=\"height:525px; width:100%;\"></div>            <script type=\"text/javascript\">                require([\"plotly\"], function(Plotly) {                    window.PLOTLYENV=window.PLOTLYENV || {};                                    if (document.getElementById(\"aeb02fdd-01a0-4d96-b153-92c57bf01e23\")) {                    Plotly.newPlot(                        \"aeb02fdd-01a0-4d96-b153-92c57bf01e23\",                        [{\"close\":[189.9189453125,189.519287109375,187.78750610351562,182.41453552246094,180.1055145263672,178.9509735107422,179.8390655517578,183.3470458984375,187.6099090576172,190.18536376953125,193.4713134765625,195.15869140625,194.35940551757812,193.293701171875,189.7857208251953,187.12144470214844,184.54598999023438,187.0770263671875,183.48025512695312,180.50514221191406,191.78395080566406,193.78216552734375,192.49441528320312,204.21725463867188,208.12490844726562,207.01475524902344,203.3735809326172,202.08583068847656,201.1089324951172,193.1160888671875,194.13739013671875,193.82656860351562,193.38250732421875,194.35940551757812,191.78395080566406,188.23828125,189.55653381347656,189.87472534179688,190.14744567871094,185.32901000976562,188.10189819335938,190.82931518554688,190.87478637695312,190.6475067138672,189.60198974609375,189.1019744873047,188.92015075683594,187.73825073242188,186.55636596679688,186.7836456298828,188.9656219482422,191.4657440185547,197.87521362304688,202.69366455078125,205.46656799316406,202.0117950439453,196.3296661376953,192.3748779296875,191.7384796142578,195.05685424804688,198.64796447753906,200.05714416503906,193.2385711669922,193.32948303222656,194.375,193.87498474121094,193.73861694335938,186.6472930908203,189.7383575439453,187.92005920410156,189.05650329589844,186.92002868652344,185.05625915527344,187.19276428222656,186.6927490234375,186.6472930908203,186.73817443847656,186.8291015625,185.73812866210938,184.19259643554688,182.69248962402344,181.46517944335938,183.10159301757812,184.32896423339844,186.6927490234375,186.8745574951172,185.4653778076172,184.7835235595703,192.9658203125,193.28402709960938,190.9656982421875,188.87469482421875,188.1928253173828,190.0565643310547,192.28396606445312,191.7384796142578,191.4657440185547,191.96575927734375,193.5567626953125,196.9206085205078,195.69325256347656,190.01109313964844,190.0565643310547,189.78382873535156,192.23851013183594,194.23861694335938,193.193115234375,195.575927734375,194.26771545410156,193.70704650878906,193.47344970703125,194.2209930419922,192.1652374267578,191.1373748779297,191.04393005371094,191.65130615234375,190.57672119140625,189.92262268066406,191.60458374023438,190.24969482421875,189.96934509277344,189.40869140625,189.6890106201172,189.12835693359375,190.29638671875,189.2218017578125,190.3898468017578,188.75457763671875,188.147216796875,187.91360473632812,188.6144256591797,190.71688842773438,192.72589111328125,194.26771545410156,194.1275634765625,193.23983764648438,193.42672729492188,198.47264099121094,197.30459594726562,194.96852111816406,195.3890380859375,192.5390167236328,191.51113891601562,193.70704650878906,196.1365509033203,194.92181396484375,201.13575744628906,200.20132446289062,199.78085327148438,196.08984375,194.96852111816406,195.2021484375,197.5849151611328,197.0709686279297,195.4824676513672,195.24887084960938,195.2021484375,192.77261352539062,192.25868225097656,192.8660430908203,191.18409729003906,192.39883422851562,194.3611602783203,197.44476318359375,195.76278686523438,195.99639892578125,196.79066467285156,195.575927734375,197.86524963378906,197.39804077148438,198.70623779296875,200.10787963867188,201.93003845214844,201.8365936279297,215.61940002441406,215.9931640625,218.42269897460938,225.6645050048828,227.5333709716797,226.59893798828125,222.8144989013672,223.04811096191406,222.160400390625,222.48745727539062,220.66529846191406,219.9177703857422,221.0858154296875,219.31039428710938,216.0866241455078,217.67514038085938,216.50711059570312,222.44073486328125,225.47763061523438,232.85960388183594,239.72764587402344,245.33421325683594,229.82272338867188,230.4300994873047,228.65469360351562,221.0858154296875,218.09564208984375,221.1792449951172,222.8144989013672,210.33987426757812,208.564453125,211.9751434326172,210.80709838867188,207.86366271972656,211.69480895996094,214.731689453125,213.7505340576172,215.7128448486328,214.9185791015625,217.62841796875,222.48745727539062,220.01119995117188,223.795654296875,221.9268035888672,215.75955200195312,216.41368103027344,212.76939392089844,216.1333465576172,209.31201171875,206.97593688964844,206.64889526367188,207.34971618652344,210.6669158935547,207.11610412597656,203.61199951171875,206.18167114257812,210.19970703125,219.9644775390625,220.6186065673828,219.2169647216797,213.61038208007812,209.3587188720703,208.28411865234375,203.65872192382812,198.47264099121094,198.5660858154297,198.09886169433594,203.05133056640625,203.70542907714844,203.28494262695312,205.6210174560547,202.53741455078125,201.8365936279297],\"high\":[190.229770143935,191.82833733107898,189.3860782905422,187.83191533318168,184.3683695872931,182.94739723678856,183.0362099153967,183.7466855804095,189.1640739847217,192.27239051898695,194.04856924604283,197.15690326365188,196.89046565403336,194.49263378694903,194.936669705334,190.71822891225546,188.72003030316156,188.85321465854932,187.3878639306019,185.43406762462797,193.5601393077795,198.48906783273094,197.15690977103156,205.50498849357217,212.1213328706514,211.41081865482494,212.43213946914898,205.23856769590225,203.64000643111552,200.4872737346801,196.26881071493636,196.9793058775327,193.95976311961525,195.9135702430517,194.40382613603575,192.73854159289374,191.42028188445144,190.73840934635288,192.01119349272346,189.1019520620286,188.8746761840017,191.6475530881466,192.73853441345744,192.10214275965365,190.92024581173501,191.64758076450602,190.6929790149064,190.19293695056166,189.10197221338777,187.2836776407899,189.92021223214905,194.46590830972923,199.19348370468444,205.6029227560689,205.83022008665458,207.37575299444936,202.55730878807574,196.3296460469443,194.96594385071535,195.46596628671773,199.37528245377482,200.55717615000043,200.01169158480846,195.420517190381,195.64779611667393,196.4660510475718,196.32966935417133,191.82941186919717,190.6475015799704,191.32934915291486,190.23839334084278,187.3746007272276,188.19280309910462,187.55643024499236,188.19283125986695,187.9655493078508,188.1473504309802,187.73824560903284,188.69284676849594,187.01093476434667,183.5107275725598,183.96532587727498,183.64708495751555,187.2382225466883,187.6927992235777,188.6019255971723,187.73823782976936,186.601811614277,193.82950436626643,197.2842552986251,195.10230617915056,192.19306538166157,190.28385948428573,190.78388233752133,192.7839980651129,194.01133979874373,193.14765220111656,194.69319140843044,194.1022546742854,198.1024846980103,199.46619474104497,193.14763711794484,191.6021064245231,190.64751284612666,193.10219422072512,194.78410891169014,195.23868939568015,197.53821942908428,196.6505114224008,194.7816336670705,194.734919796152,195.62263596240612,194.36115035765593,192.91278353224402,192.49229727808424,192.72589330870503,192.35214418951279,191.23081708438968,192.11852231238507,192.39886949314908,191.83820237010866,190.99721731749304,190.43655637076256,190.34311705514475,190.7168910130978,190.43656185531506,191.7447655592491,191.09064914212368,189.08164545887436,189.26852340928235,188.9414671264473,191.6980270792469,194.82835537997158,195.90296563219417,195.76281371042043,195.5759091502904,194.5947630877656,199.59396678591534,201.2292075287755,199.0332912196106,196.23001817481537,196.4168897272914,193.52016896303857,193.89392937219688,197.07097947219415,197.257885492427,202.53740035532243,201.83657448767502,202.91118077315943,200.38820667474977,196.7906682894497,200.1546233664418,198.37918513641537,199.26688134724768,197.6316563641879,197.6316668476495,196.8841229380416,196.4168791823802,193.42671798761674,194.26768588728922,193.28656164033313,193.28655276447424,194.5480431577072,197.72509461119986,198.3791897322667,197.63164897641352,197.39803754661864,197.35133654267153,200.29476961830616,199.03329081337833,199.87427355299855,201.04230824171634,203.004625704245,202.95790518532374,218.32923726833354,221.7399084775387,223.65550516671277,226.55220931577816,229.6825596682366,229.49567238338983,228.00058053149988,225.9915696991541,225.7579562159179,225.57106027529247,224.63661983689673,221.45957182808132,222.72106550162823,221.88007299239948,220.89892596371874,219.5439975882645,219.40384505034856,223.79565350466595,227.066156429967,234.44812964754945,244.68013456290205,247.9038918621471,245.33423040838903,232.20550813189485,232.06536681748221,229.6825558133833,221.13253521464117,223.32843360953655,225.47762613956343,220.47841557456798,213.28332023597798,212.62924063126712,214.21775708387233,211.97515757952766,212.39563043240074,215.57266946758594,215.7595497673184,217.58170202121528,216.3202220087466,218.6095708627169,223.32843731931857,223.93579702210388,229.16861885723839,227.066161145662,224.96367915781525,217.44154399026178,217.44153702086655,216.97432662749236,214.96530774405358,208.98495269566143,210.43333423974528,208.65792487957955,211.32101303357342,211.36775732602806,207.63004560533557,207.39643121108566,210.85380418812673,220.94563037968615,223.28171962388015,223.09483787569562,221.55302512120946,216.97430582918807,211.32101144801823,208.2374308751984,202.07019702301307,201.32264744921753,200.15460174706135,204.12591771571604,205.99477623118227,204.1259226547397,206.13495604063982,205.85463918630794,203.6120024056161],\"low\":[185.87811409391117,188.36477554976437,187.03263420355955,181.61525619685887,179.48385126880862,177.84085580906265,178.72894786316672,179.03979713525143,182.28134359325884,187.92073444505854,187.56547932528608,190.5850119086934,193.160473023145,191.56192015662324,188.45357957436158,185.7448959857813,183.7023031532453,183.92430299101323,182.72536968588312,179.7058628698488,179.2174225736946,192.7164551217119,191.56191367538904,191.82834349800726,201.81943338098165,205.59379916475316,202.6631028304643,198.13381435015043,199.3771514842331,191.65073879859386,193.1604811334781,192.93847436020056,192.31679702051042,193.5157052541854,190.05216972635012,187.2836772081892,188.192817742876,187.7382314446628,189.82925362957022,184.55623206053752,185.51084597711343,187.73823121333328,189.82927629113794,188.7383125102646,188.37463975975783,188.82922848038342,186.1472584186035,187.101852656969,185.0108237760789,183.28344929840824,186.32909552250362,189.6019959265808,192.6476348946337,195.96600408402628,201.37541951542406,201.19357098879487,195.6932680405065,190.0565579313305,191.23846147162104,191.28389820323642,193.37492649037566,197.55699811266908,191.37482308455537,191.05662283258863,193.14764998772088,193.51133264002695,193.2385849043625,186.37454707670815,187.28367142116502,187.28366118814367,187.73824719179942,185.23810658694296,184.1016552056458,182.3288516800122,185.69268495085905,186.101801062596,186.41998235787037,186.64727552768088,185.5108426539258,183.64710443774678,181.82880557204362,181.01060736446564,181.37422499517007,183.7380261239188,184.51079483029494,186.37452550585797,185.23809180540198,184.41987149760374,185.4653820671378,192.42032916970723,190.6020323220245,188.69286877095752,188.0109992751386,188.55646834163528,188.87467588600538,191.14754151526654,191.19299802687405,191.19299516366482,192.3294265512794,194.92048049486917,194.78410853298422,189.6474410940973,189.73835836808894,189.10197066803892,191.10208004844552,192.01121683880996,192.28397116268383,193.8939532401597,194.1275568564222,191.74474079738548,193.42672542411952,193.47344729945493,191.55786453518974,189.22179337727536,189.12834851555587,190.95048472213028,190.24967971735356,189.26852547880125,190.38982373103693,190.0160876420958,189.82917224202362,189.26853280694186,188.89474058663473,188.98819833652055,189.40868236293147,188.98819459514854,189.03492804426654,188.56769476793613,187.72671249237538,187.77343188572974,188.14721134172643,188.4742511685288,189.59554972402074,193.61361823451452,192.81936899277636,192.86605765092608,192.35214006880543,192.95951761966333,196.9775544876392,194.3144239517212,193.84722224532837,192.1652367270489,191.1840974606274,191.9783479412074,192.91277519235524,194.45459965932713,193.33327288270368,198.6595229999648,198.75297602720298,194.87508374104405,193.84720965308364,194.68822406249453,195.4824509117653,196.69720292424682,195.1087019005503,194.68822219364418,193.14640816272708,192.49228210756493,191.27752938054903,192.49227738172775,190.9504901400064,191.46440567129457,192.49230296795184,193.66032455653286,195.57590400149962,195.29557747551027,195.99639467646514,195.3423205617965,196.37015821897108,195.94967359701425,196.74394627106813,197.91198097646677,200.15461544915226,201.18249640763733,202.11690957009296,214.07759684906927,215.1521986691072,216.50710195013636,224.91696796101257,225.85139224842268,222.11367744481544,220.05794219980856,220.80548176775784,220.24482006116773,219.82431846227587,217.62840897501343,219.96448968804316,219.12351141473812,215.47925122958785,217.0677674917523,216.03989628096997,216.50710744910634,222.3940132935479,224.40302221422291,233.93420566511543,240.47520173123687,228.98174330780304,226.45877791965657,227.15961628054058,218.3759638983791,215.38580469717056,217.3480963207815,220.71203453171196,209.45215573021068,207.7234731187161,207.9103731310254,209.77922122281063,207.16284119049064,209.3120131020158,210.90052659113957,212.90955405314884,212.30217195372055,213.56366047626764,214.12431067476035,217.8153142352375,219.59070995397346,220.19809840967983,220.80549206448913,214.49808198218548,214.1243194313115,212.06857245590322,210.94726477138832,208.47103166067973,205.76117684632123,205.57430799337018,206.13497032202486,206.78904307481986,206.83578693817617,203.23823375064967,203.7988895468799,206.50871697764322,208.37756908685932,218.42269357043375,218.7964604269374,212.6292292057004,208.7513317613827,206.3218272470107,202.5374103926812,196.0431350386009,197.211167140339,197.25788166402742,199.22016773641334,202.25706193618873,201.5095197508222,203.70543596346405,202.1169245002497,201.369379290828],\"open\":[186.41096246976048,190.05214902245788,188.67560025728133,187.78750791481679,183.03622822770643,181.48204729106814,181.17120677806713,180.2831236016626,184.2351482199417,188.27596669757614,190.8514249272134,193.95975887131232,196.26880247409213,194.0485866778464,194.49262262172277,190.05215826413348,188.27598317303648,184.72358230162956,185.83369918236232,185.21204407947187,181.171227215773,195.380737911413,196.71286267695265,191.9171583367901,206.17109011039307,210.92236415390443,208.34691409644464,203.37356452214576,203.37357545607742,200.4872737346801,194.0041678810542,194.53704670841623,193.24929861797085,193.78213620308622,194.35943226447714,192.73854159289374,189.10196178994306,190.10201133628195,190.46565160028698,188.42009406180495,186.78364209676715,188.1928032017433,192.73853441345744,189.8292826083857,189.10195775638516,190.6475166966075,189.73837491519512,190.1020308668899,189.10197221338777,187.1473115798323,187.6473517991533,192.92036618678895,193.6476989829577,199.10254830335884,203.01188168100768,204.55740103126615,200.9208466292773,195.60232806496848,194.784117810444,193.87496423554677,194.60227644230076,200.01168418959952,197.82975140740368,194.37500704752264,193.3749359994439,195.32962089082378,194.32955507062218,190.9202677371157,188.1928154571901,190.01109314719432,189.1019632730958,186.37453668870336,187.46548514355803,183.64710784799786,185.69268495085905,187.10186515686107,186.64726836077622,187.28367358576642,188.28373472825288,185.37447264338414,182.91977563098848,182.919801772356,183.14705299131228,183.9198521674173,184.51079483029494,188.32917961462758,185.37445785775643,185.3744616283752,186.37452609687867,197.10242926638568,194.6477341832741,190.96572911781936,189.51108146420057,188.7383082475798,190.465677969281,193.64768771820104,192.55671411283973,191.82939321976428,193.19311062428875,195.46597247866833,198.1933986473305,191.3748091191196,191.6021064245231,190.4656868026642,191.28390608730047,192.92036087106987,194.55683134191176,195.01526481688646,196.51035282472142,194.31441937942665,193.9406640196499,193.47344729945493,193.37999746814296,192.49229350972212,189.78245996144977,192.58573472596171,192.1652470520544,191.04393420646457,190.6234308767192,192.39886949314908,190.24967653602363,190.90378300403768,189.59556205444304,189.96935129078287,189.6890138064135,189.9226232458044,189.2218109318084,190.1562205399617,188.75458972387466,188.75458480692055,188.7545842511159,188.6144240174944,190.99719256848098,194.0808325711124,193.239859058404,194.5480319853162,193.42672729492188,193.42673194804024,199.96772319782602,198.09886262233542,194.6414923079073,195.38902681774582,192.58574036207412,192.91277651649511,193.89392804132245,197.07098836362107,194.9218129195407,201.2759116330209,200.9021648281777,199.96771666425502,196.08984684149334,196.4636328774688,196.08983802764263,197.53818288665713,196.97755917113363,195.85625804971775,193.42673962252576,195.76278204628568,193.42671798761674,192.8660430908203,192.8660573636752,191.55785423031597,192.49230296795184,194.4078702773996,197.1644297306179,195.29557747551027,195.99639467646514,197.1644536562588,197.07097964624543,198.33246936685237,197.21116057508004,199.36034816283546,200.80871265730883,202.86447087285342,202.72428245841144,217.72186266680205,215.85302016314338,219.54399487463272,227.5333709716797,228.93500951393364,228.00058053149988,224.0759881574422,224.12270616046638,220.5251514952267,224.169405557487,219.77759754482594,220.52515255886533,220.89892008963886,219.4038486867428,217.72186466269432,219.35712076722538,216.7874388855219,222.95467617321793,226.64565940544978,236.6440429012577,243.88586035862312,244.25964316525113,229.82271233965616,231.7383110783861,228.65467863629232,218.7497535540922,218.7497392095443,224.49647324874118,219.6841598546185,210.2464273958162,209.45217468914666,213.04972133096135,211.18088747642673,210.1062831407473,214.63824089229666,214.77841118152145,212.53577910029335,215.29234484017866,216.03989218045785,218.60956999711414,223.3751484452554,220.52515412969728,224.26287520559208,222.30055201900277,214.1243194313115,217.20792986586815,212.11530056746466,213.89070627179794,207.44315119413974,207.44316533876446,207.443164756831,207.34969165558667,210.24644580007757,207.11610699017822,204.54642104296207,206.50871697764322,208.37756908685932,220.7120408759927,222.39401639545784,219.59071937245395,214.91856587679874,211.1808528684402,208.19070659093194,202.07019702301307,199.96772877412684,199.96771888013154,199.87426488200404,203.70542907714844,204.07919837358517,203.70543596346405,205.57430773320357,202.39725653575172],\"x\":[\"2021-01-01T00:00:00+05:30\",\"2021-01-04T00:00:00+05:30\",\"2021-01-05T00:00:00+05:30\",\"2021-01-06T00:00:00+05:30\",\"2021-01-07T00:00:00+05:30\",\"2021-01-08T00:00:00+05:30\",\"2021-01-11T00:00:00+05:30\",\"2021-01-12T00:00:00+05:30\",\"2021-01-13T00:00:00+05:30\",\"2021-01-14T00:00:00+05:30\",\"2021-01-15T00:00:00+05:30\",\"2021-01-18T00:00:00+05:30\",\"2021-01-19T00:00:00+05:30\",\"2021-01-20T00:00:00+05:30\",\"2021-01-21T00:00:00+05:30\",\"2021-01-22T00:00:00+05:30\",\"2021-01-25T00:00:00+05:30\",\"2021-01-27T00:00:00+05:30\",\"2021-01-28T00:00:00+05:30\",\"2021-01-29T00:00:00+05:30\",\"2021-02-01T00:00:00+05:30\",\"2021-02-02T00:00:00+05:30\",\"2021-02-03T00:00:00+05:30\",\"2021-02-04T00:00:00+05:30\",\"2021-02-05T00:00:00+05:30\",\"2021-02-08T00:00:00+05:30\",\"2021-02-09T00:00:00+05:30\",\"2021-02-10T00:00:00+05:30\",\"2021-02-11T00:00:00+05:30\",\"2021-02-12T00:00:00+05:30\",\"2021-02-15T00:00:00+05:30\",\"2021-02-16T00:00:00+05:30\",\"2021-02-17T00:00:00+05:30\",\"2021-02-18T00:00:00+05:30\",\"2021-02-19T00:00:00+05:30\",\"2021-02-22T00:00:00+05:30\",\"2021-02-23T00:00:00+05:30\",\"2021-02-24T00:00:00+05:30\",\"2021-02-25T00:00:00+05:30\",\"2021-02-26T00:00:00+05:30\",\"2021-03-01T00:00:00+05:30\",\"2021-03-02T00:00:00+05:30\",\"2021-03-03T00:00:00+05:30\",\"2021-03-04T00:00:00+05:30\",\"2021-03-05T00:00:00+05:30\",\"2021-03-08T00:00:00+05:30\",\"2021-03-09T00:00:00+05:30\",\"2021-03-10T00:00:00+05:30\",\"2021-03-12T00:00:00+05:30\",\"2021-03-15T00:00:00+05:30\",\"2021-03-16T00:00:00+05:30\",\"2021-03-17T00:00:00+05:30\",\"2021-03-18T00:00:00+05:30\",\"2021-03-19T00:00:00+05:30\",\"2021-03-22T00:00:00+05:30\",\"2021-03-23T00:00:00+05:30\",\"2021-03-24T00:00:00+05:30\",\"2021-03-25T00:00:00+05:30\",\"2021-03-26T00:00:00+05:30\",\"2021-03-30T00:00:00+05:30\",\"2021-03-31T00:00:00+05:30\",\"2021-04-01T00:00:00+05:30\",\"2021-04-05T00:00:00+05:30\",\"2021-04-06T00:00:00+05:30\",\"2021-04-07T00:00:00+05:30\",\"2021-04-08T00:00:00+05:30\",\"2021-04-09T00:00:00+05:30\",\"2021-04-12T00:00:00+05:30\",\"2021-04-13T00:00:00+05:30\",\"2021-04-15T00:00:00+05:30\",\"2021-04-16T00:00:00+05:30\",\"2021-04-19T00:00:00+05:30\",\"2021-04-20T00:00:00+05:30\",\"2021-04-22T00:00:00+05:30\",\"2021-04-23T00:00:00+05:30\",\"2021-04-26T00:00:00+05:30\",\"2021-04-27T00:00:00+05:30\",\"2021-04-28T00:00:00+05:30\",\"2021-04-29T00:00:00+05:30\",\"2021-04-30T00:00:00+05:30\",\"2021-05-03T00:00:00+05:30\",\"2021-05-04T00:00:00+05:30\",\"2021-05-05T00:00:00+05:30\",\"2021-05-06T00:00:00+05:30\",\"2021-05-07T00:00:00+05:30\",\"2021-05-10T00:00:00+05:30\",\"2021-05-11T00:00:00+05:30\",\"2021-05-12T00:00:00+05:30\",\"2021-05-14T00:00:00+05:30\",\"2021-05-17T00:00:00+05:30\",\"2021-05-18T00:00:00+05:30\",\"2021-05-19T00:00:00+05:30\",\"2021-05-20T00:00:00+05:30\",\"2021-05-21T00:00:00+05:30\",\"2021-05-24T00:00:00+05:30\",\"2021-05-25T00:00:00+05:30\",\"2021-05-26T00:00:00+05:30\",\"2021-05-27T00:00:00+05:30\",\"2021-05-28T00:00:00+05:30\",\"2021-05-31T00:00:00+05:30\",\"2021-06-01T00:00:00+05:30\",\"2021-06-02T00:00:00+05:30\",\"2021-06-03T00:00:00+05:30\",\"2021-06-04T00:00:00+05:30\",\"2021-06-07T00:00:00+05:30\",\"2021-06-08T00:00:00+05:30\",\"2021-06-09T00:00:00+05:30\",\"2021-06-10T00:00:00+05:30\",\"2021-06-11T00:00:00+05:30\",\"2021-06-14T00:00:00+05:30\",\"2021-06-15T00:00:00+05:30\",\"2021-06-16T00:00:00+05:30\",\"2021-06-17T00:00:00+05:30\",\"2021-06-18T00:00:00+05:30\",\"2021-06-21T00:00:00+05:30\",\"2021-06-22T00:00:00+05:30\",\"2021-06-23T00:00:00+05:30\",\"2021-06-24T00:00:00+05:30\",\"2021-06-25T00:00:00+05:30\",\"2021-06-28T00:00:00+05:30\",\"2021-06-29T00:00:00+05:30\",\"2021-06-30T00:00:00+05:30\",\"2021-07-01T00:00:00+05:30\",\"2021-07-02T00:00:00+05:30\",\"2021-07-05T00:00:00+05:30\",\"2021-07-06T00:00:00+05:30\",\"2021-07-07T00:00:00+05:30\",\"2021-07-08T00:00:00+05:30\",\"2021-07-09T00:00:00+05:30\",\"2021-07-12T00:00:00+05:30\",\"2021-07-13T00:00:00+05:30\",\"2021-07-14T00:00:00+05:30\",\"2021-07-15T00:00:00+05:30\",\"2021-07-16T00:00:00+05:30\",\"2021-07-19T00:00:00+05:30\",\"2021-07-20T00:00:00+05:30\",\"2021-07-22T00:00:00+05:30\",\"2021-07-23T00:00:00+05:30\",\"2021-07-26T00:00:00+05:30\",\"2021-07-27T00:00:00+05:30\",\"2021-07-28T00:00:00+05:30\",\"2021-07-29T00:00:00+05:30\",\"2021-07-30T00:00:00+05:30\",\"2021-08-02T00:00:00+05:30\",\"2021-08-03T00:00:00+05:30\",\"2021-08-04T00:00:00+05:30\",\"2021-08-05T00:00:00+05:30\",\"2021-08-06T00:00:00+05:30\",\"2021-08-09T00:00:00+05:30\",\"2021-08-10T00:00:00+05:30\",\"2021-08-11T00:00:00+05:30\",\"2021-08-12T00:00:00+05:30\",\"2021-08-13T00:00:00+05:30\",\"2021-08-16T00:00:00+05:30\",\"2021-08-17T00:00:00+05:30\",\"2021-08-18T00:00:00+05:30\",\"2021-08-20T00:00:00+05:30\",\"2021-08-23T00:00:00+05:30\",\"2021-08-24T00:00:00+05:30\",\"2021-08-25T00:00:00+05:30\",\"2021-08-26T00:00:00+05:30\",\"2021-08-27T00:00:00+05:30\",\"2021-08-30T00:00:00+05:30\",\"2021-08-31T00:00:00+05:30\",\"2021-09-01T00:00:00+05:30\",\"2021-09-02T00:00:00+05:30\",\"2021-09-03T00:00:00+05:30\",\"2021-09-06T00:00:00+05:30\",\"2021-09-07T00:00:00+05:30\",\"2021-09-08T00:00:00+05:30\",\"2021-09-09T00:00:00+05:30\",\"2021-09-13T00:00:00+05:30\",\"2021-09-14T00:00:00+05:30\",\"2021-09-15T00:00:00+05:30\",\"2021-09-16T00:00:00+05:30\",\"2021-09-17T00:00:00+05:30\",\"2021-09-20T00:00:00+05:30\",\"2021-09-21T00:00:00+05:30\",\"2021-09-22T00:00:00+05:30\",\"2021-09-23T00:00:00+05:30\",\"2021-09-24T00:00:00+05:30\",\"2021-09-27T00:00:00+05:30\",\"2021-09-28T00:00:00+05:30\",\"2021-09-29T00:00:00+05:30\",\"2021-09-30T00:00:00+05:30\",\"2021-10-01T00:00:00+05:30\",\"2021-10-04T00:00:00+05:30\",\"2021-10-05T00:00:00+05:30\",\"2021-10-06T00:00:00+05:30\",\"2021-10-07T00:00:00+05:30\",\"2021-10-08T00:00:00+05:30\",\"2021-10-11T00:00:00+05:30\",\"2021-10-12T00:00:00+05:30\",\"2021-10-13T00:00:00+05:30\",\"2021-10-14T00:00:00+05:30\",\"2021-10-18T00:00:00+05:30\",\"2021-10-19T00:00:00+05:30\",\"2021-10-20T00:00:00+05:30\",\"2021-10-21T00:00:00+05:30\",\"2021-10-22T00:00:00+05:30\",\"2021-10-25T00:00:00+05:30\",\"2021-10-26T00:00:00+05:30\",\"2021-10-27T00:00:00+05:30\",\"2021-10-28T00:00:00+05:30\",\"2021-10-29T00:00:00+05:30\",\"2021-11-01T00:00:00+05:30\",\"2021-11-02T00:00:00+05:30\",\"2021-11-03T00:00:00+05:30\",\"2021-11-04T00:00:00+05:30\",\"2021-11-08T00:00:00+05:30\",\"2021-11-09T00:00:00+05:30\",\"2021-11-10T00:00:00+05:30\",\"2021-11-11T00:00:00+05:30\",\"2021-11-12T00:00:00+05:30\",\"2021-11-15T00:00:00+05:30\",\"2021-11-16T00:00:00+05:30\",\"2021-11-17T00:00:00+05:30\",\"2021-11-18T00:00:00+05:30\",\"2021-11-22T00:00:00+05:30\",\"2021-11-23T00:00:00+05:30\",\"2021-11-24T00:00:00+05:30\",\"2021-11-25T00:00:00+05:30\",\"2021-11-26T00:00:00+05:30\",\"2021-11-29T00:00:00+05:30\",\"2021-11-30T00:00:00+05:30\",\"2021-12-01T00:00:00+05:30\",\"2021-12-02T00:00:00+05:30\",\"2021-12-03T00:00:00+05:30\",\"2021-12-06T00:00:00+05:30\",\"2021-12-07T00:00:00+05:30\",\"2021-12-08T00:00:00+05:30\",\"2021-12-09T00:00:00+05:30\",\"2021-12-10T00:00:00+05:30\",\"2021-12-13T00:00:00+05:30\",\"2021-12-14T00:00:00+05:30\",\"2021-12-15T00:00:00+05:30\",\"2021-12-16T00:00:00+05:30\",\"2021-12-17T00:00:00+05:30\",\"2021-12-20T00:00:00+05:30\",\"2021-12-21T00:00:00+05:30\",\"2021-12-22T00:00:00+05:30\",\"2021-12-23T00:00:00+05:30\",\"2021-12-24T00:00:00+05:30\",\"2021-12-27T00:00:00+05:30\",\"2021-12-28T00:00:00+05:30\",\"2021-12-29T00:00:00+05:30\",\"2021-12-30T00:00:00+05:30\"],\"type\":\"candlestick\"}],                        {\"title\":{\"text\":\"TRADING ALGO - BUY\\u002fSELL RECOMMENDATIONS - ITC.NS\"},\"template\":{\"data\":{\"histogram2dcontour\":[{\"type\":\"histogram2dcontour\",\"colorbar\":{\"outlinewidth\":0,\"ticks\":\"\"},\"colorscale\":[[0.0,\"#0d0887\"],[0.1111111111111111,\"#46039f\"],[0.2222222222222222,\"#7201a8\"],[0.3333333333333333,\"#9c179e\"],[0.4444444444444444,\"#bd3786\"],[0.5555555555555556,\"#d8576b\"],[0.6666666666666666,\"#ed7953\"],[0.7777777777777778,\"#fb9f3a\"],[0.8888888888888888,\"#fdca26\"],[1.0,\"#f0f921\"]]}],\"choropleth\":[{\"type\":\"choropleth\",\"colorbar\":{\"outlinewidth\":0,\"ticks\":\"\"}}],\"histogram2d\":[{\"type\":\"histogram2d\",\"colorbar\":{\"outlinewidth\":0,\"ticks\":\"\"},\"colorscale\":[[0.0,\"#0d0887\"],[0.1111111111111111,\"#46039f\"],[0.2222222222222222,\"#7201a8\"],[0.3333333333333333,\"#9c179e\"],[0.4444444444444444,\"#bd3786\"],[0.5555555555555556,\"#d8576b\"],[0.6666666666666666,\"#ed7953\"],[0.7777777777777778,\"#fb9f3a\"],[0.8888888888888888,\"#fdca26\"],[1.0,\"#f0f921\"]]}],\"heatmap\":[{\"type\":\"heatmap\",\"colorbar\":{\"outlinewidth\":0,\"ticks\":\"\"},\"colorscale\":[[0.0,\"#0d0887\"],[0.1111111111111111,\"#46039f\"],[0.2222222222222222,\"#7201a8\"],[0.3333333333333333,\"#9c179e\"],[0.4444444444444444,\"#bd3786\"],[0.5555555555555556,\"#d8576b\"],[0.6666666666666666,\"#ed7953\"],[0.7777777777777778,\"#fb9f3a\"],[0.8888888888888888,\"#fdca26\"],[1.0,\"#f0f921\"]]}],\"heatmapgl\":[{\"type\":\"heatmapgl\",\"colorbar\":{\"outlinewidth\":0,\"ticks\":\"\"},\"colorscale\":[[0.0,\"#0d0887\"],[0.1111111111111111,\"#46039f\"],[0.2222222222222222,\"#7201a8\"],[0.3333333333333333,\"#9c179e\"],[0.4444444444444444,\"#bd3786\"],[0.5555555555555556,\"#d8576b\"],[0.6666666666666666,\"#ed7953\"],[0.7777777777777778,\"#fb9f3a\"],[0.8888888888888888,\"#fdca26\"],[1.0,\"#f0f921\"]]}],\"contourcarpet\":[{\"type\":\"contourcarpet\",\"colorbar\":{\"outlinewidth\":0,\"ticks\":\"\"}}],\"contour\":[{\"type\":\"contour\",\"colorbar\":{\"outlinewidth\":0,\"ticks\":\"\"},\"colorscale\":[[0.0,\"#0d0887\"],[0.1111111111111111,\"#46039f\"],[0.2222222222222222,\"#7201a8\"],[0.3333333333333333,\"#9c179e\"],[0.4444444444444444,\"#bd3786\"],[0.5555555555555556,\"#d8576b\"],[0.6666666666666666,\"#ed7953\"],[0.7777777777777778,\"#fb9f3a\"],[0.8888888888888888,\"#fdca26\"],[1.0,\"#f0f921\"]]}],\"surface\":[{\"type\":\"surface\",\"colorbar\":{\"outlinewidth\":0,\"ticks\":\"\"},\"colorscale\":[[0.0,\"#0d0887\"],[0.1111111111111111,\"#46039f\"],[0.2222222222222222,\"#7201a8\"],[0.3333333333333333,\"#9c179e\"],[0.4444444444444444,\"#bd3786\"],[0.5555555555555556,\"#d8576b\"],[0.6666666666666666,\"#ed7953\"],[0.7777777777777778,\"#fb9f3a\"],[0.8888888888888888,\"#fdca26\"],[1.0,\"#f0f921\"]]}],\"mesh3d\":[{\"type\":\"mesh3d\",\"colorbar\":{\"outlinewidth\":0,\"ticks\":\"\"}}],\"scatter\":[{\"fillpattern\":{\"fillmode\":\"overlay\",\"size\":10,\"solidity\":0.2},\"type\":\"scatter\"}],\"parcoords\":[{\"type\":\"parcoords\",\"line\":{\"colorbar\":{\"outlinewidth\":0,\"ticks\":\"\"}}}],\"scatterpolargl\":[{\"type\":\"scatterpolargl\",\"marker\":{\"colorbar\":{\"outlinewidth\":0,\"ticks\":\"\"}}}],\"bar\":[{\"error_x\":{\"color\":\"#2a3f5f\"},\"error_y\":{\"color\":\"#2a3f5f\"},\"marker\":{\"line\":{\"color\":\"#E5ECF6\",\"width\":0.5},\"pattern\":{\"fillmode\":\"overlay\",\"size\":10,\"solidity\":0.2}},\"type\":\"bar\"}],\"scattergeo\":[{\"type\":\"scattergeo\",\"marker\":{\"colorbar\":{\"outlinewidth\":0,\"ticks\":\"\"}}}],\"scatterpolar\":[{\"type\":\"scatterpolar\",\"marker\":{\"colorbar\":{\"outlinewidth\":0,\"ticks\":\"\"}}}],\"histogram\":[{\"marker\":{\"pattern\":{\"fillmode\":\"overlay\",\"size\":10,\"solidity\":0.2}},\"type\":\"histogram\"}],\"scattergl\":[{\"type\":\"scattergl\",\"marker\":{\"colorbar\":{\"outlinewidth\":0,\"ticks\":\"\"}}}],\"scatter3d\":[{\"type\":\"scatter3d\",\"line\":{\"colorbar\":{\"outlinewidth\":0,\"ticks\":\"\"}},\"marker\":{\"colorbar\":{\"outlinewidth\":0,\"ticks\":\"\"}}}],\"scattermapbox\":[{\"type\":\"scattermapbox\",\"marker\":{\"colorbar\":{\"outlinewidth\":0,\"ticks\":\"\"}}}],\"scatterternary\":[{\"type\":\"scatterternary\",\"marker\":{\"colorbar\":{\"outlinewidth\":0,\"ticks\":\"\"}}}],\"scattercarpet\":[{\"type\":\"scattercarpet\",\"marker\":{\"colorbar\":{\"outlinewidth\":0,\"ticks\":\"\"}}}],\"carpet\":[{\"aaxis\":{\"endlinecolor\":\"#2a3f5f\",\"gridcolor\":\"white\",\"linecolor\":\"white\",\"minorgridcolor\":\"white\",\"startlinecolor\":\"#2a3f5f\"},\"baxis\":{\"endlinecolor\":\"#2a3f5f\",\"gridcolor\":\"white\",\"linecolor\":\"white\",\"minorgridcolor\":\"white\",\"startlinecolor\":\"#2a3f5f\"},\"type\":\"carpet\"}],\"table\":[{\"cells\":{\"fill\":{\"color\":\"#EBF0F8\"},\"line\":{\"color\":\"white\"}},\"header\":{\"fill\":{\"color\":\"#C8D4E3\"},\"line\":{\"color\":\"white\"}},\"type\":\"table\"}],\"barpolar\":[{\"marker\":{\"line\":{\"color\":\"#E5ECF6\",\"width\":0.5},\"pattern\":{\"fillmode\":\"overlay\",\"size\":10,\"solidity\":0.2}},\"type\":\"barpolar\"}],\"pie\":[{\"automargin\":true,\"type\":\"pie\"}]},\"layout\":{\"autotypenumbers\":\"strict\",\"colorway\":[\"#636efa\",\"#EF553B\",\"#00cc96\",\"#ab63fa\",\"#FFA15A\",\"#19d3f3\",\"#FF6692\",\"#B6E880\",\"#FF97FF\",\"#FECB52\"],\"font\":{\"color\":\"#2a3f5f\"},\"hovermode\":\"closest\",\"hoverlabel\":{\"align\":\"left\"},\"paper_bgcolor\":\"white\",\"plot_bgcolor\":\"#E5ECF6\",\"polar\":{\"bgcolor\":\"#E5ECF6\",\"angularaxis\":{\"gridcolor\":\"white\",\"linecolor\":\"white\",\"ticks\":\"\"},\"radialaxis\":{\"gridcolor\":\"white\",\"linecolor\":\"white\",\"ticks\":\"\"}},\"ternary\":{\"bgcolor\":\"#E5ECF6\",\"aaxis\":{\"gridcolor\":\"white\",\"linecolor\":\"white\",\"ticks\":\"\"},\"baxis\":{\"gridcolor\":\"white\",\"linecolor\":\"white\",\"ticks\":\"\"},\"caxis\":{\"gridcolor\":\"white\",\"linecolor\":\"white\",\"ticks\":\"\"}},\"coloraxis\":{\"colorbar\":{\"outlinewidth\":0,\"ticks\":\"\"}},\"colorscale\":{\"sequential\":[[0.0,\"#0d0887\"],[0.1111111111111111,\"#46039f\"],[0.2222222222222222,\"#7201a8\"],[0.3333333333333333,\"#9c179e\"],[0.4444444444444444,\"#bd3786\"],[0.5555555555555556,\"#d8576b\"],[0.6666666666666666,\"#ed7953\"],[0.7777777777777778,\"#fb9f3a\"],[0.8888888888888888,\"#fdca26\"],[1.0,\"#f0f921\"]],\"sequentialminus\":[[0.0,\"#0d0887\"],[0.1111111111111111,\"#46039f\"],[0.2222222222222222,\"#7201a8\"],[0.3333333333333333,\"#9c179e\"],[0.4444444444444444,\"#bd3786\"],[0.5555555555555556,\"#d8576b\"],[0.6666666666666666,\"#ed7953\"],[0.7777777777777778,\"#fb9f3a\"],[0.8888888888888888,\"#fdca26\"],[1.0,\"#f0f921\"]],\"diverging\":[[0,\"#8e0152\"],[0.1,\"#c51b7d\"],[0.2,\"#de77ae\"],[0.3,\"#f1b6da\"],[0.4,\"#fde0ef\"],[0.5,\"#f7f7f7\"],[0.6,\"#e6f5d0\"],[0.7,\"#b8e186\"],[0.8,\"#7fbc41\"],[0.9,\"#4d9221\"],[1,\"#276419\"]]},\"xaxis\":{\"gridcolor\":\"white\",\"linecolor\":\"white\",\"ticks\":\"\",\"title\":{\"standoff\":15},\"zerolinecolor\":\"white\",\"automargin\":true,\"zerolinewidth\":2},\"yaxis\":{\"gridcolor\":\"white\",\"linecolor\":\"white\",\"ticks\":\"\",\"title\":{\"standoff\":15},\"zerolinecolor\":\"white\",\"automargin\":true,\"zerolinewidth\":2},\"scene\":{\"xaxis\":{\"backgroundcolor\":\"#E5ECF6\",\"gridcolor\":\"white\",\"linecolor\":\"white\",\"showbackground\":true,\"ticks\":\"\",\"zerolinecolor\":\"white\",\"gridwidth\":2},\"yaxis\":{\"backgroundcolor\":\"#E5ECF6\",\"gridcolor\":\"white\",\"linecolor\":\"white\",\"showbackground\":true,\"ticks\":\"\",\"zerolinecolor\":\"white\",\"gridwidth\":2},\"zaxis\":{\"backgroundcolor\":\"#E5ECF6\",\"gridcolor\":\"white\",\"linecolor\":\"white\",\"showbackground\":true,\"ticks\":\"\",\"zerolinecolor\":\"white\",\"gridwidth\":2}},\"shapedefaults\":{\"line\":{\"color\":\"#2a3f5f\"}},\"annotationdefaults\":{\"arrowcolor\":\"#2a3f5f\",\"arrowhead\":0,\"arrowwidth\":1},\"geo\":{\"bgcolor\":\"white\",\"landcolor\":\"#E5ECF6\",\"subunitcolor\":\"white\",\"showland\":true,\"showlakes\":true,\"lakecolor\":\"white\"},\"title\":{\"x\":0.05},\"mapbox\":{\"style\":\"light\"}}},\"xaxis\":{\"type\":\"category\",\"rangeslider\":{\"visible\":false}},\"shapes\":[{\"line\":{\"color\":\"purple\",\"dash\":\"dash\",\"width\":3},\"type\":\"line\",\"x0\":\"2021-01-01T00:00:00+05:30\",\"x1\":\"2021-01-01T00:00:00+05:30\",\"xref\":\"x\",\"y0\":0,\"y1\":1,\"yref\":\"y domain\"},{\"line\":{\"color\":\"purple\",\"dash\":\"dash\",\"width\":3},\"type\":\"line\",\"x0\":\"2021-01-04T00:00:00+05:30\",\"x1\":\"2021-01-04T00:00:00+05:30\",\"xref\":\"x\",\"y0\":0,\"y1\":1,\"yref\":\"y domain\"},{\"line\":{\"color\":\"purple\",\"dash\":\"dash\",\"width\":3},\"type\":\"line\",\"x0\":\"2021-01-05T00:00:00+05:30\",\"x1\":\"2021-01-05T00:00:00+05:30\",\"xref\":\"x\",\"y0\":0,\"y1\":1,\"yref\":\"y domain\"},{\"line\":{\"color\":\"purple\",\"dash\":\"dash\",\"width\":3},\"type\":\"line\",\"x0\":\"2021-01-14T00:00:00+05:30\",\"x1\":\"2021-01-14T00:00:00+05:30\",\"xref\":\"x\",\"y0\":0,\"y1\":1,\"yref\":\"y domain\"},{\"line\":{\"color\":\"purple\",\"dash\":\"dash\",\"width\":3},\"type\":\"line\",\"x0\":\"2021-01-15T00:00:00+05:30\",\"x1\":\"2021-01-15T00:00:00+05:30\",\"xref\":\"x\",\"y0\":0,\"y1\":1,\"yref\":\"y domain\"},{\"line\":{\"color\":\"purple\",\"dash\":\"dash\",\"width\":3},\"type\":\"line\",\"x0\":\"2021-01-19T00:00:00+05:30\",\"x1\":\"2021-01-19T00:00:00+05:30\",\"xref\":\"x\",\"y0\":0,\"y1\":1,\"yref\":\"y domain\"},{\"line\":{\"color\":\"purple\",\"dash\":\"dash\",\"width\":3},\"type\":\"line\",\"x0\":\"2021-01-20T00:00:00+05:30\",\"x1\":\"2021-01-20T00:00:00+05:30\",\"xref\":\"x\",\"y0\":0,\"y1\":1,\"yref\":\"y domain\"},{\"line\":{\"color\":\"purple\",\"dash\":\"dash\",\"width\":3},\"type\":\"line\",\"x0\":\"2021-01-21T00:00:00+05:30\",\"x1\":\"2021-01-21T00:00:00+05:30\",\"xref\":\"x\",\"y0\":0,\"y1\":1,\"yref\":\"y domain\"},{\"line\":{\"color\":\"purple\",\"dash\":\"dash\",\"width\":3},\"type\":\"line\",\"x0\":\"2021-01-22T00:00:00+05:30\",\"x1\":\"2021-01-22T00:00:00+05:30\",\"xref\":\"x\",\"y0\":0,\"y1\":1,\"yref\":\"y domain\"},{\"line\":{\"color\":\"purple\",\"dash\":\"dash\",\"width\":3},\"type\":\"line\",\"x0\":\"2021-02-05T00:00:00+05:30\",\"x1\":\"2021-02-05T00:00:00+05:30\",\"xref\":\"x\",\"y0\":0,\"y1\":1,\"yref\":\"y domain\"},{\"line\":{\"color\":\"purple\",\"dash\":\"dash\",\"width\":3},\"type\":\"line\",\"x0\":\"2021-02-08T00:00:00+05:30\",\"x1\":\"2021-02-08T00:00:00+05:30\",\"xref\":\"x\",\"y0\":0,\"y1\":1,\"yref\":\"y domain\"},{\"line\":{\"color\":\"purple\",\"dash\":\"dash\",\"width\":3},\"type\":\"line\",\"x0\":\"2021-02-09T00:00:00+05:30\",\"x1\":\"2021-02-09T00:00:00+05:30\",\"xref\":\"x\",\"y0\":0,\"y1\":1,\"yref\":\"y domain\"},{\"line\":{\"color\":\"purple\",\"dash\":\"dash\",\"width\":3},\"type\":\"line\",\"x0\":\"2021-02-10T00:00:00+05:30\",\"x1\":\"2021-02-10T00:00:00+05:30\",\"xref\":\"x\",\"y0\":0,\"y1\":1,\"yref\":\"y domain\"},{\"line\":{\"color\":\"purple\",\"dash\":\"dash\",\"width\":3},\"type\":\"line\",\"x0\":\"2021-02-11T00:00:00+05:30\",\"x1\":\"2021-02-11T00:00:00+05:30\",\"xref\":\"x\",\"y0\":0,\"y1\":1,\"yref\":\"y domain\"},{\"line\":{\"color\":\"purple\",\"dash\":\"dash\",\"width\":3},\"type\":\"line\",\"x0\":\"2021-07-20T00:00:00+05:30\",\"x1\":\"2021-07-20T00:00:00+05:30\",\"xref\":\"x\",\"y0\":0,\"y1\":1,\"yref\":\"y domain\"},{\"line\":{\"color\":\"purple\",\"dash\":\"dash\",\"width\":3},\"type\":\"line\",\"x0\":\"2021-08-05T00:00:00+05:30\",\"x1\":\"2021-08-05T00:00:00+05:30\",\"xref\":\"x\",\"y0\":0,\"y1\":1,\"yref\":\"y domain\"},{\"line\":{\"color\":\"purple\",\"dash\":\"dash\",\"width\":3},\"type\":\"line\",\"x0\":\"2021-08-06T00:00:00+05:30\",\"x1\":\"2021-08-06T00:00:00+05:30\",\"xref\":\"x\",\"y0\":0,\"y1\":1,\"yref\":\"y domain\"},{\"line\":{\"color\":\"purple\",\"dash\":\"dash\",\"width\":3},\"type\":\"line\",\"x0\":\"2021-08-09T00:00:00+05:30\",\"x1\":\"2021-08-09T00:00:00+05:30\",\"xref\":\"x\",\"y0\":0,\"y1\":1,\"yref\":\"y domain\"},{\"line\":{\"color\":\"purple\",\"dash\":\"dash\",\"width\":3},\"type\":\"line\",\"x0\":\"2021-08-10T00:00:00+05:30\",\"x1\":\"2021-08-10T00:00:00+05:30\",\"xref\":\"x\",\"y0\":0,\"y1\":1,\"yref\":\"y domain\"},{\"line\":{\"color\":\"purple\",\"dash\":\"dash\",\"width\":3},\"type\":\"line\",\"x0\":\"2021-09-13T00:00:00+05:30\",\"x1\":\"2021-09-13T00:00:00+05:30\",\"xref\":\"x\",\"y0\":0,\"y1\":1,\"yref\":\"y domain\"},{\"line\":{\"color\":\"purple\",\"dash\":\"dash\",\"width\":3},\"type\":\"line\",\"x0\":\"2021-09-14T00:00:00+05:30\",\"x1\":\"2021-09-14T00:00:00+05:30\",\"xref\":\"x\",\"y0\":0,\"y1\":1,\"yref\":\"y domain\"},{\"line\":{\"color\":\"purple\",\"dash\":\"dash\",\"width\":3},\"type\":\"line\",\"x0\":\"2021-09-15T00:00:00+05:30\",\"x1\":\"2021-09-15T00:00:00+05:30\",\"xref\":\"x\",\"y0\":0,\"y1\":1,\"yref\":\"y domain\"},{\"line\":{\"color\":\"purple\",\"dash\":\"dash\",\"width\":3},\"type\":\"line\",\"x0\":\"2021-09-16T00:00:00+05:30\",\"x1\":\"2021-09-16T00:00:00+05:30\",\"xref\":\"x\",\"y0\":0,\"y1\":1,\"yref\":\"y domain\"},{\"line\":{\"color\":\"purple\",\"dash\":\"dash\",\"width\":3},\"type\":\"line\",\"x0\":\"2021-09-17T00:00:00+05:30\",\"x1\":\"2021-09-17T00:00:00+05:30\",\"xref\":\"x\",\"y0\":0,\"y1\":1,\"yref\":\"y domain\"},{\"line\":{\"color\":\"purple\",\"dash\":\"dash\",\"width\":3},\"type\":\"line\",\"x0\":\"2021-09-20T00:00:00+05:30\",\"x1\":\"2021-09-20T00:00:00+05:30\",\"xref\":\"x\",\"y0\":0,\"y1\":1,\"yref\":\"y domain\"},{\"line\":{\"color\":\"purple\",\"dash\":\"dash\",\"width\":3},\"type\":\"line\",\"x0\":\"2021-09-21T00:00:00+05:30\",\"x1\":\"2021-09-21T00:00:00+05:30\",\"xref\":\"x\",\"y0\":0,\"y1\":1,\"yref\":\"y domain\"},{\"line\":{\"color\":\"purple\",\"dash\":\"dash\",\"width\":3},\"type\":\"line\",\"x0\":\"2021-09-22T00:00:00+05:30\",\"x1\":\"2021-09-22T00:00:00+05:30\",\"xref\":\"x\",\"y0\":0,\"y1\":1,\"yref\":\"y domain\"},{\"line\":{\"color\":\"purple\",\"dash\":\"dash\",\"width\":3},\"type\":\"line\",\"x0\":\"2021-09-23T00:00:00+05:30\",\"x1\":\"2021-09-23T00:00:00+05:30\",\"xref\":\"x\",\"y0\":0,\"y1\":1,\"yref\":\"y domain\"},{\"line\":{\"color\":\"purple\",\"dash\":\"dash\",\"width\":3},\"type\":\"line\",\"x0\":\"2021-09-24T00:00:00+05:30\",\"x1\":\"2021-09-24T00:00:00+05:30\",\"xref\":\"x\",\"y0\":0,\"y1\":1,\"yref\":\"y domain\"},{\"line\":{\"color\":\"purple\",\"dash\":\"dash\",\"width\":3},\"type\":\"line\",\"x0\":\"2021-09-27T00:00:00+05:30\",\"x1\":\"2021-09-27T00:00:00+05:30\",\"xref\":\"x\",\"y0\":0,\"y1\":1,\"yref\":\"y domain\"},{\"line\":{\"color\":\"purple\",\"dash\":\"dash\",\"width\":3},\"type\":\"line\",\"x0\":\"2021-09-28T00:00:00+05:30\",\"x1\":\"2021-09-28T00:00:00+05:30\",\"xref\":\"x\",\"y0\":0,\"y1\":1,\"yref\":\"y domain\"},{\"line\":{\"color\":\"purple\",\"dash\":\"dash\",\"width\":3},\"type\":\"line\",\"x0\":\"2021-09-29T00:00:00+05:30\",\"x1\":\"2021-09-29T00:00:00+05:30\",\"xref\":\"x\",\"y0\":0,\"y1\":1,\"yref\":\"y domain\"},{\"line\":{\"color\":\"purple\",\"dash\":\"dash\",\"width\":3},\"type\":\"line\",\"x0\":\"2021-09-30T00:00:00+05:30\",\"x1\":\"2021-09-30T00:00:00+05:30\",\"xref\":\"x\",\"y0\":0,\"y1\":1,\"yref\":\"y domain\"},{\"line\":{\"color\":\"purple\",\"dash\":\"dash\",\"width\":3},\"type\":\"line\",\"x0\":\"2021-10-01T00:00:00+05:30\",\"x1\":\"2021-10-01T00:00:00+05:30\",\"xref\":\"x\",\"y0\":0,\"y1\":1,\"yref\":\"y domain\"},{\"line\":{\"color\":\"purple\",\"dash\":\"dash\",\"width\":3},\"type\":\"line\",\"x0\":\"2021-10-04T00:00:00+05:30\",\"x1\":\"2021-10-04T00:00:00+05:30\",\"xref\":\"x\",\"y0\":0,\"y1\":1,\"yref\":\"y domain\"},{\"line\":{\"color\":\"purple\",\"dash\":\"dash\",\"width\":3},\"type\":\"line\",\"x0\":\"2021-10-05T00:00:00+05:30\",\"x1\":\"2021-10-05T00:00:00+05:30\",\"xref\":\"x\",\"y0\":0,\"y1\":1,\"yref\":\"y domain\"},{\"line\":{\"color\":\"purple\",\"dash\":\"dash\",\"width\":3},\"type\":\"line\",\"x0\":\"2021-10-06T00:00:00+05:30\",\"x1\":\"2021-10-06T00:00:00+05:30\",\"xref\":\"x\",\"y0\":0,\"y1\":1,\"yref\":\"y domain\"},{\"line\":{\"color\":\"purple\",\"dash\":\"dash\",\"width\":3},\"type\":\"line\",\"x0\":\"2021-10-07T00:00:00+05:30\",\"x1\":\"2021-10-07T00:00:00+05:30\",\"xref\":\"x\",\"y0\":0,\"y1\":1,\"yref\":\"y domain\"},{\"line\":{\"color\":\"purple\",\"dash\":\"dash\",\"width\":3},\"type\":\"line\",\"x0\":\"2021-10-11T00:00:00+05:30\",\"x1\":\"2021-10-11T00:00:00+05:30\",\"xref\":\"x\",\"y0\":0,\"y1\":1,\"yref\":\"y domain\"},{\"line\":{\"color\":\"purple\",\"dash\":\"dash\",\"width\":3},\"type\":\"line\",\"x0\":\"2021-10-12T00:00:00+05:30\",\"x1\":\"2021-10-12T00:00:00+05:30\",\"xref\":\"x\",\"y0\":0,\"y1\":1,\"yref\":\"y domain\"},{\"line\":{\"color\":\"purple\",\"dash\":\"dash\",\"width\":3},\"type\":\"line\",\"x0\":\"2021-10-14T00:00:00+05:30\",\"x1\":\"2021-10-14T00:00:00+05:30\",\"xref\":\"x\",\"y0\":0,\"y1\":1,\"yref\":\"y domain\"},{\"line\":{\"color\":\"purple\",\"dash\":\"dash\",\"width\":3},\"type\":\"line\",\"x0\":\"2021-10-18T00:00:00+05:30\",\"x1\":\"2021-10-18T00:00:00+05:30\",\"xref\":\"x\",\"y0\":0,\"y1\":1,\"yref\":\"y domain\"},{\"line\":{\"color\":\"purple\",\"dash\":\"dash\",\"width\":3},\"type\":\"line\",\"x0\":\"2021-10-19T00:00:00+05:30\",\"x1\":\"2021-10-19T00:00:00+05:30\",\"xref\":\"x\",\"y0\":0,\"y1\":1,\"yref\":\"y domain\"},{\"line\":{\"color\":\"purple\",\"dash\":\"dash\",\"width\":3},\"type\":\"line\",\"x0\":\"2021-10-20T00:00:00+05:30\",\"x1\":\"2021-10-20T00:00:00+05:30\",\"xref\":\"x\",\"y0\":0,\"y1\":1,\"yref\":\"y domain\"},{\"line\":{\"color\":\"orange\",\"dash\":\"dash\",\"width\":3},\"type\":\"line\",\"x0\":\"2021-12-02T00:00:00+05:30\",\"x1\":\"2021-12-02T00:00:00+05:30\",\"xref\":\"x\",\"y0\":0,\"y1\":1,\"yref\":\"y domain\"}]},                        {\"responsive\": true}                    ).then(function(){\n",
       "                            \n",
       "var gd = document.getElementById('aeb02fdd-01a0-4d96-b153-92c57bf01e23');\n",
       "var x = new MutationObserver(function (mutations, observer) {{\n",
       "        var display = window.getComputedStyle(gd).display;\n",
       "        if (!display || display === 'none') {{\n",
       "            console.log([gd, 'removed!']);\n",
       "            Plotly.purge(gd);\n",
       "            observer.disconnect();\n",
       "        }}\n",
       "}});\n",
       "\n",
       "// Listen for the removal of the full notebook cells\n",
       "var notebookContainer = gd.closest('#notebook-container');\n",
       "if (notebookContainer) {{\n",
       "    x.observe(notebookContainer, {childList: true});\n",
       "}}\n",
       "\n",
       "// Listen for the clearing of the current output cell\n",
       "var outputEl = gd.closest('.output');\n",
       "if (outputEl) {{\n",
       "    x.observe(outputEl, {childList: true});\n",
       "}}\n",
       "\n",
       "                        })                };                });            </script>        </div>"
      ]
     },
     "metadata": {},
     "output_type": "display_data"
    }
   ],
   "source": [
    "itc = my_trading_algo('ITC.NS')"
   ]
  },
  {
   "cell_type": "code",
   "execution_count": null,
   "id": "33e5e12f",
   "metadata": {},
   "outputs": [],
   "source": [
    "hdfcamc = my_trading_algo('HDFCAMC')"
   ]
  },
  {
   "cell_type": "code",
   "execution_count": null,
   "id": "bc9dcf44",
   "metadata": {},
   "outputs": [],
   "source": [
    "whirlpool = my_trading_algo('WHIRLPOOL')"
   ]
  },
  {
   "cell_type": "code",
   "execution_count": 99,
   "id": "20dff7f2",
   "metadata": {},
   "outputs": [
    {
     "name": "stdout",
     "output_type": "stream",
     "text": [
      "inside this method\n"
     ]
    },
    {
     "data": {
      "application/vnd.plotly.v1+json": {
       "config": {
        "plotlyServerURL": "https://plot.ly"
       },
       "data": [
        {
         "close": [
          16.335628509521484,
          16.71442413330078,
          16.790184020996094,
          16.619722366333008,
          17.604598999023438,
          17.765583038330078,
          17.61406707763672,
          17.453079223632812,
          17.254209518432617,
          17.206857681274414,
          17.159509658813477,
          17.42466926574707,
          17.235271453857422,
          17.21632957458496,
          16.970109939575195,
          16.90382194519043,
          16.543962478637695,
          16.704954147338867,
          15.98523998260498,
          16.458736419677734,
          16.51555824279785,
          16.71442413330078,
          16.657604217529297,
          16.695484161376953,
          17.00798988342285,
          16.704954147338867,
          16.57237434387207,
          16.884883880615234,
          17.112157821655273,
          16.80912208557129,
          16.66707420349121,
          16.884883880615234,
          16.989051818847656,
          16.676542282104492,
          16.458736419677734,
          16.742835998535156,
          16.468204498291016,
          16.21251678466797,
          16.723894119262695,
          17.06481170654297,
          17.48148536682129,
          17.206857681274414,
          17.3110294342041,
          17.02692985534668,
          17.61406707763672,
          17.68982696533203,
          18.06862449645996,
          17.90763282775879,
          18.13491439819336,
          18.305370330810547,
          18.087562561035156,
          17.40572738647461,
          17.756114959716797,
          18.059154510498047,
          17.71823501586914,
          17.67088508605957,
          17.48148536682129,
          17.727706909179688,
          17.453079223632812,
          17.803464889526367,
          17.727706909179688,
          18.002334594726562,
          18.34325408935547,
          18.31484031677246,
          18.19173240661621,
          18.295900344848633,
          18.504241943359375,
          18.106504440307617,
          17.43413734436035,
          16.392446517944336,
          17.045869827270508,
          17.21632957458496,
          17.292089462280273,
          17.074283599853516,
          17.14057159423828,
          16.90382194519043,
          16.941701889038086,
          17.055343627929688,
          17.150039672851562,
          17.26367950439453,
          17.48148536682129,
          17.121631622314453,
          17.235271453857422,
          17.150039672851562,
          17.32050132751465,
          17.61406707763672,
          17.40572738647461,
          17.386789321899414,
          17.225797653198242,
          16.894351959228516,
          16.932231903076172,
          17.197389602661133,
          17.206857681274414,
          17.292089462280273,
          17.462549209594727,
          17.66141700744629,
          17.727706909179688,
          17.680356979370117,
          17.7371768951416,
          18.23908042907715,
          18.34325408935547,
          18.505918502807617,
          18.43893814086914,
          18.45807647705078,
          18.314544677734375,
          18.45807647705078,
          18.563331604003906,
          18.659019470214844,
          18.812118530273438,
          19.032197952270508,
          19.6541690826416,
          19.56804847717285,
          19.357534408569336,
          19.501066207885742,
          19.778560638427734,
          19.31926155090332,
          19.64459800720215,
          19.86467933654785,
          19.797700881958008,
          20.276134490966797,
          20.333545684814453,
          20.371822357177734,
          20.52492332458496,
          20.276134490966797,
          20.05605125427246,
          20.16131019592285,
          20.1995849609375,
          20.266565322875977,
          20.046483993530273,
          20.41966438293457,
          20.14217185974121,
          20.14217185974121,
          20.467506408691406,
          20.218721389770508,
          19.96036720275879,
          19.749853134155273,
          20.036916732788086,
          20.390958786010742,
          20.410097122192383,
          20.792842864990234,
          20.773706436157227,
          20.773706436157227,
          20.907670974731445,
          20.974651336669922,
          21.166027069091797,
          21.309558868408203,
          21.893247604370117,
          21.66360092163086,
          21.60618782043457,
          21.82626724243164,
          21.893247604370117,
          21.797561645507812,
          21.998506546020508,
          22.314273834228516,
          22.610902786254883,
          22.390823364257812,
          22.543922424316406,
          22.467370986938477,
          22.53435516357422,
          22.850120544433594,
          23.060636520385742,
          22.850120544433594,
          22.945810317993164,
          22.639610290527344,
          22.70659065246582,
          22.697021484375,
          22.792709350585938,
          22.53435516357422,
          22.677885055541992,
          22.993654251098633,
          22.41952896118164,
          22.18988037109375,
          21.94109344482422,
          21.998506546020508,
          21.969799041748047,
          22.017642974853516,
          22.362117767333984,
          22.094192504882812,
          21.864543914794922,
          21.778423309326172,
          22.122900009155273,
          22.266429901123047,
          22.70659065246582,
          22.65874671936035,
          21.912385940551758,
          21.137319564819336,
          21.510499954223633,
          21.290420532226562,
          21.36697006225586,
          21.194730758666992,
          21.768856048583984,
          21.481794357299805,
          21.787994384765625,
          20.984220504760742,
          20.878963470458984,
          20.936376571655273,
          21.673168182373047,
          21.730579376220703,
          22.371686935424805,
          22.75443458557129,
          23.175457000732422,
          23.089340209960938,
          22.400392532348633,
          22.017642974853516,
          21.94109344482422,
          21.901519775390625,
          21.766382217407227,
          21.77603530883789,
          21.505765914916992,
          21.689163208007812,
          21.872560501098633,
          21.920822143554688,
          21.920822143554688,
          21.998044967651367,
          22.625455856323242,
          22.490318298339844,
          22.16213607788086,
          22.393796920776367,
          22.876420974731445,
          22.80885124206543,
          23.19495391845703,
          22.91503143310547,
          22.828157424926758,
          22.77024269104004,
          21.97873878479004,
          22.094568252563477,
          21.824298858642578,
          21.428546905517578,
          21.833951950073242,
          21.79534149169922,
          21.660205841064453,
          22.625455856323242,
          22.084915161132812,
          21.476808547973633,
          22.25865936279297,
          22.625455856323242,
          22.44205665588379,
          22.384143829345703,
          21.824298858642578,
          22.094568252563477,
          22.451709747314453,
          23.272174835205078,
          23.204607009887695,
          22.86676788330078,
          23.37835121154785,
          23.677579879760742,
          23.87062644958496,
          24.449777603149414,
          24.420820236206055,
          24.49803924560547,
          24.526996612548828
         ],
         "high": [
          16.50608753079407,
          16.733364424583918,
          16.847004896635077,
          16.619722366333008,
          17.62353929142991,
          17.860282668350873,
          17.93604478576925,
          18.059154094259586,
          17.661416743355772,
          17.40572528416635,
          17.21632871883983,
          17.490958480763513,
          17.424668949575544,
          17.301559071983537,
          17.25420703851667,
          16.970111152598776,
          16.941699500751966,
          16.809123944146258,
          16.316687871820562,
          16.496617004085156,
          16.581847463064204,
          16.809123783470863,
          16.70495313708064,
          16.714424453022385,
          17.055340607343886,
          16.932232226172218,
          16.875411757160744,
          16.97011338887024,
          17.197387309262744,
          16.9511706433552,
          16.78071233182721,
          16.884883880615234,
          17.03640073769032,
          16.74283148312725,
          16.57237636665432,
          16.809125217435582,
          16.771241910523063,
          16.373505625509278,
          16.73336426481384,
          17.131100917494464,
          17.623535724876756,
          17.689824182041598,
          17.32996791789514,
          17.43413704224381,
          17.64247570666604,
          17.80346509736557,
          18.144383856364055,
          17.917102972045118,
          18.14438454432114,
          18.34325090893727,
          18.182262200817146,
          17.737175237572885,
          17.79399553862866,
          18.163324308630088,
          17.94551488499574,
          17.84134407503207,
          17.576185003443157,
          17.727706909179688,
          17.74664651331196,
          17.90763468121231,
          17.831876708948442,
          18.030745030947568,
          18.362192575457073,
          18.381129521674914,
          18.305372347269195,
          18.3716596955133,
          18.52318042841862,
          18.201202282160335,
          17.88869345592678,
          16.932232179465263,
          17.16897809238617,
          17.56671590278315,
          17.32049989770751,
          17.150042963874814,
          17.235271244067448,
          17.10268956741546,
          17.00799110102776,
          17.055343627929688,
          17.159509817317655,
          17.386789588405815,
          17.48148536682129,
          17.39626043131587,
          17.301560667671044,
          17.150039672851562,
          17.367850250889862,
          17.633007367819925,
          17.66141588357146,
          17.462548677727593,
          17.235267796911632,
          17.19738937094187,
          17.10269091050994,
          17.216329892709783,
          17.254206594464325,
          17.500427236676842,
          17.47201935514238,
          17.69929758998025,
          17.831876708948442,
          17.71823575497432,
          17.936046346883437,
          18.33378006453352,
          18.44742208477421,
          18.572899301019508,
          18.496349994253453,
          18.45807647705078,
          18.429370215957448,
          18.45807647705078,
          18.639881353552973,
          18.802550024198492,
          18.85039431715341,
          19.05133584482833,
          19.663736204997846,
          19.711579024725552,
          19.74985207210749,
          19.615891743079942,
          19.845541441700206,
          19.74985319819433,
          19.65416695361195,
          19.883817230366695,
          19.81683695295704,
          20.524921629976877,
          20.58233281573356,
          20.572764764884575,
          20.57276623696045,
          20.505783736570724,
          20.323976271824296,
          20.237859949166758,
          20.1995849609375,
          20.314408230778763,
          20.046483993530273,
          20.41966438293457,
          20.19958554223296,
          20.180447648069045,
          20.926806690406973,
          20.477077482882446,
          20.28570410094088,
          19.874247614701957,
          20.113466482981288,
          20.400527732988245,
          20.56319662696958,
          20.802411810785646,
          20.878963022228472,
          20.850258007910806,
          20.984220725470504,
          21.185162690495492,
          21.175594190980956,
          21.491363396362775,
          21.941092336678025,
          21.768857520042324,
          21.80713205812718,
          21.82626724243164,
          21.941092336678025,
          22.08462273709356,
          21.998506546020508,
          22.438668322677387,
          22.71615937514285,
          22.591767603182753,
          22.72572876546533,
          22.840552588124563,
          22.658749657648876,
          22.8788273840633,
          23.098910486119554,
          22.993652917492184,
          23.031929019798593,
          22.85969059639428,
          22.8596901514008,
          22.81184702000181,
          22.964946743174142,
          22.668318605276937,
          22.677885055541992,
          23.04149716149971,
          23.03192694088598,
          22.400391726532895,
          22.275999287534475,
          22.11333209076541,
          22.170743282725898,
          22.142035633711334,
          22.371684889095736,
          22.34297964521486,
          21.99850552319363,
          21.960229637010386,
          22.228154776427647,
          22.37168466525916,
          22.76400433338393,
          22.773570425826957,
          22.228153879811828,
          21.529637253203855,
          21.60618759856657,
          21.53920768779373,
          21.433950867844143,
          21.386106036095143,
          21.79756288941672,
          21.52963726563189,
          21.854975189645028,
          22.00807409453561,
          21.127750608729315,
          21.11818291911523,
          21.998505074786998,
          21.75928621588487,
          22.390824830878834,
          22.764003532054133,
          23.23287067893695,
          23.146753892893578,
          22.543923090088132,
          22.21858538341384,
          21.988936354458534,
          22.104221361690204,
          22.152483609620013,
          21.92082241286059,
          21.544374949037707,
          21.89186663144532,
          21.90151865812189,
          21.940127581471984,
          22.055958367907866,
          22.123526638095367,
          22.654412172076686,
          22.567538204215644,
          22.403448544797165,
          22.471016833976233,
          22.876420974731445,
          23.03086008825079,
          23.252868392360437,
          23.17564933690741,
          22.91503005430025,
          22.87642075707082,
          22.741285183206248,
          22.38414430925806,
          21.843602455688817,
          21.718121117321356,
          21.8629082666704,
          22.277966415643903,
          22.075263546062814,
          22.69302304783846,
          22.33588033627918,
          21.592639336729224,
          22.268312081500074,
          22.702675766778903,
          22.6254546236244,
          22.721981634378878,
          22.239356572757245,
          22.171788166135105,
          22.471015184464267,
          23.648621693428087,
          23.426614030969002,
          23.040513138876463,
          23.407309370460744,
          23.687232599350533,
          23.93819363913869,
          24.459430322173414,
          24.50769286916489,
          24.49803924560547,
          24.710394585126473
         ],
         "low": [
          16.155699341928678,
          16.40191655211143,
          16.420857360570952,
          16.34509540268823,
          17.06481330915892,
          17.56671363466189,
          17.557248013332593,
          17.424668786730088,
          17.178450160743115,
          17.150038624197467,
          16.998520816867686,
          17.320501273397934,
          17.187920725243686,
          17.10268964263838,
          16.894350592774448,
          16.80912230335904,
          16.515553852501515,
          16.487146214237608,
          15.98523998260498,
          16.14622882329922,
          16.420858582597727,
          16.562905415526888,
          16.439796297600314,
          16.468206080368628,
          16.865941324150608,
          16.695484001606776,
          16.4966149905499,
          16.695484571993973,
          16.94169884644033,
          16.723892589651857,
          16.55343426890973,
          16.657605794017122,
          16.90382231993448,
          16.57237250550001,
          16.240928478072096,
          16.382977658438918,
          16.37350666165259,
          16.042057799513014,
          16.45873546256732,
          16.847003783060757,
          17.150039348012754,
          17.055338991572388,
          16.89435208682843,
          17.02692985534668,
          17.39625915926633,
          17.58565717243,
          17.850816562516393,
          17.75611413166818,
          17.850817239342664,
          18.144381486262738,
          17.850814364702877,
          17.3773187576275,
          17.4151969744917,
          17.803465991217013,
          17.708766677047226,
          17.595125736099057,
          17.28261775553617,
          17.32996980835295,
          17.38679001043871,
          17.756115969439403,
          17.670887839417485,
          17.869756171519626,
          18.1349144860266,
          18.286429883423395,
          18.14438348498739,
          18.19173056034269,
          18.314842642802166,
          17.99286450134058,
          17.424667199588704,
          16.326157304248166,
          16.922761562154847,
          17.093219497789047,
          17.10269017192303,
          16.951173504415333,
          16.96064244018742,
          16.8659413659597,
          16.828063755983088,
          16.8943547505771,
          16.979580684952605,
          17.187920147405105,
          17.30155804410961,
          17.121631622314453,
          17.187920725243686,
          16.97011054048651,
          17.18792109082188,
          17.348908433808315,
          17.40572738647461,
          17.301559820812024,
          17.064808822561055,
          16.865941524538346,
          16.88488298156483,
          17.026930604714227,
          17.140568480310435,
          17.292089462280273,
          17.21633084409255,
          17.453079222246284,
          17.70876842342273,
          17.623537912841037,
          17.718236603309876,
          18.106502023185417,
          18.34325408935547,
          18.410230866037832,
          18.28583864845103,
          18.2571322477442,
          18.2667017681106,
          18.2571322477442,
          18.391094211246006,
          18.55376287891816,
          18.65901903293349,
          18.8695295157088,
          19.060907116598496,
          19.434085051045724,
          19.33839651642361,
          19.42451645945293,
          19.53934244097461,
          19.29055471104794,
          19.43408483636636,
          19.529773495078118,
          19.635032415379797,
          20.276134490966797,
          20.218720153201826,
          20.28570366099195,
          20.304841182423406,
          20.256996597560644,
          19.941227550385864,
          20.113467284554194,
          20.075190477541863,
          20.056052147887836,
          19.855108721599397,
          20.08475855948526,
          20.103897896503423,
          19.979503409528007,
          20.362251653062483,
          20.161309532997862,
          19.902953520663107,
          19.615891532111103,
          19.84554144476008,
          20.036916873293283,
          20.390959227822716,
          20.448369941804437,
          20.63974483576831,
          20.620606942829916,
          20.783276489099215,
          20.92680842787456,
          20.898102028944805,
          21.252145183179273,
          21.55834360366437,
          21.548777200718476,
          21.558344910316823,
          21.46265639504099,
          21.77842389701098,
          21.759285859915092,
          21.835838088934462,
          22.055917735225528,
          22.362117471757816,
          22.314273612545943,
          22.38125397699158,
          22.457802040745,
          22.228156139836823,
          22.55349050195305,
          22.869261216446212,
          22.716158943008175,
          22.725730002308225,
          22.62047239651543,
          22.66831669027707,
          22.64917857583298,
          22.773571456945028,
          22.486512250524054,
          22.400391080157185,
          22.764004996011398,
          22.390822121474272,
          22.122899568230842,
          21.921955550934484,
          21.950663633679365,
          21.83583743115619,
          21.969798240608206,
          22.209016442796027,
          21.97936696892572,
          21.740149428347525,
          21.59661698164196,
          22.10376211507301,
          22.075054616182875,
          22.582197993989894,
          22.56305908057824,
          21.883680925676273,
          21.118181671461564,
          21.242576740171426,
          21.261713690206857,
          21.108613962052424,
          21.079907052282024,
          21.32869543968879,
          21.1947314320374,
          21.587050145037367,
          20.792845217380954,
          20.86939452378436,
          20.917240502256913,
          21.54877552355124,
          21.27128089213367,
          21.778426777071193,
          22.476940612838625,
          22.90753380280424,
          22.811848042813395,
          22.323842779881563,
          21.998505081155393,
          21.749718156106923,
          21.80499442145692,
          21.766382217407227,
          21.698815397287923,
          21.380282411621987,
          21.602290575258586,
          21.66985892513953,
          21.785687760269404,
          21.89186582774664,
          21.920823212217545,
          22.403447002828816,
          22.268311299080384,
          22.152485199344063,
          22.22970437509316,
          22.712328435244356,
          22.7798949272653,
          22.876421550386393,
          22.905378713586728,
          22.71232847980736,
          22.712328219145007,
          21.969086065687566,
          21.94012842542022,
          21.525070091076987,
          21.370630590302472,
          21.544375896626068,
          21.73742701632489,
          21.650553122219392,
          22.0366528884314,
          21.91117173932496,
          21.129318022774793,
          21.72777272137706,
          22.3165762145006,
          22.41309850064018,
          22.258660321814673,
          21.795340701471353,
          21.824299475596757,
          21.930473990676337,
          22.943989733806756,
          23.040514463638914,
          22.58684456241377,
          23.011557070657982,
          23.31078389962075,
          23.648619443603334,
          23.99611085542883,
          24.30499128630625,
          24.26637951328846,
          24.507691175210585
         ],
         "open": [
          16.468206945513174,
          16.40191655211143,
          16.477676429964283,
          16.43979504079674,
          17.1121622339294,
          17.689823695562485,
          17.917104495586045,
          18.02127531796821,
          17.585657385666273,
          17.225797969048482,
          17.12162908129901,
          17.39626063430896,
          17.415198803852796,
          17.263678492586195,
          17.18791783584668,
          16.970111152598776,
          16.714421460435997,
          16.534495136652453,
          16.250398655226583,
          16.27880906247952,
          16.525028389442443,
          16.66707521133854,
          16.610255297977954,
          16.57237587817289,
          17.03640031777547,
          16.913293740953645,
          16.875411757160744,
          16.714424864105233,
          16.951168990201744,
          16.88488143680574,
          16.686014493629038,
          16.742835302272123,
          16.913292464952107,
          16.600782937186302,
          16.51555729628887,
          16.562906828487037,
          16.619723204407038,
          16.288276132931802,
          16.496616044771905,
          16.97011205964989,
          17.434136451633023,
          17.320497601673562,
          17.282618999299352,
          17.32049891944415,
          17.462548368662056,
          17.793996758234062,
          17.907635630883057,
          17.803463046854496,
          17.907636309863666,
          18.20120054720744,
          18.17279205621441,
          17.680356173633186,
          17.576185822376285,
          17.954984712366002,
          17.94551488499574,
          17.746644436020084,
          17.49095551110801,
          17.54777955389177,
          17.70876773702058,
          17.79399655050539,
          17.75611734718362,
          17.91710509230909,
          18.239084287691036,
          18.30537017232277,
          18.305372347269195,
          18.352719406285786,
          18.324312788454588,
          18.115972779496445,
          17.784525475929534,
          16.572375673866514,
          17.064810116133028,
          17.206859429735626,
          17.18791967195924,
          17.112162378741306,
          17.026931653194165,
          17.08375108404553,
          16.865942531586235,
          17.026933188545435,
          17.131099383919373,
          17.187920147405105,
          17.424666307346303,
          17.292090633936628,
          17.28262037622555,
          17.045869889969897,
          17.339439813117348,
          17.377318869083123,
          17.63300725472435,
          17.32996845034414,
          17.1689767909179,
          17.09321958332336,
          16.960642339730324,
          17.06481118481153,
          17.216327825161446,
          17.348908526889247,
          17.2258009896402,
          17.462549367879774,
          17.80346627094451,
          17.66141668844524,
          17.850816839886313,
          18.163321081961115,
          18.381132867804368,
          18.45807559696766,
          18.343250501835342,
          18.266701194386414,
          18.352820465505403,
          18.381524903913068,
          18.45807683905518,
          18.73556922067879,
          18.65901903293349,
          18.926943193382264,
          19.12788792363286,
          19.481929783623244,
          19.74985207210749,
          19.529773047956784,
          19.587185350429234,
          19.70201029019198,
          19.50106563614505,
          19.615892192172907,
          19.663737434423453,
          20.42923398803608,
          20.505783069688444,
          20.4483721065551,
          20.39095988477138,
          20.48664584316457,
          20.266564419881,
          20.190017037798096,
          20.123035211574795,
          20.28570321607307,
          19.969934249775893,
          20.16130830555168,
          20.14217185974121,
          19.998641303691922,
          20.601469827357953,
          20.4196656261098,
          20.170878561839544,
          19.73071706607035,
          19.84554144476008,
          20.07519083611327,
          20.524922663320314,
          20.448369941804437,
          20.85982512929008,
          20.668451675175906,
          20.91723992171008,
          20.92680842787456,
          20.936375991771506,
          21.328696763484515,
          21.55834360366437,
          21.711445659586133,
          21.759287322919402,
          21.500930356565817,
          21.787992843472562,
          21.979366151803497,
          21.854975983906964,
          22.103762471202042,
          22.38125354011838,
          22.534353920581317,
          22.591767158876653,
          22.496077825518906,
          22.304705895771175,
          22.582197341582756,
          22.936242025298,
          22.907534223693006,
          22.859691616187735,
          22.840554527472392,
          22.72572854610519,
          22.697021484375,
          22.888396993700496,
          22.582199901714528,
          22.56305952174036,
          22.83098580060892,
          22.945808246853815,
          22.333410923669984,
          22.26643034058961,
          22.075056300820403,
          22.075055635835973,
          22.046349815400703,
          22.323841979926996,
          22.34297964521486,
          21.9602315601183,
          21.768854363122806,
          22.13246713110637,
          22.122899349962907,
          22.658747743457383,
          22.677884612134754,
          22.228153879811828,
          21.52006830652497,
          21.37653834719753,
          21.443520039484806,
          21.376539009495627,
          21.328694182902662,
          21.32869543968879,
          21.35739987549244,
          21.673168844193757,
          21.921955397723703,
          21.07990770044616,
          21.099045024626797,
          21.89324848456778,
          21.701874361646475,
          21.912388395069073,
          22.563059306094285,
          23.012788562666067,
          22.8979667421223,
          22.496080179204988,
          22.05591693715977,
          21.883681588245036,
          22.104221361690204,
          22.113872733971583,
          21.82429890422407,
          21.476807758525563,
          21.756732243198954,
          21.68916252208713,
          21.853254951912046,
          22.017347492073274,
          22.123526638095367,
          22.403447002828816,
          22.519276453443688,
          22.33588134863148,
          22.22970437509316,
          22.77024290769042,
          22.97294377651487,
          22.92468330512791,
          23.050165824231808,
          22.89572461642439,
          22.857115319416522,
          22.64475983324943,
          22.104220971893426,
          21.57333368636236,
          21.534723134609397,
          21.679510283593984,
          21.911172283515853,
          22.05595810837269,
          22.14283095570839,
          22.316576739012483,
          21.582986617577262,
          21.78568719255185,
          22.39379612495626,
          22.422751219054717,
          22.50962549580881,
          22.239356572757245,
          21.95943386408012,
          21.95943214640106,
          22.982598771052906,
          23.08877621915469,
          23.00190226382949,
          23.14669146344877,
          23.37835109568127,
          23.832017416011904,
          23.99611085542883,
          24.47873655222392,
          24.314643108188605,
          24.65248011417958
         ],
         "type": "candlestick",
         "x": [
          "2021-01-04T00:00:00-05:00",
          "2021-01-05T00:00:00-05:00",
          "2021-01-06T00:00:00-05:00",
          "2021-01-07T00:00:00-05:00",
          "2021-01-08T00:00:00-05:00",
          "2021-01-11T00:00:00-05:00",
          "2021-01-12T00:00:00-05:00",
          "2021-01-13T00:00:00-05:00",
          "2021-01-14T00:00:00-05:00",
          "2021-01-15T00:00:00-05:00",
          "2021-01-19T00:00:00-05:00",
          "2021-01-20T00:00:00-05:00",
          "2021-01-21T00:00:00-05:00",
          "2021-01-22T00:00:00-05:00",
          "2021-01-25T00:00:00-05:00",
          "2021-01-26T00:00:00-05:00",
          "2021-01-27T00:00:00-05:00",
          "2021-01-28T00:00:00-05:00",
          "2021-01-29T00:00:00-05:00",
          "2021-02-01T00:00:00-05:00",
          "2021-02-02T00:00:00-05:00",
          "2021-02-03T00:00:00-05:00",
          "2021-02-04T00:00:00-05:00",
          "2021-02-05T00:00:00-05:00",
          "2021-02-08T00:00:00-05:00",
          "2021-02-09T00:00:00-05:00",
          "2021-02-10T00:00:00-05:00",
          "2021-02-11T00:00:00-05:00",
          "2021-02-12T00:00:00-05:00",
          "2021-02-16T00:00:00-05:00",
          "2021-02-17T00:00:00-05:00",
          "2021-02-18T00:00:00-05:00",
          "2021-02-19T00:00:00-05:00",
          "2021-02-22T00:00:00-05:00",
          "2021-02-23T00:00:00-05:00",
          "2021-02-24T00:00:00-05:00",
          "2021-02-25T00:00:00-05:00",
          "2021-02-26T00:00:00-05:00",
          "2021-03-01T00:00:00-05:00",
          "2021-03-02T00:00:00-05:00",
          "2021-03-03T00:00:00-05:00",
          "2021-03-04T00:00:00-05:00",
          "2021-03-05T00:00:00-05:00",
          "2021-03-08T00:00:00-05:00",
          "2021-03-09T00:00:00-05:00",
          "2021-03-10T00:00:00-05:00",
          "2021-03-11T00:00:00-05:00",
          "2021-03-12T00:00:00-05:00",
          "2021-03-15T00:00:00-04:00",
          "2021-03-16T00:00:00-04:00",
          "2021-03-17T00:00:00-04:00",
          "2021-03-18T00:00:00-04:00",
          "2021-03-19T00:00:00-04:00",
          "2021-03-22T00:00:00-04:00",
          "2021-03-23T00:00:00-04:00",
          "2021-03-24T00:00:00-04:00",
          "2021-03-25T00:00:00-04:00",
          "2021-03-26T00:00:00-04:00",
          "2021-03-29T00:00:00-04:00",
          "2021-03-30T00:00:00-04:00",
          "2021-03-31T00:00:00-04:00",
          "2021-04-01T00:00:00-04:00",
          "2021-04-05T00:00:00-04:00",
          "2021-04-06T00:00:00-04:00",
          "2021-04-07T00:00:00-04:00",
          "2021-04-08T00:00:00-04:00",
          "2021-04-09T00:00:00-04:00",
          "2021-04-12T00:00:00-04:00",
          "2021-04-13T00:00:00-04:00",
          "2021-04-14T00:00:00-04:00",
          "2021-04-15T00:00:00-04:00",
          "2021-04-16T00:00:00-04:00",
          "2021-04-19T00:00:00-04:00",
          "2021-04-20T00:00:00-04:00",
          "2021-04-21T00:00:00-04:00",
          "2021-04-22T00:00:00-04:00",
          "2021-04-23T00:00:00-04:00",
          "2021-04-26T00:00:00-04:00",
          "2021-04-27T00:00:00-04:00",
          "2021-04-28T00:00:00-04:00",
          "2021-04-29T00:00:00-04:00",
          "2021-04-30T00:00:00-04:00",
          "2021-05-03T00:00:00-04:00",
          "2021-05-04T00:00:00-04:00",
          "2021-05-05T00:00:00-04:00",
          "2021-05-06T00:00:00-04:00",
          "2021-05-07T00:00:00-04:00",
          "2021-05-10T00:00:00-04:00",
          "2021-05-11T00:00:00-04:00",
          "2021-05-12T00:00:00-04:00",
          "2021-05-13T00:00:00-04:00",
          "2021-05-14T00:00:00-04:00",
          "2021-05-17T00:00:00-04:00",
          "2021-05-18T00:00:00-04:00",
          "2021-05-19T00:00:00-04:00",
          "2021-05-20T00:00:00-04:00",
          "2021-05-21T00:00:00-04:00",
          "2021-05-24T00:00:00-04:00",
          "2021-05-25T00:00:00-04:00",
          "2021-05-26T00:00:00-04:00",
          "2021-05-27T00:00:00-04:00",
          "2021-05-28T00:00:00-04:00",
          "2021-06-01T00:00:00-04:00",
          "2021-06-02T00:00:00-04:00",
          "2021-06-03T00:00:00-04:00",
          "2021-06-04T00:00:00-04:00",
          "2021-06-07T00:00:00-04:00",
          "2021-06-08T00:00:00-04:00",
          "2021-06-09T00:00:00-04:00",
          "2021-06-10T00:00:00-04:00",
          "2021-06-11T00:00:00-04:00",
          "2021-06-14T00:00:00-04:00",
          "2021-06-15T00:00:00-04:00",
          "2021-06-16T00:00:00-04:00",
          "2021-06-17T00:00:00-04:00",
          "2021-06-18T00:00:00-04:00",
          "2021-06-21T00:00:00-04:00",
          "2021-06-22T00:00:00-04:00",
          "2021-06-23T00:00:00-04:00",
          "2021-06-24T00:00:00-04:00",
          "2021-06-25T00:00:00-04:00",
          "2021-06-28T00:00:00-04:00",
          "2021-06-29T00:00:00-04:00",
          "2021-06-30T00:00:00-04:00",
          "2021-07-01T00:00:00-04:00",
          "2021-07-02T00:00:00-04:00",
          "2021-07-06T00:00:00-04:00",
          "2021-07-07T00:00:00-04:00",
          "2021-07-08T00:00:00-04:00",
          "2021-07-09T00:00:00-04:00",
          "2021-07-12T00:00:00-04:00",
          "2021-07-13T00:00:00-04:00",
          "2021-07-14T00:00:00-04:00",
          "2021-07-15T00:00:00-04:00",
          "2021-07-16T00:00:00-04:00",
          "2021-07-19T00:00:00-04:00",
          "2021-07-20T00:00:00-04:00",
          "2021-07-21T00:00:00-04:00",
          "2021-07-22T00:00:00-04:00",
          "2021-07-23T00:00:00-04:00",
          "2021-07-26T00:00:00-04:00",
          "2021-07-27T00:00:00-04:00",
          "2021-07-28T00:00:00-04:00",
          "2021-07-29T00:00:00-04:00",
          "2021-07-30T00:00:00-04:00",
          "2021-08-02T00:00:00-04:00",
          "2021-08-03T00:00:00-04:00",
          "2021-08-04T00:00:00-04:00",
          "2021-08-05T00:00:00-04:00",
          "2021-08-06T00:00:00-04:00",
          "2021-08-09T00:00:00-04:00",
          "2021-08-10T00:00:00-04:00",
          "2021-08-11T00:00:00-04:00",
          "2021-08-12T00:00:00-04:00",
          "2021-08-13T00:00:00-04:00",
          "2021-08-16T00:00:00-04:00",
          "2021-08-17T00:00:00-04:00",
          "2021-08-18T00:00:00-04:00",
          "2021-08-19T00:00:00-04:00",
          "2021-08-20T00:00:00-04:00",
          "2021-08-23T00:00:00-04:00",
          "2021-08-24T00:00:00-04:00",
          "2021-08-25T00:00:00-04:00",
          "2021-08-26T00:00:00-04:00",
          "2021-08-27T00:00:00-04:00",
          "2021-08-30T00:00:00-04:00",
          "2021-08-31T00:00:00-04:00",
          "2021-09-01T00:00:00-04:00",
          "2021-09-02T00:00:00-04:00",
          "2021-09-03T00:00:00-04:00",
          "2021-09-07T00:00:00-04:00",
          "2021-09-08T00:00:00-04:00",
          "2021-09-09T00:00:00-04:00",
          "2021-09-10T00:00:00-04:00",
          "2021-09-13T00:00:00-04:00",
          "2021-09-14T00:00:00-04:00",
          "2021-09-15T00:00:00-04:00",
          "2021-09-16T00:00:00-04:00",
          "2021-09-17T00:00:00-04:00",
          "2021-09-20T00:00:00-04:00",
          "2021-09-21T00:00:00-04:00",
          "2021-09-22T00:00:00-04:00",
          "2021-09-23T00:00:00-04:00",
          "2021-09-24T00:00:00-04:00",
          "2021-09-27T00:00:00-04:00",
          "2021-09-28T00:00:00-04:00",
          "2021-09-29T00:00:00-04:00",
          "2021-09-30T00:00:00-04:00",
          "2021-10-01T00:00:00-04:00",
          "2021-10-04T00:00:00-04:00",
          "2021-10-05T00:00:00-04:00",
          "2021-10-06T00:00:00-04:00",
          "2021-10-07T00:00:00-04:00",
          "2021-10-08T00:00:00-04:00",
          "2021-10-11T00:00:00-04:00",
          "2021-10-12T00:00:00-04:00",
          "2021-10-13T00:00:00-04:00",
          "2021-10-14T00:00:00-04:00",
          "2021-10-15T00:00:00-04:00",
          "2021-10-18T00:00:00-04:00",
          "2021-10-19T00:00:00-04:00",
          "2021-10-20T00:00:00-04:00",
          "2021-10-21T00:00:00-04:00",
          "2021-10-22T00:00:00-04:00",
          "2021-10-25T00:00:00-04:00",
          "2021-10-26T00:00:00-04:00",
          "2021-10-27T00:00:00-04:00",
          "2021-10-28T00:00:00-04:00",
          "2021-10-29T00:00:00-04:00",
          "2021-11-01T00:00:00-04:00",
          "2021-11-02T00:00:00-04:00",
          "2021-11-03T00:00:00-04:00",
          "2021-11-04T00:00:00-04:00",
          "2021-11-05T00:00:00-04:00",
          "2021-11-08T00:00:00-05:00",
          "2021-11-09T00:00:00-05:00",
          "2021-11-10T00:00:00-05:00",
          "2021-11-11T00:00:00-05:00",
          "2021-11-12T00:00:00-05:00",
          "2021-11-15T00:00:00-05:00",
          "2021-11-16T00:00:00-05:00",
          "2021-11-17T00:00:00-05:00",
          "2021-11-18T00:00:00-05:00",
          "2021-11-19T00:00:00-05:00",
          "2021-11-22T00:00:00-05:00",
          "2021-11-23T00:00:00-05:00",
          "2021-11-24T00:00:00-05:00",
          "2021-11-26T00:00:00-05:00",
          "2021-11-29T00:00:00-05:00",
          "2021-11-30T00:00:00-05:00",
          "2021-12-01T00:00:00-05:00",
          "2021-12-02T00:00:00-05:00",
          "2021-12-03T00:00:00-05:00",
          "2021-12-06T00:00:00-05:00",
          "2021-12-07T00:00:00-05:00",
          "2021-12-08T00:00:00-05:00",
          "2021-12-09T00:00:00-05:00",
          "2021-12-10T00:00:00-05:00",
          "2021-12-13T00:00:00-05:00",
          "2021-12-14T00:00:00-05:00",
          "2021-12-15T00:00:00-05:00",
          "2021-12-16T00:00:00-05:00",
          "2021-12-17T00:00:00-05:00",
          "2021-12-20T00:00:00-05:00",
          "2021-12-21T00:00:00-05:00",
          "2021-12-22T00:00:00-05:00",
          "2021-12-23T00:00:00-05:00",
          "2021-12-27T00:00:00-05:00",
          "2021-12-28T00:00:00-05:00",
          "2021-12-29T00:00:00-05:00",
          "2021-12-30T00:00:00-05:00"
         ]
        }
       ],
       "layout": {
        "shapes": [
         {
          "line": {
           "color": "purple",
           "dash": "dash",
           "width": 3
          },
          "type": "line",
          "x0": "2021-01-04T00:00:00-05:00",
          "x1": "2021-01-04T00:00:00-05:00",
          "xref": "x",
          "y0": 0,
          "y1": 1,
          "yref": "y domain"
         },
         {
          "line": {
           "color": "purple",
           "dash": "dash",
           "width": 3
          },
          "type": "line",
          "x0": "2021-01-05T00:00:00-05:00",
          "x1": "2021-01-05T00:00:00-05:00",
          "xref": "x",
          "y0": 0,
          "y1": 1,
          "yref": "y domain"
         },
         {
          "line": {
           "color": "purple",
           "dash": "dash",
           "width": 3
          },
          "type": "line",
          "x0": "2021-01-06T00:00:00-05:00",
          "x1": "2021-01-06T00:00:00-05:00",
          "xref": "x",
          "y0": 0,
          "y1": 1,
          "yref": "y domain"
         },
         {
          "line": {
           "color": "purple",
           "dash": "dash",
           "width": 3
          },
          "type": "line",
          "x0": "2021-01-07T00:00:00-05:00",
          "x1": "2021-01-07T00:00:00-05:00",
          "xref": "x",
          "y0": 0,
          "y1": 1,
          "yref": "y domain"
         },
         {
          "line": {
           "color": "purple",
           "dash": "dash",
           "width": 3
          },
          "type": "line",
          "x0": "2021-01-08T00:00:00-05:00",
          "x1": "2021-01-08T00:00:00-05:00",
          "xref": "x",
          "y0": 0,
          "y1": 1,
          "yref": "y domain"
         },
         {
          "line": {
           "color": "purple",
           "dash": "dash",
           "width": 3
          },
          "type": "line",
          "x0": "2021-01-11T00:00:00-05:00",
          "x1": "2021-01-11T00:00:00-05:00",
          "xref": "x",
          "y0": 0,
          "y1": 1,
          "yref": "y domain"
         },
         {
          "line": {
           "color": "purple",
           "dash": "dash",
           "width": 3
          },
          "type": "line",
          "x0": "2021-01-12T00:00:00-05:00",
          "x1": "2021-01-12T00:00:00-05:00",
          "xref": "x",
          "y0": 0,
          "y1": 1,
          "yref": "y domain"
         },
         {
          "line": {
           "color": "purple",
           "dash": "dash",
           "width": 3
          },
          "type": "line",
          "x0": "2021-01-13T00:00:00-05:00",
          "x1": "2021-01-13T00:00:00-05:00",
          "xref": "x",
          "y0": 0,
          "y1": 1,
          "yref": "y domain"
         },
         {
          "line": {
           "color": "purple",
           "dash": "dash",
           "width": 3
          },
          "type": "line",
          "x0": "2021-01-14T00:00:00-05:00",
          "x1": "2021-01-14T00:00:00-05:00",
          "xref": "x",
          "y0": 0,
          "y1": 1,
          "yref": "y domain"
         },
         {
          "line": {
           "color": "purple",
           "dash": "dash",
           "width": 3
          },
          "type": "line",
          "x0": "2021-01-15T00:00:00-05:00",
          "x1": "2021-01-15T00:00:00-05:00",
          "xref": "x",
          "y0": 0,
          "y1": 1,
          "yref": "y domain"
         },
         {
          "line": {
           "color": "purple",
           "dash": "dash",
           "width": 3
          },
          "type": "line",
          "x0": "2021-01-19T00:00:00-05:00",
          "x1": "2021-01-19T00:00:00-05:00",
          "xref": "x",
          "y0": 0,
          "y1": 1,
          "yref": "y domain"
         },
         {
          "line": {
           "color": "purple",
           "dash": "dash",
           "width": 3
          },
          "type": "line",
          "x0": "2021-01-20T00:00:00-05:00",
          "x1": "2021-01-20T00:00:00-05:00",
          "xref": "x",
          "y0": 0,
          "y1": 1,
          "yref": "y domain"
         },
         {
          "line": {
           "color": "purple",
           "dash": "dash",
           "width": 3
          },
          "type": "line",
          "x0": "2021-01-21T00:00:00-05:00",
          "x1": "2021-01-21T00:00:00-05:00",
          "xref": "x",
          "y0": 0,
          "y1": 1,
          "yref": "y domain"
         },
         {
          "line": {
           "color": "purple",
           "dash": "dash",
           "width": 3
          },
          "type": "line",
          "x0": "2021-01-22T00:00:00-05:00",
          "x1": "2021-01-22T00:00:00-05:00",
          "xref": "x",
          "y0": 0,
          "y1": 1,
          "yref": "y domain"
         },
         {
          "line": {
           "color": "purple",
           "dash": "dash",
           "width": 3
          },
          "type": "line",
          "x0": "2021-01-25T00:00:00-05:00",
          "x1": "2021-01-25T00:00:00-05:00",
          "xref": "x",
          "y0": 0,
          "y1": 1,
          "yref": "y domain"
         },
         {
          "line": {
           "color": "purple",
           "dash": "dash",
           "width": 3
          },
          "type": "line",
          "x0": "2021-03-04T00:00:00-05:00",
          "x1": "2021-03-04T00:00:00-05:00",
          "xref": "x",
          "y0": 0,
          "y1": 1,
          "yref": "y domain"
         },
         {
          "line": {
           "color": "purple",
           "dash": "dash",
           "width": 3
          },
          "type": "line",
          "x0": "2021-03-05T00:00:00-05:00",
          "x1": "2021-03-05T00:00:00-05:00",
          "xref": "x",
          "y0": 0,
          "y1": 1,
          "yref": "y domain"
         },
         {
          "line": {
           "color": "purple",
           "dash": "dash",
           "width": 3
          },
          "type": "line",
          "x0": "2021-03-09T00:00:00-05:00",
          "x1": "2021-03-09T00:00:00-05:00",
          "xref": "x",
          "y0": 0,
          "y1": 1,
          "yref": "y domain"
         },
         {
          "line": {
           "color": "purple",
           "dash": "dash",
           "width": 3
          },
          "type": "line",
          "x0": "2021-03-10T00:00:00-05:00",
          "x1": "2021-03-10T00:00:00-05:00",
          "xref": "x",
          "y0": 0,
          "y1": 1,
          "yref": "y domain"
         },
         {
          "line": {
           "color": "purple",
           "dash": "dash",
           "width": 3
          },
          "type": "line",
          "x0": "2021-03-11T00:00:00-05:00",
          "x1": "2021-03-11T00:00:00-05:00",
          "xref": "x",
          "y0": 0,
          "y1": 1,
          "yref": "y domain"
         },
         {
          "line": {
           "color": "purple",
           "dash": "dash",
           "width": 3
          },
          "type": "line",
          "x0": "2021-03-12T00:00:00-05:00",
          "x1": "2021-03-12T00:00:00-05:00",
          "xref": "x",
          "y0": 0,
          "y1": 1,
          "yref": "y domain"
         },
         {
          "line": {
           "color": "purple",
           "dash": "dash",
           "width": 3
          },
          "type": "line",
          "x0": "2021-03-15T00:00:00-04:00",
          "x1": "2021-03-15T00:00:00-04:00",
          "xref": "x",
          "y0": 0,
          "y1": 1,
          "yref": "y domain"
         },
         {
          "line": {
           "color": "purple",
           "dash": "dash",
           "width": 3
          },
          "type": "line",
          "x0": "2021-03-16T00:00:00-04:00",
          "x1": "2021-03-16T00:00:00-04:00",
          "xref": "x",
          "y0": 0,
          "y1": 1,
          "yref": "y domain"
         },
         {
          "line": {
           "color": "purple",
           "dash": "dash",
           "width": 3
          },
          "type": "line",
          "x0": "2021-03-17T00:00:00-04:00",
          "x1": "2021-03-17T00:00:00-04:00",
          "xref": "x",
          "y0": 0,
          "y1": 1,
          "yref": "y domain"
         },
         {
          "line": {
           "color": "purple",
           "dash": "dash",
           "width": 3
          },
          "type": "line",
          "x0": "2021-03-18T00:00:00-04:00",
          "x1": "2021-03-18T00:00:00-04:00",
          "xref": "x",
          "y0": 0,
          "y1": 1,
          "yref": "y domain"
         },
         {
          "line": {
           "color": "purple",
           "dash": "dash",
           "width": 3
          },
          "type": "line",
          "x0": "2021-03-19T00:00:00-04:00",
          "x1": "2021-03-19T00:00:00-04:00",
          "xref": "x",
          "y0": 0,
          "y1": 1,
          "yref": "y domain"
         },
         {
          "line": {
           "color": "purple",
           "dash": "dash",
           "width": 3
          },
          "type": "line",
          "x0": "2021-04-06T00:00:00-04:00",
          "x1": "2021-04-06T00:00:00-04:00",
          "xref": "x",
          "y0": 0,
          "y1": 1,
          "yref": "y domain"
         },
         {
          "line": {
           "color": "purple",
           "dash": "dash",
           "width": 3
          },
          "type": "line",
          "x0": "2021-04-07T00:00:00-04:00",
          "x1": "2021-04-07T00:00:00-04:00",
          "xref": "x",
          "y0": 0,
          "y1": 1,
          "yref": "y domain"
         },
         {
          "line": {
           "color": "purple",
           "dash": "dash",
           "width": 3
          },
          "type": "line",
          "x0": "2021-04-08T00:00:00-04:00",
          "x1": "2021-04-08T00:00:00-04:00",
          "xref": "x",
          "y0": 0,
          "y1": 1,
          "yref": "y domain"
         },
         {
          "line": {
           "color": "purple",
           "dash": "dash",
           "width": 3
          },
          "type": "line",
          "x0": "2021-04-09T00:00:00-04:00",
          "x1": "2021-04-09T00:00:00-04:00",
          "xref": "x",
          "y0": 0,
          "y1": 1,
          "yref": "y domain"
         },
         {
          "line": {
           "color": "purple",
           "dash": "dash",
           "width": 3
          },
          "type": "line",
          "x0": "2021-04-12T00:00:00-04:00",
          "x1": "2021-04-12T00:00:00-04:00",
          "xref": "x",
          "y0": 0,
          "y1": 1,
          "yref": "y domain"
         },
         {
          "line": {
           "color": "purple",
           "dash": "dash",
           "width": 3
          },
          "type": "line",
          "x0": "2021-04-13T00:00:00-04:00",
          "x1": "2021-04-13T00:00:00-04:00",
          "xref": "x",
          "y0": 0,
          "y1": 1,
          "yref": "y domain"
         },
         {
          "line": {
           "color": "purple",
           "dash": "dash",
           "width": 3
          },
          "type": "line",
          "x0": "2021-06-01T00:00:00-04:00",
          "x1": "2021-06-01T00:00:00-04:00",
          "xref": "x",
          "y0": 0,
          "y1": 1,
          "yref": "y domain"
         },
         {
          "line": {
           "color": "purple",
           "dash": "dash",
           "width": 3
          },
          "type": "line",
          "x0": "2021-06-02T00:00:00-04:00",
          "x1": "2021-06-02T00:00:00-04:00",
          "xref": "x",
          "y0": 0,
          "y1": 1,
          "yref": "y domain"
         },
         {
          "line": {
           "color": "purple",
           "dash": "dash",
           "width": 3
          },
          "type": "line",
          "x0": "2021-06-03T00:00:00-04:00",
          "x1": "2021-06-03T00:00:00-04:00",
          "xref": "x",
          "y0": 0,
          "y1": 1,
          "yref": "y domain"
         },
         {
          "line": {
           "color": "purple",
           "dash": "dash",
           "width": 3
          },
          "type": "line",
          "x0": "2021-06-04T00:00:00-04:00",
          "x1": "2021-06-04T00:00:00-04:00",
          "xref": "x",
          "y0": 0,
          "y1": 1,
          "yref": "y domain"
         },
         {
          "line": {
           "color": "purple",
           "dash": "dash",
           "width": 3
          },
          "type": "line",
          "x0": "2021-06-07T00:00:00-04:00",
          "x1": "2021-06-07T00:00:00-04:00",
          "xref": "x",
          "y0": 0,
          "y1": 1,
          "yref": "y domain"
         },
         {
          "line": {
           "color": "purple",
           "dash": "dash",
           "width": 3
          },
          "type": "line",
          "x0": "2021-06-08T00:00:00-04:00",
          "x1": "2021-06-08T00:00:00-04:00",
          "xref": "x",
          "y0": 0,
          "y1": 1,
          "yref": "y domain"
         },
         {
          "line": {
           "color": "purple",
           "dash": "dash",
           "width": 3
          },
          "type": "line",
          "x0": "2021-06-09T00:00:00-04:00",
          "x1": "2021-06-09T00:00:00-04:00",
          "xref": "x",
          "y0": 0,
          "y1": 1,
          "yref": "y domain"
         },
         {
          "line": {
           "color": "purple",
           "dash": "dash",
           "width": 3
          },
          "type": "line",
          "x0": "2021-06-10T00:00:00-04:00",
          "x1": "2021-06-10T00:00:00-04:00",
          "xref": "x",
          "y0": 0,
          "y1": 1,
          "yref": "y domain"
         },
         {
          "line": {
           "color": "purple",
           "dash": "dash",
           "width": 3
          },
          "type": "line",
          "x0": "2021-06-11T00:00:00-04:00",
          "x1": "2021-06-11T00:00:00-04:00",
          "xref": "x",
          "y0": 0,
          "y1": 1,
          "yref": "y domain"
         },
         {
          "line": {
           "color": "purple",
           "dash": "dash",
           "width": 3
          },
          "type": "line",
          "x0": "2021-06-14T00:00:00-04:00",
          "x1": "2021-06-14T00:00:00-04:00",
          "xref": "x",
          "y0": 0,
          "y1": 1,
          "yref": "y domain"
         },
         {
          "line": {
           "color": "purple",
           "dash": "dash",
           "width": 3
          },
          "type": "line",
          "x0": "2021-06-15T00:00:00-04:00",
          "x1": "2021-06-15T00:00:00-04:00",
          "xref": "x",
          "y0": 0,
          "y1": 1,
          "yref": "y domain"
         },
         {
          "line": {
           "color": "purple",
           "dash": "dash",
           "width": 3
          },
          "type": "line",
          "x0": "2021-06-16T00:00:00-04:00",
          "x1": "2021-06-16T00:00:00-04:00",
          "xref": "x",
          "y0": 0,
          "y1": 1,
          "yref": "y domain"
         },
         {
          "line": {
           "color": "purple",
           "dash": "dash",
           "width": 3
          },
          "type": "line",
          "x0": "2021-06-17T00:00:00-04:00",
          "x1": "2021-06-17T00:00:00-04:00",
          "xref": "x",
          "y0": 0,
          "y1": 1,
          "yref": "y domain"
         },
         {
          "line": {
           "color": "purple",
           "dash": "dash",
           "width": 3
          },
          "type": "line",
          "x0": "2021-06-18T00:00:00-04:00",
          "x1": "2021-06-18T00:00:00-04:00",
          "xref": "x",
          "y0": 0,
          "y1": 1,
          "yref": "y domain"
         },
         {
          "line": {
           "color": "purple",
           "dash": "dash",
           "width": 3
          },
          "type": "line",
          "x0": "2021-06-21T00:00:00-04:00",
          "x1": "2021-06-21T00:00:00-04:00",
          "xref": "x",
          "y0": 0,
          "y1": 1,
          "yref": "y domain"
         },
         {
          "line": {
           "color": "purple",
           "dash": "dash",
           "width": 3
          },
          "type": "line",
          "x0": "2021-06-22T00:00:00-04:00",
          "x1": "2021-06-22T00:00:00-04:00",
          "xref": "x",
          "y0": 0,
          "y1": 1,
          "yref": "y domain"
         },
         {
          "line": {
           "color": "purple",
           "dash": "dash",
           "width": 3
          },
          "type": "line",
          "x0": "2021-06-23T00:00:00-04:00",
          "x1": "2021-06-23T00:00:00-04:00",
          "xref": "x",
          "y0": 0,
          "y1": 1,
          "yref": "y domain"
         },
         {
          "line": {
           "color": "purple",
           "dash": "dash",
           "width": 3
          },
          "type": "line",
          "x0": "2021-06-24T00:00:00-04:00",
          "x1": "2021-06-24T00:00:00-04:00",
          "xref": "x",
          "y0": 0,
          "y1": 1,
          "yref": "y domain"
         },
         {
          "line": {
           "color": "purple",
           "dash": "dash",
           "width": 3
          },
          "type": "line",
          "x0": "2021-06-25T00:00:00-04:00",
          "x1": "2021-06-25T00:00:00-04:00",
          "xref": "x",
          "y0": 0,
          "y1": 1,
          "yref": "y domain"
         },
         {
          "line": {
           "color": "purple",
           "dash": "dash",
           "width": 3
          },
          "type": "line",
          "x0": "2021-06-28T00:00:00-04:00",
          "x1": "2021-06-28T00:00:00-04:00",
          "xref": "x",
          "y0": 0,
          "y1": 1,
          "yref": "y domain"
         },
         {
          "line": {
           "color": "purple",
           "dash": "dash",
           "width": 3
          },
          "type": "line",
          "x0": "2021-06-29T00:00:00-04:00",
          "x1": "2021-06-29T00:00:00-04:00",
          "xref": "x",
          "y0": 0,
          "y1": 1,
          "yref": "y domain"
         },
         {
          "line": {
           "color": "purple",
           "dash": "dash",
           "width": 3
          },
          "type": "line",
          "x0": "2021-06-30T00:00:00-04:00",
          "x1": "2021-06-30T00:00:00-04:00",
          "xref": "x",
          "y0": 0,
          "y1": 1,
          "yref": "y domain"
         },
         {
          "line": {
           "color": "purple",
           "dash": "dash",
           "width": 3
          },
          "type": "line",
          "x0": "2021-07-01T00:00:00-04:00",
          "x1": "2021-07-01T00:00:00-04:00",
          "xref": "x",
          "y0": 0,
          "y1": 1,
          "yref": "y domain"
         },
         {
          "line": {
           "color": "purple",
           "dash": "dash",
           "width": 3
          },
          "type": "line",
          "x0": "2021-07-02T00:00:00-04:00",
          "x1": "2021-07-02T00:00:00-04:00",
          "xref": "x",
          "y0": 0,
          "y1": 1,
          "yref": "y domain"
         },
         {
          "line": {
           "color": "purple",
           "dash": "dash",
           "width": 3
          },
          "type": "line",
          "x0": "2021-07-06T00:00:00-04:00",
          "x1": "2021-07-06T00:00:00-04:00",
          "xref": "x",
          "y0": 0,
          "y1": 1,
          "yref": "y domain"
         },
         {
          "line": {
           "color": "purple",
           "dash": "dash",
           "width": 3
          },
          "type": "line",
          "x0": "2021-07-07T00:00:00-04:00",
          "x1": "2021-07-07T00:00:00-04:00",
          "xref": "x",
          "y0": 0,
          "y1": 1,
          "yref": "y domain"
         },
         {
          "line": {
           "color": "purple",
           "dash": "dash",
           "width": 3
          },
          "type": "line",
          "x0": "2021-07-08T00:00:00-04:00",
          "x1": "2021-07-08T00:00:00-04:00",
          "xref": "x",
          "y0": 0,
          "y1": 1,
          "yref": "y domain"
         },
         {
          "line": {
           "color": "purple",
           "dash": "dash",
           "width": 3
          },
          "type": "line",
          "x0": "2021-07-09T00:00:00-04:00",
          "x1": "2021-07-09T00:00:00-04:00",
          "xref": "x",
          "y0": 0,
          "y1": 1,
          "yref": "y domain"
         },
         {
          "line": {
           "color": "purple",
           "dash": "dash",
           "width": 3
          },
          "type": "line",
          "x0": "2021-07-12T00:00:00-04:00",
          "x1": "2021-07-12T00:00:00-04:00",
          "xref": "x",
          "y0": 0,
          "y1": 1,
          "yref": "y domain"
         },
         {
          "line": {
           "color": "purple",
           "dash": "dash",
           "width": 3
          },
          "type": "line",
          "x0": "2021-07-13T00:00:00-04:00",
          "x1": "2021-07-13T00:00:00-04:00",
          "xref": "x",
          "y0": 0,
          "y1": 1,
          "yref": "y domain"
         },
         {
          "line": {
           "color": "purple",
           "dash": "dash",
           "width": 3
          },
          "type": "line",
          "x0": "2021-07-14T00:00:00-04:00",
          "x1": "2021-07-14T00:00:00-04:00",
          "xref": "x",
          "y0": 0,
          "y1": 1,
          "yref": "y domain"
         },
         {
          "line": {
           "color": "purple",
           "dash": "dash",
           "width": 3
          },
          "type": "line",
          "x0": "2021-07-15T00:00:00-04:00",
          "x1": "2021-07-15T00:00:00-04:00",
          "xref": "x",
          "y0": 0,
          "y1": 1,
          "yref": "y domain"
         },
         {
          "line": {
           "color": "purple",
           "dash": "dash",
           "width": 3
          },
          "type": "line",
          "x0": "2021-07-23T00:00:00-04:00",
          "x1": "2021-07-23T00:00:00-04:00",
          "xref": "x",
          "y0": 0,
          "y1": 1,
          "yref": "y domain"
         },
         {
          "line": {
           "color": "purple",
           "dash": "dash",
           "width": 3
          },
          "type": "line",
          "x0": "2021-07-26T00:00:00-04:00",
          "x1": "2021-07-26T00:00:00-04:00",
          "xref": "x",
          "y0": 0,
          "y1": 1,
          "yref": "y domain"
         },
         {
          "line": {
           "color": "purple",
           "dash": "dash",
           "width": 3
          },
          "type": "line",
          "x0": "2021-07-28T00:00:00-04:00",
          "x1": "2021-07-28T00:00:00-04:00",
          "xref": "x",
          "y0": 0,
          "y1": 1,
          "yref": "y domain"
         },
         {
          "line": {
           "color": "purple",
           "dash": "dash",
           "width": 3
          },
          "type": "line",
          "x0": "2021-07-29T00:00:00-04:00",
          "x1": "2021-07-29T00:00:00-04:00",
          "xref": "x",
          "y0": 0,
          "y1": 1,
          "yref": "y domain"
         },
         {
          "line": {
           "color": "purple",
           "dash": "dash",
           "width": 3
          },
          "type": "line",
          "x0": "2021-07-30T00:00:00-04:00",
          "x1": "2021-07-30T00:00:00-04:00",
          "xref": "x",
          "y0": 0,
          "y1": 1,
          "yref": "y domain"
         },
         {
          "line": {
           "color": "purple",
           "dash": "dash",
           "width": 3
          },
          "type": "line",
          "x0": "2021-08-02T00:00:00-04:00",
          "x1": "2021-08-02T00:00:00-04:00",
          "xref": "x",
          "y0": 0,
          "y1": 1,
          "yref": "y domain"
         },
         {
          "line": {
           "color": "purple",
           "dash": "dash",
           "width": 3
          },
          "type": "line",
          "x0": "2021-08-03T00:00:00-04:00",
          "x1": "2021-08-03T00:00:00-04:00",
          "xref": "x",
          "y0": 0,
          "y1": 1,
          "yref": "y domain"
         },
         {
          "line": {
           "color": "purple",
           "dash": "dash",
           "width": 3
          },
          "type": "line",
          "x0": "2021-08-04T00:00:00-04:00",
          "x1": "2021-08-04T00:00:00-04:00",
          "xref": "x",
          "y0": 0,
          "y1": 1,
          "yref": "y domain"
         },
         {
          "line": {
           "color": "purple",
           "dash": "dash",
           "width": 3
          },
          "type": "line",
          "x0": "2021-08-05T00:00:00-04:00",
          "x1": "2021-08-05T00:00:00-04:00",
          "xref": "x",
          "y0": 0,
          "y1": 1,
          "yref": "y domain"
         },
         {
          "line": {
           "color": "purple",
           "dash": "dash",
           "width": 3
          },
          "type": "line",
          "x0": "2021-08-06T00:00:00-04:00",
          "x1": "2021-08-06T00:00:00-04:00",
          "xref": "x",
          "y0": 0,
          "y1": 1,
          "yref": "y domain"
         },
         {
          "line": {
           "color": "purple",
           "dash": "dash",
           "width": 3
          },
          "type": "line",
          "x0": "2021-08-09T00:00:00-04:00",
          "x1": "2021-08-09T00:00:00-04:00",
          "xref": "x",
          "y0": 0,
          "y1": 1,
          "yref": "y domain"
         },
         {
          "line": {
           "color": "purple",
           "dash": "dash",
           "width": 3
          },
          "type": "line",
          "x0": "2021-08-10T00:00:00-04:00",
          "x1": "2021-08-10T00:00:00-04:00",
          "xref": "x",
          "y0": 0,
          "y1": 1,
          "yref": "y domain"
         },
         {
          "line": {
           "color": "purple",
           "dash": "dash",
           "width": 3
          },
          "type": "line",
          "x0": "2021-08-11T00:00:00-04:00",
          "x1": "2021-08-11T00:00:00-04:00",
          "xref": "x",
          "y0": 0,
          "y1": 1,
          "yref": "y domain"
         },
         {
          "line": {
           "color": "purple",
           "dash": "dash",
           "width": 3
          },
          "type": "line",
          "x0": "2021-08-12T00:00:00-04:00",
          "x1": "2021-08-12T00:00:00-04:00",
          "xref": "x",
          "y0": 0,
          "y1": 1,
          "yref": "y domain"
         },
         {
          "line": {
           "color": "purple",
           "dash": "dash",
           "width": 3
          },
          "type": "line",
          "x0": "2021-08-13T00:00:00-04:00",
          "x1": "2021-08-13T00:00:00-04:00",
          "xref": "x",
          "y0": 0,
          "y1": 1,
          "yref": "y domain"
         },
         {
          "line": {
           "color": "purple",
           "dash": "dash",
           "width": 3
          },
          "type": "line",
          "x0": "2021-08-16T00:00:00-04:00",
          "x1": "2021-08-16T00:00:00-04:00",
          "xref": "x",
          "y0": 0,
          "y1": 1,
          "yref": "y domain"
         },
         {
          "line": {
           "color": "purple",
           "dash": "dash",
           "width": 3
          },
          "type": "line",
          "x0": "2021-08-17T00:00:00-04:00",
          "x1": "2021-08-17T00:00:00-04:00",
          "xref": "x",
          "y0": 0,
          "y1": 1,
          "yref": "y domain"
         },
         {
          "line": {
           "color": "purple",
           "dash": "dash",
           "width": 3
          },
          "type": "line",
          "x0": "2021-08-18T00:00:00-04:00",
          "x1": "2021-08-18T00:00:00-04:00",
          "xref": "x",
          "y0": 0,
          "y1": 1,
          "yref": "y domain"
         },
         {
          "line": {
           "color": "purple",
           "dash": "dash",
           "width": 3
          },
          "type": "line",
          "x0": "2021-08-19T00:00:00-04:00",
          "x1": "2021-08-19T00:00:00-04:00",
          "xref": "x",
          "y0": 0,
          "y1": 1,
          "yref": "y domain"
         },
         {
          "line": {
           "color": "purple",
           "dash": "dash",
           "width": 3
          },
          "type": "line",
          "x0": "2021-08-20T00:00:00-04:00",
          "x1": "2021-08-20T00:00:00-04:00",
          "xref": "x",
          "y0": 0,
          "y1": 1,
          "yref": "y domain"
         },
         {
          "line": {
           "color": "purple",
           "dash": "dash",
           "width": 3
          },
          "type": "line",
          "x0": "2021-08-23T00:00:00-04:00",
          "x1": "2021-08-23T00:00:00-04:00",
          "xref": "x",
          "y0": 0,
          "y1": 1,
          "yref": "y domain"
         },
         {
          "line": {
           "color": "purple",
           "dash": "dash",
           "width": 3
          },
          "type": "line",
          "x0": "2021-08-24T00:00:00-04:00",
          "x1": "2021-08-24T00:00:00-04:00",
          "xref": "x",
          "y0": 0,
          "y1": 1,
          "yref": "y domain"
         },
         {
          "line": {
           "color": "purple",
           "dash": "dash",
           "width": 3
          },
          "type": "line",
          "x0": "2021-08-25T00:00:00-04:00",
          "x1": "2021-08-25T00:00:00-04:00",
          "xref": "x",
          "y0": 0,
          "y1": 1,
          "yref": "y domain"
         },
         {
          "line": {
           "color": "purple",
           "dash": "dash",
           "width": 3
          },
          "type": "line",
          "x0": "2021-08-26T00:00:00-04:00",
          "x1": "2021-08-26T00:00:00-04:00",
          "xref": "x",
          "y0": 0,
          "y1": 1,
          "yref": "y domain"
         },
         {
          "line": {
           "color": "purple",
           "dash": "dash",
           "width": 3
          },
          "type": "line",
          "x0": "2021-08-27T00:00:00-04:00",
          "x1": "2021-08-27T00:00:00-04:00",
          "xref": "x",
          "y0": 0,
          "y1": 1,
          "yref": "y domain"
         },
         {
          "line": {
           "color": "purple",
           "dash": "dash",
           "width": 3
          },
          "type": "line",
          "x0": "2021-08-30T00:00:00-04:00",
          "x1": "2021-08-30T00:00:00-04:00",
          "xref": "x",
          "y0": 0,
          "y1": 1,
          "yref": "y domain"
         },
         {
          "line": {
           "color": "purple",
           "dash": "dash",
           "width": 3
          },
          "type": "line",
          "x0": "2021-08-31T00:00:00-04:00",
          "x1": "2021-08-31T00:00:00-04:00",
          "xref": "x",
          "y0": 0,
          "y1": 1,
          "yref": "y domain"
         },
         {
          "line": {
           "color": "purple",
           "dash": "dash",
           "width": 3
          },
          "type": "line",
          "x0": "2021-09-01T00:00:00-04:00",
          "x1": "2021-09-01T00:00:00-04:00",
          "xref": "x",
          "y0": 0,
          "y1": 1,
          "yref": "y domain"
         },
         {
          "line": {
           "color": "purple",
           "dash": "dash",
           "width": 3
          },
          "type": "line",
          "x0": "2021-09-02T00:00:00-04:00",
          "x1": "2021-09-02T00:00:00-04:00",
          "xref": "x",
          "y0": 0,
          "y1": 1,
          "yref": "y domain"
         },
         {
          "line": {
           "color": "purple",
           "dash": "dash",
           "width": 3
          },
          "type": "line",
          "x0": "2021-09-03T00:00:00-04:00",
          "x1": "2021-09-03T00:00:00-04:00",
          "xref": "x",
          "y0": 0,
          "y1": 1,
          "yref": "y domain"
         },
         {
          "line": {
           "color": "purple",
           "dash": "dash",
           "width": 3
          },
          "type": "line",
          "x0": "2021-11-09T00:00:00-05:00",
          "x1": "2021-11-09T00:00:00-05:00",
          "xref": "x",
          "y0": 0,
          "y1": 1,
          "yref": "y domain"
         },
         {
          "line": {
           "color": "purple",
           "dash": "dash",
           "width": 3
          },
          "type": "line",
          "x0": "2021-11-10T00:00:00-05:00",
          "x1": "2021-11-10T00:00:00-05:00",
          "xref": "x",
          "y0": 0,
          "y1": 1,
          "yref": "y domain"
         },
         {
          "line": {
           "color": "purple",
           "dash": "dash",
           "width": 3
          },
          "type": "line",
          "x0": "2021-11-12T00:00:00-05:00",
          "x1": "2021-11-12T00:00:00-05:00",
          "xref": "x",
          "y0": 0,
          "y1": 1,
          "yref": "y domain"
         },
         {
          "line": {
           "color": "purple",
           "dash": "dash",
           "width": 3
          },
          "type": "line",
          "x0": "2021-11-15T00:00:00-05:00",
          "x1": "2021-11-15T00:00:00-05:00",
          "xref": "x",
          "y0": 0,
          "y1": 1,
          "yref": "y domain"
         },
         {
          "line": {
           "color": "purple",
           "dash": "dash",
           "width": 3
          },
          "type": "line",
          "x0": "2021-11-16T00:00:00-05:00",
          "x1": "2021-11-16T00:00:00-05:00",
          "xref": "x",
          "y0": 0,
          "y1": 1,
          "yref": "y domain"
         },
         {
          "line": {
           "color": "purple",
           "dash": "dash",
           "width": 3
          },
          "type": "line",
          "x0": "2021-11-17T00:00:00-05:00",
          "x1": "2021-11-17T00:00:00-05:00",
          "xref": "x",
          "y0": 0,
          "y1": 1,
          "yref": "y domain"
         },
         {
          "line": {
           "color": "purple",
           "dash": "dash",
           "width": 3
          },
          "type": "line",
          "x0": "2021-11-18T00:00:00-05:00",
          "x1": "2021-11-18T00:00:00-05:00",
          "xref": "x",
          "y0": 0,
          "y1": 1,
          "yref": "y domain"
         },
         {
          "line": {
           "color": "purple",
           "dash": "dash",
           "width": 3
          },
          "type": "line",
          "x0": "2021-12-16T00:00:00-05:00",
          "x1": "2021-12-16T00:00:00-05:00",
          "xref": "x",
          "y0": 0,
          "y1": 1,
          "yref": "y domain"
         },
         {
          "line": {
           "color": "purple",
           "dash": "dash",
           "width": 3
          },
          "type": "line",
          "x0": "2021-12-17T00:00:00-05:00",
          "x1": "2021-12-17T00:00:00-05:00",
          "xref": "x",
          "y0": 0,
          "y1": 1,
          "yref": "y domain"
         },
         {
          "line": {
           "color": "purple",
           "dash": "dash",
           "width": 3
          },
          "type": "line",
          "x0": "2021-12-22T00:00:00-05:00",
          "x1": "2021-12-22T00:00:00-05:00",
          "xref": "x",
          "y0": 0,
          "y1": 1,
          "yref": "y domain"
         },
         {
          "line": {
           "color": "purple",
           "dash": "dash",
           "width": 3
          },
          "type": "line",
          "x0": "2021-12-23T00:00:00-05:00",
          "x1": "2021-12-23T00:00:00-05:00",
          "xref": "x",
          "y0": 0,
          "y1": 1,
          "yref": "y domain"
         },
         {
          "line": {
           "color": "purple",
           "dash": "dash",
           "width": 3
          },
          "type": "line",
          "x0": "2021-12-27T00:00:00-05:00",
          "x1": "2021-12-27T00:00:00-05:00",
          "xref": "x",
          "y0": 0,
          "y1": 1,
          "yref": "y domain"
         },
         {
          "line": {
           "color": "purple",
           "dash": "dash",
           "width": 3
          },
          "type": "line",
          "x0": "2021-12-28T00:00:00-05:00",
          "x1": "2021-12-28T00:00:00-05:00",
          "xref": "x",
          "y0": 0,
          "y1": 1,
          "yref": "y domain"
         },
         {
          "line": {
           "color": "purple",
           "dash": "dash",
           "width": 3
          },
          "type": "line",
          "x0": "2021-12-29T00:00:00-05:00",
          "x1": "2021-12-29T00:00:00-05:00",
          "xref": "x",
          "y0": 0,
          "y1": 1,
          "yref": "y domain"
         },
         {
          "line": {
           "color": "purple",
           "dash": "dash",
           "width": 3
          },
          "type": "line",
          "x0": "2021-12-30T00:00:00-05:00",
          "x1": "2021-12-30T00:00:00-05:00",
          "xref": "x",
          "y0": 0,
          "y1": 1,
          "yref": "y domain"
         }
        ],
        "template": {
         "data": {
          "bar": [
           {
            "error_x": {
             "color": "#2a3f5f"
            },
            "error_y": {
             "color": "#2a3f5f"
            },
            "marker": {
             "line": {
              "color": "#E5ECF6",
              "width": 0.5
             },
             "pattern": {
              "fillmode": "overlay",
              "size": 10,
              "solidity": 0.2
             }
            },
            "type": "bar"
           }
          ],
          "barpolar": [
           {
            "marker": {
             "line": {
              "color": "#E5ECF6",
              "width": 0.5
             },
             "pattern": {
              "fillmode": "overlay",
              "size": 10,
              "solidity": 0.2
             }
            },
            "type": "barpolar"
           }
          ],
          "carpet": [
           {
            "aaxis": {
             "endlinecolor": "#2a3f5f",
             "gridcolor": "white",
             "linecolor": "white",
             "minorgridcolor": "white",
             "startlinecolor": "#2a3f5f"
            },
            "baxis": {
             "endlinecolor": "#2a3f5f",
             "gridcolor": "white",
             "linecolor": "white",
             "minorgridcolor": "white",
             "startlinecolor": "#2a3f5f"
            },
            "type": "carpet"
           }
          ],
          "choropleth": [
           {
            "colorbar": {
             "outlinewidth": 0,
             "ticks": ""
            },
            "type": "choropleth"
           }
          ],
          "contour": [
           {
            "colorbar": {
             "outlinewidth": 0,
             "ticks": ""
            },
            "colorscale": [
             [
              0,
              "#0d0887"
             ],
             [
              0.1111111111111111,
              "#46039f"
             ],
             [
              0.2222222222222222,
              "#7201a8"
             ],
             [
              0.3333333333333333,
              "#9c179e"
             ],
             [
              0.4444444444444444,
              "#bd3786"
             ],
             [
              0.5555555555555556,
              "#d8576b"
             ],
             [
              0.6666666666666666,
              "#ed7953"
             ],
             [
              0.7777777777777778,
              "#fb9f3a"
             ],
             [
              0.8888888888888888,
              "#fdca26"
             ],
             [
              1,
              "#f0f921"
             ]
            ],
            "type": "contour"
           }
          ],
          "contourcarpet": [
           {
            "colorbar": {
             "outlinewidth": 0,
             "ticks": ""
            },
            "type": "contourcarpet"
           }
          ],
          "heatmap": [
           {
            "colorbar": {
             "outlinewidth": 0,
             "ticks": ""
            },
            "colorscale": [
             [
              0,
              "#0d0887"
             ],
             [
              0.1111111111111111,
              "#46039f"
             ],
             [
              0.2222222222222222,
              "#7201a8"
             ],
             [
              0.3333333333333333,
              "#9c179e"
             ],
             [
              0.4444444444444444,
              "#bd3786"
             ],
             [
              0.5555555555555556,
              "#d8576b"
             ],
             [
              0.6666666666666666,
              "#ed7953"
             ],
             [
              0.7777777777777778,
              "#fb9f3a"
             ],
             [
              0.8888888888888888,
              "#fdca26"
             ],
             [
              1,
              "#f0f921"
             ]
            ],
            "type": "heatmap"
           }
          ],
          "heatmapgl": [
           {
            "colorbar": {
             "outlinewidth": 0,
             "ticks": ""
            },
            "colorscale": [
             [
              0,
              "#0d0887"
             ],
             [
              0.1111111111111111,
              "#46039f"
             ],
             [
              0.2222222222222222,
              "#7201a8"
             ],
             [
              0.3333333333333333,
              "#9c179e"
             ],
             [
              0.4444444444444444,
              "#bd3786"
             ],
             [
              0.5555555555555556,
              "#d8576b"
             ],
             [
              0.6666666666666666,
              "#ed7953"
             ],
             [
              0.7777777777777778,
              "#fb9f3a"
             ],
             [
              0.8888888888888888,
              "#fdca26"
             ],
             [
              1,
              "#f0f921"
             ]
            ],
            "type": "heatmapgl"
           }
          ],
          "histogram": [
           {
            "marker": {
             "pattern": {
              "fillmode": "overlay",
              "size": 10,
              "solidity": 0.2
             }
            },
            "type": "histogram"
           }
          ],
          "histogram2d": [
           {
            "colorbar": {
             "outlinewidth": 0,
             "ticks": ""
            },
            "colorscale": [
             [
              0,
              "#0d0887"
             ],
             [
              0.1111111111111111,
              "#46039f"
             ],
             [
              0.2222222222222222,
              "#7201a8"
             ],
             [
              0.3333333333333333,
              "#9c179e"
             ],
             [
              0.4444444444444444,
              "#bd3786"
             ],
             [
              0.5555555555555556,
              "#d8576b"
             ],
             [
              0.6666666666666666,
              "#ed7953"
             ],
             [
              0.7777777777777778,
              "#fb9f3a"
             ],
             [
              0.8888888888888888,
              "#fdca26"
             ],
             [
              1,
              "#f0f921"
             ]
            ],
            "type": "histogram2d"
           }
          ],
          "histogram2dcontour": [
           {
            "colorbar": {
             "outlinewidth": 0,
             "ticks": ""
            },
            "colorscale": [
             [
              0,
              "#0d0887"
             ],
             [
              0.1111111111111111,
              "#46039f"
             ],
             [
              0.2222222222222222,
              "#7201a8"
             ],
             [
              0.3333333333333333,
              "#9c179e"
             ],
             [
              0.4444444444444444,
              "#bd3786"
             ],
             [
              0.5555555555555556,
              "#d8576b"
             ],
             [
              0.6666666666666666,
              "#ed7953"
             ],
             [
              0.7777777777777778,
              "#fb9f3a"
             ],
             [
              0.8888888888888888,
              "#fdca26"
             ],
             [
              1,
              "#f0f921"
             ]
            ],
            "type": "histogram2dcontour"
           }
          ],
          "mesh3d": [
           {
            "colorbar": {
             "outlinewidth": 0,
             "ticks": ""
            },
            "type": "mesh3d"
           }
          ],
          "parcoords": [
           {
            "line": {
             "colorbar": {
              "outlinewidth": 0,
              "ticks": ""
             }
            },
            "type": "parcoords"
           }
          ],
          "pie": [
           {
            "automargin": true,
            "type": "pie"
           }
          ],
          "scatter": [
           {
            "fillpattern": {
             "fillmode": "overlay",
             "size": 10,
             "solidity": 0.2
            },
            "type": "scatter"
           }
          ],
          "scatter3d": [
           {
            "line": {
             "colorbar": {
              "outlinewidth": 0,
              "ticks": ""
             }
            },
            "marker": {
             "colorbar": {
              "outlinewidth": 0,
              "ticks": ""
             }
            },
            "type": "scatter3d"
           }
          ],
          "scattercarpet": [
           {
            "marker": {
             "colorbar": {
              "outlinewidth": 0,
              "ticks": ""
             }
            },
            "type": "scattercarpet"
           }
          ],
          "scattergeo": [
           {
            "marker": {
             "colorbar": {
              "outlinewidth": 0,
              "ticks": ""
             }
            },
            "type": "scattergeo"
           }
          ],
          "scattergl": [
           {
            "marker": {
             "colorbar": {
              "outlinewidth": 0,
              "ticks": ""
             }
            },
            "type": "scattergl"
           }
          ],
          "scattermapbox": [
           {
            "marker": {
             "colorbar": {
              "outlinewidth": 0,
              "ticks": ""
             }
            },
            "type": "scattermapbox"
           }
          ],
          "scatterpolar": [
           {
            "marker": {
             "colorbar": {
              "outlinewidth": 0,
              "ticks": ""
             }
            },
            "type": "scatterpolar"
           }
          ],
          "scatterpolargl": [
           {
            "marker": {
             "colorbar": {
              "outlinewidth": 0,
              "ticks": ""
             }
            },
            "type": "scatterpolargl"
           }
          ],
          "scatterternary": [
           {
            "marker": {
             "colorbar": {
              "outlinewidth": 0,
              "ticks": ""
             }
            },
            "type": "scatterternary"
           }
          ],
          "surface": [
           {
            "colorbar": {
             "outlinewidth": 0,
             "ticks": ""
            },
            "colorscale": [
             [
              0,
              "#0d0887"
             ],
             [
              0.1111111111111111,
              "#46039f"
             ],
             [
              0.2222222222222222,
              "#7201a8"
             ],
             [
              0.3333333333333333,
              "#9c179e"
             ],
             [
              0.4444444444444444,
              "#bd3786"
             ],
             [
              0.5555555555555556,
              "#d8576b"
             ],
             [
              0.6666666666666666,
              "#ed7953"
             ],
             [
              0.7777777777777778,
              "#fb9f3a"
             ],
             [
              0.8888888888888888,
              "#fdca26"
             ],
             [
              1,
              "#f0f921"
             ]
            ],
            "type": "surface"
           }
          ],
          "table": [
           {
            "cells": {
             "fill": {
              "color": "#EBF0F8"
             },
             "line": {
              "color": "white"
             }
            },
            "header": {
             "fill": {
              "color": "#C8D4E3"
             },
             "line": {
              "color": "white"
             }
            },
            "type": "table"
           }
          ]
         },
         "layout": {
          "annotationdefaults": {
           "arrowcolor": "#2a3f5f",
           "arrowhead": 0,
           "arrowwidth": 1
          },
          "autotypenumbers": "strict",
          "coloraxis": {
           "colorbar": {
            "outlinewidth": 0,
            "ticks": ""
           }
          },
          "colorscale": {
           "diverging": [
            [
             0,
             "#8e0152"
            ],
            [
             0.1,
             "#c51b7d"
            ],
            [
             0.2,
             "#de77ae"
            ],
            [
             0.3,
             "#f1b6da"
            ],
            [
             0.4,
             "#fde0ef"
            ],
            [
             0.5,
             "#f7f7f7"
            ],
            [
             0.6,
             "#e6f5d0"
            ],
            [
             0.7,
             "#b8e186"
            ],
            [
             0.8,
             "#7fbc41"
            ],
            [
             0.9,
             "#4d9221"
            ],
            [
             1,
             "#276419"
            ]
           ],
           "sequential": [
            [
             0,
             "#0d0887"
            ],
            [
             0.1111111111111111,
             "#46039f"
            ],
            [
             0.2222222222222222,
             "#7201a8"
            ],
            [
             0.3333333333333333,
             "#9c179e"
            ],
            [
             0.4444444444444444,
             "#bd3786"
            ],
            [
             0.5555555555555556,
             "#d8576b"
            ],
            [
             0.6666666666666666,
             "#ed7953"
            ],
            [
             0.7777777777777778,
             "#fb9f3a"
            ],
            [
             0.8888888888888888,
             "#fdca26"
            ],
            [
             1,
             "#f0f921"
            ]
           ],
           "sequentialminus": [
            [
             0,
             "#0d0887"
            ],
            [
             0.1111111111111111,
             "#46039f"
            ],
            [
             0.2222222222222222,
             "#7201a8"
            ],
            [
             0.3333333333333333,
             "#9c179e"
            ],
            [
             0.4444444444444444,
             "#bd3786"
            ],
            [
             0.5555555555555556,
             "#d8576b"
            ],
            [
             0.6666666666666666,
             "#ed7953"
            ],
            [
             0.7777777777777778,
             "#fb9f3a"
            ],
            [
             0.8888888888888888,
             "#fdca26"
            ],
            [
             1,
             "#f0f921"
            ]
           ]
          },
          "colorway": [
           "#636efa",
           "#EF553B",
           "#00cc96",
           "#ab63fa",
           "#FFA15A",
           "#19d3f3",
           "#FF6692",
           "#B6E880",
           "#FF97FF",
           "#FECB52"
          ],
          "font": {
           "color": "#2a3f5f"
          },
          "geo": {
           "bgcolor": "white",
           "lakecolor": "white",
           "landcolor": "#E5ECF6",
           "showlakes": true,
           "showland": true,
           "subunitcolor": "white"
          },
          "hoverlabel": {
           "align": "left"
          },
          "hovermode": "closest",
          "mapbox": {
           "style": "light"
          },
          "paper_bgcolor": "white",
          "plot_bgcolor": "#E5ECF6",
          "polar": {
           "angularaxis": {
            "gridcolor": "white",
            "linecolor": "white",
            "ticks": ""
           },
           "bgcolor": "#E5ECF6",
           "radialaxis": {
            "gridcolor": "white",
            "linecolor": "white",
            "ticks": ""
           }
          },
          "scene": {
           "xaxis": {
            "backgroundcolor": "#E5ECF6",
            "gridcolor": "white",
            "gridwidth": 2,
            "linecolor": "white",
            "showbackground": true,
            "ticks": "",
            "zerolinecolor": "white"
           },
           "yaxis": {
            "backgroundcolor": "#E5ECF6",
            "gridcolor": "white",
            "gridwidth": 2,
            "linecolor": "white",
            "showbackground": true,
            "ticks": "",
            "zerolinecolor": "white"
           },
           "zaxis": {
            "backgroundcolor": "#E5ECF6",
            "gridcolor": "white",
            "gridwidth": 2,
            "linecolor": "white",
            "showbackground": true,
            "ticks": "",
            "zerolinecolor": "white"
           }
          },
          "shapedefaults": {
           "line": {
            "color": "#2a3f5f"
           }
          },
          "ternary": {
           "aaxis": {
            "gridcolor": "white",
            "linecolor": "white",
            "ticks": ""
           },
           "baxis": {
            "gridcolor": "white",
            "linecolor": "white",
            "ticks": ""
           },
           "bgcolor": "#E5ECF6",
           "caxis": {
            "gridcolor": "white",
            "linecolor": "white",
            "ticks": ""
           }
          },
          "title": {
           "x": 0.05
          },
          "xaxis": {
           "automargin": true,
           "gridcolor": "white",
           "linecolor": "white",
           "ticks": "",
           "title": {
            "standoff": 15
           },
           "zerolinecolor": "white",
           "zerolinewidth": 2
          },
          "yaxis": {
           "automargin": true,
           "gridcolor": "white",
           "linecolor": "white",
           "ticks": "",
           "title": {
            "standoff": 15
           },
           "zerolinecolor": "white",
           "zerolinewidth": 2
          }
         }
        },
        "title": {
         "text": "TRADING ALGO - BUY/SELL RECOMMENDATIONS - INFY"
        },
        "xaxis": {
         "rangeslider": {
          "visible": false
         },
         "type": "category"
        }
       }
      },
      "text/html": [
       "<div>                            <div id=\"ef72b8f0-10f6-40b9-b5f1-75e3ff4c8995\" class=\"plotly-graph-div\" style=\"height:525px; width:100%;\"></div>            <script type=\"text/javascript\">                require([\"plotly\"], function(Plotly) {                    window.PLOTLYENV=window.PLOTLYENV || {};                                    if (document.getElementById(\"ef72b8f0-10f6-40b9-b5f1-75e3ff4c8995\")) {                    Plotly.newPlot(                        \"ef72b8f0-10f6-40b9-b5f1-75e3ff4c8995\",                        [{\"close\":[16.335628509521484,16.71442413330078,16.790184020996094,16.619722366333008,17.604598999023438,17.765583038330078,17.61406707763672,17.453079223632812,17.254209518432617,17.206857681274414,17.159509658813477,17.42466926574707,17.235271453857422,17.21632957458496,16.970109939575195,16.90382194519043,16.543962478637695,16.704954147338867,15.98523998260498,16.458736419677734,16.51555824279785,16.71442413330078,16.657604217529297,16.695484161376953,17.00798988342285,16.704954147338867,16.57237434387207,16.884883880615234,17.112157821655273,16.80912208557129,16.66707420349121,16.884883880615234,16.989051818847656,16.676542282104492,16.458736419677734,16.742835998535156,16.468204498291016,16.21251678466797,16.723894119262695,17.06481170654297,17.48148536682129,17.206857681274414,17.3110294342041,17.02692985534668,17.61406707763672,17.68982696533203,18.06862449645996,17.90763282775879,18.13491439819336,18.305370330810547,18.087562561035156,17.40572738647461,17.756114959716797,18.059154510498047,17.71823501586914,17.67088508605957,17.48148536682129,17.727706909179688,17.453079223632812,17.803464889526367,17.727706909179688,18.002334594726562,18.34325408935547,18.31484031677246,18.19173240661621,18.295900344848633,18.504241943359375,18.106504440307617,17.43413734436035,16.392446517944336,17.045869827270508,17.21632957458496,17.292089462280273,17.074283599853516,17.14057159423828,16.90382194519043,16.941701889038086,17.055343627929688,17.150039672851562,17.26367950439453,17.48148536682129,17.121631622314453,17.235271453857422,17.150039672851562,17.32050132751465,17.61406707763672,17.40572738647461,17.386789321899414,17.225797653198242,16.894351959228516,16.932231903076172,17.197389602661133,17.206857681274414,17.292089462280273,17.462549209594727,17.66141700744629,17.727706909179688,17.680356979370117,17.7371768951416,18.23908042907715,18.34325408935547,18.505918502807617,18.43893814086914,18.45807647705078,18.314544677734375,18.45807647705078,18.563331604003906,18.659019470214844,18.812118530273438,19.032197952270508,19.6541690826416,19.56804847717285,19.357534408569336,19.501066207885742,19.778560638427734,19.31926155090332,19.64459800720215,19.86467933654785,19.797700881958008,20.276134490966797,20.333545684814453,20.371822357177734,20.52492332458496,20.276134490966797,20.05605125427246,20.16131019592285,20.1995849609375,20.266565322875977,20.046483993530273,20.41966438293457,20.14217185974121,20.14217185974121,20.467506408691406,20.218721389770508,19.96036720275879,19.749853134155273,20.036916732788086,20.390958786010742,20.410097122192383,20.792842864990234,20.773706436157227,20.773706436157227,20.907670974731445,20.974651336669922,21.166027069091797,21.309558868408203,21.893247604370117,21.66360092163086,21.60618782043457,21.82626724243164,21.893247604370117,21.797561645507812,21.998506546020508,22.314273834228516,22.610902786254883,22.390823364257812,22.543922424316406,22.467370986938477,22.53435516357422,22.850120544433594,23.060636520385742,22.850120544433594,22.945810317993164,22.639610290527344,22.70659065246582,22.697021484375,22.792709350585938,22.53435516357422,22.677885055541992,22.993654251098633,22.41952896118164,22.18988037109375,21.94109344482422,21.998506546020508,21.969799041748047,22.017642974853516,22.362117767333984,22.094192504882812,21.864543914794922,21.778423309326172,22.122900009155273,22.266429901123047,22.70659065246582,22.65874671936035,21.912385940551758,21.137319564819336,21.510499954223633,21.290420532226562,21.36697006225586,21.194730758666992,21.768856048583984,21.481794357299805,21.787994384765625,20.984220504760742,20.878963470458984,20.936376571655273,21.673168182373047,21.730579376220703,22.371686935424805,22.75443458557129,23.175457000732422,23.089340209960938,22.400392532348633,22.017642974853516,21.94109344482422,21.901519775390625,21.766382217407227,21.77603530883789,21.505765914916992,21.689163208007812,21.872560501098633,21.920822143554688,21.920822143554688,21.998044967651367,22.625455856323242,22.490318298339844,22.16213607788086,22.393796920776367,22.876420974731445,22.80885124206543,23.19495391845703,22.91503143310547,22.828157424926758,22.77024269104004,21.97873878479004,22.094568252563477,21.824298858642578,21.428546905517578,21.833951950073242,21.79534149169922,21.660205841064453,22.625455856323242,22.084915161132812,21.476808547973633,22.25865936279297,22.625455856323242,22.44205665588379,22.384143829345703,21.824298858642578,22.094568252563477,22.451709747314453,23.272174835205078,23.204607009887695,22.86676788330078,23.37835121154785,23.677579879760742,23.87062644958496,24.449777603149414,24.420820236206055,24.49803924560547,24.526996612548828],\"high\":[16.50608753079407,16.733364424583918,16.847004896635077,16.619722366333008,17.62353929142991,17.860282668350873,17.93604478576925,18.059154094259586,17.661416743355772,17.40572528416635,17.21632871883983,17.490958480763513,17.424668949575544,17.301559071983537,17.25420703851667,16.970111152598776,16.941699500751966,16.809123944146258,16.316687871820562,16.496617004085156,16.581847463064204,16.809123783470863,16.70495313708064,16.714424453022385,17.055340607343886,16.932232226172218,16.875411757160744,16.97011338887024,17.197387309262744,16.9511706433552,16.78071233182721,16.884883880615234,17.03640073769032,16.74283148312725,16.57237636665432,16.809125217435582,16.771241910523063,16.373505625509278,16.73336426481384,17.131100917494464,17.623535724876756,17.689824182041598,17.32996791789514,17.43413704224381,17.64247570666604,17.80346509736557,18.144383856364055,17.917102972045118,18.14438454432114,18.34325090893727,18.182262200817146,17.737175237572885,17.79399553862866,18.163324308630088,17.94551488499574,17.84134407503207,17.576185003443157,17.727706909179688,17.74664651331196,17.90763468121231,17.831876708948442,18.030745030947568,18.362192575457073,18.381129521674914,18.305372347269195,18.3716596955133,18.52318042841862,18.201202282160335,17.88869345592678,16.932232179465263,17.16897809238617,17.56671590278315,17.32049989770751,17.150042963874814,17.235271244067448,17.10268956741546,17.00799110102776,17.055343627929688,17.159509817317655,17.386789588405815,17.48148536682129,17.39626043131587,17.301560667671044,17.150039672851562,17.367850250889862,17.633007367819925,17.66141588357146,17.462548677727593,17.235267796911632,17.19738937094187,17.10269091050994,17.216329892709783,17.254206594464325,17.500427236676842,17.47201935514238,17.69929758998025,17.831876708948442,17.71823575497432,17.936046346883437,18.33378006453352,18.44742208477421,18.572899301019508,18.496349994253453,18.45807647705078,18.429370215957448,18.45807647705078,18.639881353552973,18.802550024198492,18.85039431715341,19.05133584482833,19.663736204997846,19.711579024725552,19.74985207210749,19.615891743079942,19.845541441700206,19.74985319819433,19.65416695361195,19.883817230366695,19.81683695295704,20.524921629976877,20.58233281573356,20.572764764884575,20.57276623696045,20.505783736570724,20.323976271824296,20.237859949166758,20.1995849609375,20.314408230778763,20.046483993530273,20.41966438293457,20.19958554223296,20.180447648069045,20.926806690406973,20.477077482882446,20.28570410094088,19.874247614701957,20.113466482981288,20.400527732988245,20.56319662696958,20.802411810785646,20.878963022228472,20.850258007910806,20.984220725470504,21.185162690495492,21.175594190980956,21.491363396362775,21.941092336678025,21.768857520042324,21.80713205812718,21.82626724243164,21.941092336678025,22.08462273709356,21.998506546020508,22.438668322677387,22.71615937514285,22.591767603182753,22.72572876546533,22.840552588124563,22.658749657648876,22.8788273840633,23.098910486119554,22.993652917492184,23.031929019798593,22.85969059639428,22.8596901514008,22.81184702000181,22.964946743174142,22.668318605276937,22.677885055541992,23.04149716149971,23.03192694088598,22.400391726532895,22.275999287534475,22.11333209076541,22.170743282725898,22.142035633711334,22.371684889095736,22.34297964521486,21.99850552319363,21.960229637010386,22.228154776427647,22.37168466525916,22.76400433338393,22.773570425826957,22.228153879811828,21.529637253203855,21.60618759856657,21.53920768779373,21.433950867844143,21.386106036095143,21.79756288941672,21.52963726563189,21.854975189645028,22.00807409453561,21.127750608729315,21.11818291911523,21.998505074786998,21.75928621588487,22.390824830878834,22.764003532054133,23.23287067893695,23.146753892893578,22.543923090088132,22.21858538341384,21.988936354458534,22.104221361690204,22.152483609620013,21.92082241286059,21.544374949037707,21.89186663144532,21.90151865812189,21.940127581471984,22.055958367907866,22.123526638095367,22.654412172076686,22.567538204215644,22.403448544797165,22.471016833976233,22.876420974731445,23.03086008825079,23.252868392360437,23.17564933690741,22.91503005430025,22.87642075707082,22.741285183206248,22.38414430925806,21.843602455688817,21.718121117321356,21.8629082666704,22.277966415643903,22.075263546062814,22.69302304783846,22.33588033627918,21.592639336729224,22.268312081500074,22.702675766778903,22.6254546236244,22.721981634378878,22.239356572757245,22.171788166135105,22.471015184464267,23.648621693428087,23.426614030969002,23.040513138876463,23.407309370460744,23.687232599350533,23.93819363913869,24.459430322173414,24.50769286916489,24.49803924560547,24.710394585126473],\"low\":[16.155699341928678,16.40191655211143,16.420857360570952,16.34509540268823,17.06481330915892,17.56671363466189,17.557248013332593,17.424668786730088,17.178450160743115,17.150038624197467,16.998520816867686,17.320501273397934,17.187920725243686,17.10268964263838,16.894350592774448,16.80912230335904,16.515553852501515,16.487146214237608,15.98523998260498,16.14622882329922,16.420858582597727,16.562905415526888,16.439796297600314,16.468206080368628,16.865941324150608,16.695484001606776,16.4966149905499,16.695484571993973,16.94169884644033,16.723892589651857,16.55343426890973,16.657605794017122,16.90382231993448,16.57237250550001,16.240928478072096,16.382977658438918,16.37350666165259,16.042057799513014,16.45873546256732,16.847003783060757,17.150039348012754,17.055338991572388,16.89435208682843,17.02692985534668,17.39625915926633,17.58565717243,17.850816562516393,17.75611413166818,17.850817239342664,18.144381486262738,17.850814364702877,17.3773187576275,17.4151969744917,17.803465991217013,17.708766677047226,17.595125736099057,17.28261775553617,17.32996980835295,17.38679001043871,17.756115969439403,17.670887839417485,17.869756171519626,18.1349144860266,18.286429883423395,18.14438348498739,18.19173056034269,18.314842642802166,17.99286450134058,17.424667199588704,16.326157304248166,16.922761562154847,17.093219497789047,17.10269017192303,16.951173504415333,16.96064244018742,16.8659413659597,16.828063755983088,16.8943547505771,16.979580684952605,17.187920147405105,17.30155804410961,17.121631622314453,17.187920725243686,16.97011054048651,17.18792109082188,17.348908433808315,17.40572738647461,17.301559820812024,17.064808822561055,16.865941524538346,16.88488298156483,17.026930604714227,17.140568480310435,17.292089462280273,17.21633084409255,17.453079222246284,17.70876842342273,17.623537912841037,17.718236603309876,18.106502023185417,18.34325408935547,18.410230866037832,18.28583864845103,18.2571322477442,18.2667017681106,18.2571322477442,18.391094211246006,18.55376287891816,18.65901903293349,18.8695295157088,19.060907116598496,19.434085051045724,19.33839651642361,19.42451645945293,19.53934244097461,19.29055471104794,19.43408483636636,19.529773495078118,19.635032415379797,20.276134490966797,20.218720153201826,20.28570366099195,20.304841182423406,20.256996597560644,19.941227550385864,20.113467284554194,20.075190477541863,20.056052147887836,19.855108721599397,20.08475855948526,20.103897896503423,19.979503409528007,20.362251653062483,20.161309532997862,19.902953520663107,19.615891532111103,19.84554144476008,20.036916873293283,20.390959227822716,20.448369941804437,20.63974483576831,20.620606942829916,20.783276489099215,20.92680842787456,20.898102028944805,21.252145183179273,21.55834360366437,21.548777200718476,21.558344910316823,21.46265639504099,21.77842389701098,21.759285859915092,21.835838088934462,22.055917735225528,22.362117471757816,22.314273612545943,22.38125397699158,22.457802040745,22.228156139836823,22.55349050195305,22.869261216446212,22.716158943008175,22.725730002308225,22.62047239651543,22.66831669027707,22.64917857583298,22.773571456945028,22.486512250524054,22.400391080157185,22.764004996011398,22.390822121474272,22.122899568230842,21.921955550934484,21.950663633679365,21.83583743115619,21.969798240608206,22.209016442796027,21.97936696892572,21.740149428347525,21.59661698164196,22.10376211507301,22.075054616182875,22.582197993989894,22.56305908057824,21.883680925676273,21.118181671461564,21.242576740171426,21.261713690206857,21.108613962052424,21.079907052282024,21.32869543968879,21.1947314320374,21.587050145037367,20.792845217380954,20.86939452378436,20.917240502256913,21.54877552355124,21.27128089213367,21.778426777071193,22.476940612838625,22.90753380280424,22.811848042813395,22.323842779881563,21.998505081155393,21.749718156106923,21.80499442145692,21.766382217407227,21.698815397287923,21.380282411621987,21.602290575258586,21.66985892513953,21.785687760269404,21.89186582774664,21.920823212217545,22.403447002828816,22.268311299080384,22.152485199344063,22.22970437509316,22.712328435244356,22.7798949272653,22.876421550386393,22.905378713586728,22.71232847980736,22.712328219145007,21.969086065687566,21.94012842542022,21.525070091076987,21.370630590302472,21.544375896626068,21.73742701632489,21.650553122219392,22.0366528884314,21.91117173932496,21.129318022774793,21.72777272137706,22.3165762145006,22.41309850064018,22.258660321814673,21.795340701471353,21.824299475596757,21.930473990676337,22.943989733806756,23.040514463638914,22.58684456241377,23.011557070657982,23.31078389962075,23.648619443603334,23.99611085542883,24.30499128630625,24.26637951328846,24.507691175210585],\"open\":[16.468206945513174,16.40191655211143,16.477676429964283,16.43979504079674,17.1121622339294,17.689823695562485,17.917104495586045,18.02127531796821,17.585657385666273,17.225797969048482,17.12162908129901,17.39626063430896,17.415198803852796,17.263678492586195,17.18791783584668,16.970111152598776,16.714421460435997,16.534495136652453,16.250398655226583,16.27880906247952,16.525028389442443,16.66707521133854,16.610255297977954,16.57237587817289,17.03640031777547,16.913293740953645,16.875411757160744,16.714424864105233,16.951168990201744,16.88488143680574,16.686014493629038,16.742835302272123,16.913292464952107,16.600782937186302,16.51555729628887,16.562906828487037,16.619723204407038,16.288276132931802,16.496616044771905,16.97011205964989,17.434136451633023,17.320497601673562,17.282618999299352,17.32049891944415,17.462548368662056,17.793996758234062,17.907635630883057,17.803463046854496,17.907636309863666,18.20120054720744,18.17279205621441,17.680356173633186,17.576185822376285,17.954984712366002,17.94551488499574,17.746644436020084,17.49095551110801,17.54777955389177,17.70876773702058,17.79399655050539,17.75611734718362,17.91710509230909,18.239084287691036,18.30537017232277,18.305372347269195,18.352719406285786,18.324312788454588,18.115972779496445,17.784525475929534,16.572375673866514,17.064810116133028,17.206859429735626,17.18791967195924,17.112162378741306,17.026931653194165,17.08375108404553,16.865942531586235,17.026933188545435,17.131099383919373,17.187920147405105,17.424666307346303,17.292090633936628,17.28262037622555,17.045869889969897,17.339439813117348,17.377318869083123,17.63300725472435,17.32996845034414,17.1689767909179,17.09321958332336,16.960642339730324,17.06481118481153,17.216327825161446,17.348908526889247,17.2258009896402,17.462549367879774,17.80346627094451,17.66141668844524,17.850816839886313,18.163321081961115,18.381132867804368,18.45807559696766,18.343250501835342,18.266701194386414,18.352820465505403,18.381524903913068,18.45807683905518,18.73556922067879,18.65901903293349,18.926943193382264,19.12788792363286,19.481929783623244,19.74985207210749,19.529773047956784,19.587185350429234,19.70201029019198,19.50106563614505,19.615892192172907,19.663737434423453,20.42923398803608,20.505783069688444,20.4483721065551,20.39095988477138,20.48664584316457,20.266564419881,20.190017037798096,20.123035211574795,20.28570321607307,19.969934249775893,20.16130830555168,20.14217185974121,19.998641303691922,20.601469827357953,20.4196656261098,20.170878561839544,19.73071706607035,19.84554144476008,20.07519083611327,20.524922663320314,20.448369941804437,20.85982512929008,20.668451675175906,20.91723992171008,20.92680842787456,20.936375991771506,21.328696763484515,21.55834360366437,21.711445659586133,21.759287322919402,21.500930356565817,21.787992843472562,21.979366151803497,21.854975983906964,22.103762471202042,22.38125354011838,22.534353920581317,22.591767158876653,22.496077825518906,22.304705895771175,22.582197341582756,22.936242025298,22.907534223693006,22.859691616187735,22.840554527472392,22.72572854610519,22.697021484375,22.888396993700496,22.582199901714528,22.56305952174036,22.83098580060892,22.945808246853815,22.333410923669984,22.26643034058961,22.075056300820403,22.075055635835973,22.046349815400703,22.323841979926996,22.34297964521486,21.9602315601183,21.768854363122806,22.13246713110637,22.122899349962907,22.658747743457383,22.677884612134754,22.228153879811828,21.52006830652497,21.37653834719753,21.443520039484806,21.376539009495627,21.328694182902662,21.32869543968879,21.35739987549244,21.673168844193757,21.921955397723703,21.07990770044616,21.099045024626797,21.89324848456778,21.701874361646475,21.912388395069073,22.563059306094285,23.012788562666067,22.8979667421223,22.496080179204988,22.05591693715977,21.883681588245036,22.104221361690204,22.113872733971583,21.82429890422407,21.476807758525563,21.756732243198954,21.68916252208713,21.853254951912046,22.017347492073274,22.123526638095367,22.403447002828816,22.519276453443688,22.33588134863148,22.22970437509316,22.77024290769042,22.97294377651487,22.92468330512791,23.050165824231808,22.89572461642439,22.857115319416522,22.64475983324943,22.104220971893426,21.57333368636236,21.534723134609397,21.679510283593984,21.911172283515853,22.05595810837269,22.14283095570839,22.316576739012483,21.582986617577262,21.78568719255185,22.39379612495626,22.422751219054717,22.50962549580881,22.239356572757245,21.95943386408012,21.95943214640106,22.982598771052906,23.08877621915469,23.00190226382949,23.14669146344877,23.37835109568127,23.832017416011904,23.99611085542883,24.47873655222392,24.314643108188605,24.65248011417958],\"x\":[\"2021-01-04T00:00:00-05:00\",\"2021-01-05T00:00:00-05:00\",\"2021-01-06T00:00:00-05:00\",\"2021-01-07T00:00:00-05:00\",\"2021-01-08T00:00:00-05:00\",\"2021-01-11T00:00:00-05:00\",\"2021-01-12T00:00:00-05:00\",\"2021-01-13T00:00:00-05:00\",\"2021-01-14T00:00:00-05:00\",\"2021-01-15T00:00:00-05:00\",\"2021-01-19T00:00:00-05:00\",\"2021-01-20T00:00:00-05:00\",\"2021-01-21T00:00:00-05:00\",\"2021-01-22T00:00:00-05:00\",\"2021-01-25T00:00:00-05:00\",\"2021-01-26T00:00:00-05:00\",\"2021-01-27T00:00:00-05:00\",\"2021-01-28T00:00:00-05:00\",\"2021-01-29T00:00:00-05:00\",\"2021-02-01T00:00:00-05:00\",\"2021-02-02T00:00:00-05:00\",\"2021-02-03T00:00:00-05:00\",\"2021-02-04T00:00:00-05:00\",\"2021-02-05T00:00:00-05:00\",\"2021-02-08T00:00:00-05:00\",\"2021-02-09T00:00:00-05:00\",\"2021-02-10T00:00:00-05:00\",\"2021-02-11T00:00:00-05:00\",\"2021-02-12T00:00:00-05:00\",\"2021-02-16T00:00:00-05:00\",\"2021-02-17T00:00:00-05:00\",\"2021-02-18T00:00:00-05:00\",\"2021-02-19T00:00:00-05:00\",\"2021-02-22T00:00:00-05:00\",\"2021-02-23T00:00:00-05:00\",\"2021-02-24T00:00:00-05:00\",\"2021-02-25T00:00:00-05:00\",\"2021-02-26T00:00:00-05:00\",\"2021-03-01T00:00:00-05:00\",\"2021-03-02T00:00:00-05:00\",\"2021-03-03T00:00:00-05:00\",\"2021-03-04T00:00:00-05:00\",\"2021-03-05T00:00:00-05:00\",\"2021-03-08T00:00:00-05:00\",\"2021-03-09T00:00:00-05:00\",\"2021-03-10T00:00:00-05:00\",\"2021-03-11T00:00:00-05:00\",\"2021-03-12T00:00:00-05:00\",\"2021-03-15T00:00:00-04:00\",\"2021-03-16T00:00:00-04:00\",\"2021-03-17T00:00:00-04:00\",\"2021-03-18T00:00:00-04:00\",\"2021-03-19T00:00:00-04:00\",\"2021-03-22T00:00:00-04:00\",\"2021-03-23T00:00:00-04:00\",\"2021-03-24T00:00:00-04:00\",\"2021-03-25T00:00:00-04:00\",\"2021-03-26T00:00:00-04:00\",\"2021-03-29T00:00:00-04:00\",\"2021-03-30T00:00:00-04:00\",\"2021-03-31T00:00:00-04:00\",\"2021-04-01T00:00:00-04:00\",\"2021-04-05T00:00:00-04:00\",\"2021-04-06T00:00:00-04:00\",\"2021-04-07T00:00:00-04:00\",\"2021-04-08T00:00:00-04:00\",\"2021-04-09T00:00:00-04:00\",\"2021-04-12T00:00:00-04:00\",\"2021-04-13T00:00:00-04:00\",\"2021-04-14T00:00:00-04:00\",\"2021-04-15T00:00:00-04:00\",\"2021-04-16T00:00:00-04:00\",\"2021-04-19T00:00:00-04:00\",\"2021-04-20T00:00:00-04:00\",\"2021-04-21T00:00:00-04:00\",\"2021-04-22T00:00:00-04:00\",\"2021-04-23T00:00:00-04:00\",\"2021-04-26T00:00:00-04:00\",\"2021-04-27T00:00:00-04:00\",\"2021-04-28T00:00:00-04:00\",\"2021-04-29T00:00:00-04:00\",\"2021-04-30T00:00:00-04:00\",\"2021-05-03T00:00:00-04:00\",\"2021-05-04T00:00:00-04:00\",\"2021-05-05T00:00:00-04:00\",\"2021-05-06T00:00:00-04:00\",\"2021-05-07T00:00:00-04:00\",\"2021-05-10T00:00:00-04:00\",\"2021-05-11T00:00:00-04:00\",\"2021-05-12T00:00:00-04:00\",\"2021-05-13T00:00:00-04:00\",\"2021-05-14T00:00:00-04:00\",\"2021-05-17T00:00:00-04:00\",\"2021-05-18T00:00:00-04:00\",\"2021-05-19T00:00:00-04:00\",\"2021-05-20T00:00:00-04:00\",\"2021-05-21T00:00:00-04:00\",\"2021-05-24T00:00:00-04:00\",\"2021-05-25T00:00:00-04:00\",\"2021-05-26T00:00:00-04:00\",\"2021-05-27T00:00:00-04:00\",\"2021-05-28T00:00:00-04:00\",\"2021-06-01T00:00:00-04:00\",\"2021-06-02T00:00:00-04:00\",\"2021-06-03T00:00:00-04:00\",\"2021-06-04T00:00:00-04:00\",\"2021-06-07T00:00:00-04:00\",\"2021-06-08T00:00:00-04:00\",\"2021-06-09T00:00:00-04:00\",\"2021-06-10T00:00:00-04:00\",\"2021-06-11T00:00:00-04:00\",\"2021-06-14T00:00:00-04:00\",\"2021-06-15T00:00:00-04:00\",\"2021-06-16T00:00:00-04:00\",\"2021-06-17T00:00:00-04:00\",\"2021-06-18T00:00:00-04:00\",\"2021-06-21T00:00:00-04:00\",\"2021-06-22T00:00:00-04:00\",\"2021-06-23T00:00:00-04:00\",\"2021-06-24T00:00:00-04:00\",\"2021-06-25T00:00:00-04:00\",\"2021-06-28T00:00:00-04:00\",\"2021-06-29T00:00:00-04:00\",\"2021-06-30T00:00:00-04:00\",\"2021-07-01T00:00:00-04:00\",\"2021-07-02T00:00:00-04:00\",\"2021-07-06T00:00:00-04:00\",\"2021-07-07T00:00:00-04:00\",\"2021-07-08T00:00:00-04:00\",\"2021-07-09T00:00:00-04:00\",\"2021-07-12T00:00:00-04:00\",\"2021-07-13T00:00:00-04:00\",\"2021-07-14T00:00:00-04:00\",\"2021-07-15T00:00:00-04:00\",\"2021-07-16T00:00:00-04:00\",\"2021-07-19T00:00:00-04:00\",\"2021-07-20T00:00:00-04:00\",\"2021-07-21T00:00:00-04:00\",\"2021-07-22T00:00:00-04:00\",\"2021-07-23T00:00:00-04:00\",\"2021-07-26T00:00:00-04:00\",\"2021-07-27T00:00:00-04:00\",\"2021-07-28T00:00:00-04:00\",\"2021-07-29T00:00:00-04:00\",\"2021-07-30T00:00:00-04:00\",\"2021-08-02T00:00:00-04:00\",\"2021-08-03T00:00:00-04:00\",\"2021-08-04T00:00:00-04:00\",\"2021-08-05T00:00:00-04:00\",\"2021-08-06T00:00:00-04:00\",\"2021-08-09T00:00:00-04:00\",\"2021-08-10T00:00:00-04:00\",\"2021-08-11T00:00:00-04:00\",\"2021-08-12T00:00:00-04:00\",\"2021-08-13T00:00:00-04:00\",\"2021-08-16T00:00:00-04:00\",\"2021-08-17T00:00:00-04:00\",\"2021-08-18T00:00:00-04:00\",\"2021-08-19T00:00:00-04:00\",\"2021-08-20T00:00:00-04:00\",\"2021-08-23T00:00:00-04:00\",\"2021-08-24T00:00:00-04:00\",\"2021-08-25T00:00:00-04:00\",\"2021-08-26T00:00:00-04:00\",\"2021-08-27T00:00:00-04:00\",\"2021-08-30T00:00:00-04:00\",\"2021-08-31T00:00:00-04:00\",\"2021-09-01T00:00:00-04:00\",\"2021-09-02T00:00:00-04:00\",\"2021-09-03T00:00:00-04:00\",\"2021-09-07T00:00:00-04:00\",\"2021-09-08T00:00:00-04:00\",\"2021-09-09T00:00:00-04:00\",\"2021-09-10T00:00:00-04:00\",\"2021-09-13T00:00:00-04:00\",\"2021-09-14T00:00:00-04:00\",\"2021-09-15T00:00:00-04:00\",\"2021-09-16T00:00:00-04:00\",\"2021-09-17T00:00:00-04:00\",\"2021-09-20T00:00:00-04:00\",\"2021-09-21T00:00:00-04:00\",\"2021-09-22T00:00:00-04:00\",\"2021-09-23T00:00:00-04:00\",\"2021-09-24T00:00:00-04:00\",\"2021-09-27T00:00:00-04:00\",\"2021-09-28T00:00:00-04:00\",\"2021-09-29T00:00:00-04:00\",\"2021-09-30T00:00:00-04:00\",\"2021-10-01T00:00:00-04:00\",\"2021-10-04T00:00:00-04:00\",\"2021-10-05T00:00:00-04:00\",\"2021-10-06T00:00:00-04:00\",\"2021-10-07T00:00:00-04:00\",\"2021-10-08T00:00:00-04:00\",\"2021-10-11T00:00:00-04:00\",\"2021-10-12T00:00:00-04:00\",\"2021-10-13T00:00:00-04:00\",\"2021-10-14T00:00:00-04:00\",\"2021-10-15T00:00:00-04:00\",\"2021-10-18T00:00:00-04:00\",\"2021-10-19T00:00:00-04:00\",\"2021-10-20T00:00:00-04:00\",\"2021-10-21T00:00:00-04:00\",\"2021-10-22T00:00:00-04:00\",\"2021-10-25T00:00:00-04:00\",\"2021-10-26T00:00:00-04:00\",\"2021-10-27T00:00:00-04:00\",\"2021-10-28T00:00:00-04:00\",\"2021-10-29T00:00:00-04:00\",\"2021-11-01T00:00:00-04:00\",\"2021-11-02T00:00:00-04:00\",\"2021-11-03T00:00:00-04:00\",\"2021-11-04T00:00:00-04:00\",\"2021-11-05T00:00:00-04:00\",\"2021-11-08T00:00:00-05:00\",\"2021-11-09T00:00:00-05:00\",\"2021-11-10T00:00:00-05:00\",\"2021-11-11T00:00:00-05:00\",\"2021-11-12T00:00:00-05:00\",\"2021-11-15T00:00:00-05:00\",\"2021-11-16T00:00:00-05:00\",\"2021-11-17T00:00:00-05:00\",\"2021-11-18T00:00:00-05:00\",\"2021-11-19T00:00:00-05:00\",\"2021-11-22T00:00:00-05:00\",\"2021-11-23T00:00:00-05:00\",\"2021-11-24T00:00:00-05:00\",\"2021-11-26T00:00:00-05:00\",\"2021-11-29T00:00:00-05:00\",\"2021-11-30T00:00:00-05:00\",\"2021-12-01T00:00:00-05:00\",\"2021-12-02T00:00:00-05:00\",\"2021-12-03T00:00:00-05:00\",\"2021-12-06T00:00:00-05:00\",\"2021-12-07T00:00:00-05:00\",\"2021-12-08T00:00:00-05:00\",\"2021-12-09T00:00:00-05:00\",\"2021-12-10T00:00:00-05:00\",\"2021-12-13T00:00:00-05:00\",\"2021-12-14T00:00:00-05:00\",\"2021-12-15T00:00:00-05:00\",\"2021-12-16T00:00:00-05:00\",\"2021-12-17T00:00:00-05:00\",\"2021-12-20T00:00:00-05:00\",\"2021-12-21T00:00:00-05:00\",\"2021-12-22T00:00:00-05:00\",\"2021-12-23T00:00:00-05:00\",\"2021-12-27T00:00:00-05:00\",\"2021-12-28T00:00:00-05:00\",\"2021-12-29T00:00:00-05:00\",\"2021-12-30T00:00:00-05:00\"],\"type\":\"candlestick\"}],                        {\"title\":{\"text\":\"TRADING ALGO - BUY\\u002fSELL RECOMMENDATIONS - INFY\"},\"template\":{\"data\":{\"histogram2dcontour\":[{\"type\":\"histogram2dcontour\",\"colorbar\":{\"outlinewidth\":0,\"ticks\":\"\"},\"colorscale\":[[0.0,\"#0d0887\"],[0.1111111111111111,\"#46039f\"],[0.2222222222222222,\"#7201a8\"],[0.3333333333333333,\"#9c179e\"],[0.4444444444444444,\"#bd3786\"],[0.5555555555555556,\"#d8576b\"],[0.6666666666666666,\"#ed7953\"],[0.7777777777777778,\"#fb9f3a\"],[0.8888888888888888,\"#fdca26\"],[1.0,\"#f0f921\"]]}],\"choropleth\":[{\"type\":\"choropleth\",\"colorbar\":{\"outlinewidth\":0,\"ticks\":\"\"}}],\"histogram2d\":[{\"type\":\"histogram2d\",\"colorbar\":{\"outlinewidth\":0,\"ticks\":\"\"},\"colorscale\":[[0.0,\"#0d0887\"],[0.1111111111111111,\"#46039f\"],[0.2222222222222222,\"#7201a8\"],[0.3333333333333333,\"#9c179e\"],[0.4444444444444444,\"#bd3786\"],[0.5555555555555556,\"#d8576b\"],[0.6666666666666666,\"#ed7953\"],[0.7777777777777778,\"#fb9f3a\"],[0.8888888888888888,\"#fdca26\"],[1.0,\"#f0f921\"]]}],\"heatmap\":[{\"type\":\"heatmap\",\"colorbar\":{\"outlinewidth\":0,\"ticks\":\"\"},\"colorscale\":[[0.0,\"#0d0887\"],[0.1111111111111111,\"#46039f\"],[0.2222222222222222,\"#7201a8\"],[0.3333333333333333,\"#9c179e\"],[0.4444444444444444,\"#bd3786\"],[0.5555555555555556,\"#d8576b\"],[0.6666666666666666,\"#ed7953\"],[0.7777777777777778,\"#fb9f3a\"],[0.8888888888888888,\"#fdca26\"],[1.0,\"#f0f921\"]]}],\"heatmapgl\":[{\"type\":\"heatmapgl\",\"colorbar\":{\"outlinewidth\":0,\"ticks\":\"\"},\"colorscale\":[[0.0,\"#0d0887\"],[0.1111111111111111,\"#46039f\"],[0.2222222222222222,\"#7201a8\"],[0.3333333333333333,\"#9c179e\"],[0.4444444444444444,\"#bd3786\"],[0.5555555555555556,\"#d8576b\"],[0.6666666666666666,\"#ed7953\"],[0.7777777777777778,\"#fb9f3a\"],[0.8888888888888888,\"#fdca26\"],[1.0,\"#f0f921\"]]}],\"contourcarpet\":[{\"type\":\"contourcarpet\",\"colorbar\":{\"outlinewidth\":0,\"ticks\":\"\"}}],\"contour\":[{\"type\":\"contour\",\"colorbar\":{\"outlinewidth\":0,\"ticks\":\"\"},\"colorscale\":[[0.0,\"#0d0887\"],[0.1111111111111111,\"#46039f\"],[0.2222222222222222,\"#7201a8\"],[0.3333333333333333,\"#9c179e\"],[0.4444444444444444,\"#bd3786\"],[0.5555555555555556,\"#d8576b\"],[0.6666666666666666,\"#ed7953\"],[0.7777777777777778,\"#fb9f3a\"],[0.8888888888888888,\"#fdca26\"],[1.0,\"#f0f921\"]]}],\"surface\":[{\"type\":\"surface\",\"colorbar\":{\"outlinewidth\":0,\"ticks\":\"\"},\"colorscale\":[[0.0,\"#0d0887\"],[0.1111111111111111,\"#46039f\"],[0.2222222222222222,\"#7201a8\"],[0.3333333333333333,\"#9c179e\"],[0.4444444444444444,\"#bd3786\"],[0.5555555555555556,\"#d8576b\"],[0.6666666666666666,\"#ed7953\"],[0.7777777777777778,\"#fb9f3a\"],[0.8888888888888888,\"#fdca26\"],[1.0,\"#f0f921\"]]}],\"mesh3d\":[{\"type\":\"mesh3d\",\"colorbar\":{\"outlinewidth\":0,\"ticks\":\"\"}}],\"scatter\":[{\"fillpattern\":{\"fillmode\":\"overlay\",\"size\":10,\"solidity\":0.2},\"type\":\"scatter\"}],\"parcoords\":[{\"type\":\"parcoords\",\"line\":{\"colorbar\":{\"outlinewidth\":0,\"ticks\":\"\"}}}],\"scatterpolargl\":[{\"type\":\"scatterpolargl\",\"marker\":{\"colorbar\":{\"outlinewidth\":0,\"ticks\":\"\"}}}],\"bar\":[{\"error_x\":{\"color\":\"#2a3f5f\"},\"error_y\":{\"color\":\"#2a3f5f\"},\"marker\":{\"line\":{\"color\":\"#E5ECF6\",\"width\":0.5},\"pattern\":{\"fillmode\":\"overlay\",\"size\":10,\"solidity\":0.2}},\"type\":\"bar\"}],\"scattergeo\":[{\"type\":\"scattergeo\",\"marker\":{\"colorbar\":{\"outlinewidth\":0,\"ticks\":\"\"}}}],\"scatterpolar\":[{\"type\":\"scatterpolar\",\"marker\":{\"colorbar\":{\"outlinewidth\":0,\"ticks\":\"\"}}}],\"histogram\":[{\"marker\":{\"pattern\":{\"fillmode\":\"overlay\",\"size\":10,\"solidity\":0.2}},\"type\":\"histogram\"}],\"scattergl\":[{\"type\":\"scattergl\",\"marker\":{\"colorbar\":{\"outlinewidth\":0,\"ticks\":\"\"}}}],\"scatter3d\":[{\"type\":\"scatter3d\",\"line\":{\"colorbar\":{\"outlinewidth\":0,\"ticks\":\"\"}},\"marker\":{\"colorbar\":{\"outlinewidth\":0,\"ticks\":\"\"}}}],\"scattermapbox\":[{\"type\":\"scattermapbox\",\"marker\":{\"colorbar\":{\"outlinewidth\":0,\"ticks\":\"\"}}}],\"scatterternary\":[{\"type\":\"scatterternary\",\"marker\":{\"colorbar\":{\"outlinewidth\":0,\"ticks\":\"\"}}}],\"scattercarpet\":[{\"type\":\"scattercarpet\",\"marker\":{\"colorbar\":{\"outlinewidth\":0,\"ticks\":\"\"}}}],\"carpet\":[{\"aaxis\":{\"endlinecolor\":\"#2a3f5f\",\"gridcolor\":\"white\",\"linecolor\":\"white\",\"minorgridcolor\":\"white\",\"startlinecolor\":\"#2a3f5f\"},\"baxis\":{\"endlinecolor\":\"#2a3f5f\",\"gridcolor\":\"white\",\"linecolor\":\"white\",\"minorgridcolor\":\"white\",\"startlinecolor\":\"#2a3f5f\"},\"type\":\"carpet\"}],\"table\":[{\"cells\":{\"fill\":{\"color\":\"#EBF0F8\"},\"line\":{\"color\":\"white\"}},\"header\":{\"fill\":{\"color\":\"#C8D4E3\"},\"line\":{\"color\":\"white\"}},\"type\":\"table\"}],\"barpolar\":[{\"marker\":{\"line\":{\"color\":\"#E5ECF6\",\"width\":0.5},\"pattern\":{\"fillmode\":\"overlay\",\"size\":10,\"solidity\":0.2}},\"type\":\"barpolar\"}],\"pie\":[{\"automargin\":true,\"type\":\"pie\"}]},\"layout\":{\"autotypenumbers\":\"strict\",\"colorway\":[\"#636efa\",\"#EF553B\",\"#00cc96\",\"#ab63fa\",\"#FFA15A\",\"#19d3f3\",\"#FF6692\",\"#B6E880\",\"#FF97FF\",\"#FECB52\"],\"font\":{\"color\":\"#2a3f5f\"},\"hovermode\":\"closest\",\"hoverlabel\":{\"align\":\"left\"},\"paper_bgcolor\":\"white\",\"plot_bgcolor\":\"#E5ECF6\",\"polar\":{\"bgcolor\":\"#E5ECF6\",\"angularaxis\":{\"gridcolor\":\"white\",\"linecolor\":\"white\",\"ticks\":\"\"},\"radialaxis\":{\"gridcolor\":\"white\",\"linecolor\":\"white\",\"ticks\":\"\"}},\"ternary\":{\"bgcolor\":\"#E5ECF6\",\"aaxis\":{\"gridcolor\":\"white\",\"linecolor\":\"white\",\"ticks\":\"\"},\"baxis\":{\"gridcolor\":\"white\",\"linecolor\":\"white\",\"ticks\":\"\"},\"caxis\":{\"gridcolor\":\"white\",\"linecolor\":\"white\",\"ticks\":\"\"}},\"coloraxis\":{\"colorbar\":{\"outlinewidth\":0,\"ticks\":\"\"}},\"colorscale\":{\"sequential\":[[0.0,\"#0d0887\"],[0.1111111111111111,\"#46039f\"],[0.2222222222222222,\"#7201a8\"],[0.3333333333333333,\"#9c179e\"],[0.4444444444444444,\"#bd3786\"],[0.5555555555555556,\"#d8576b\"],[0.6666666666666666,\"#ed7953\"],[0.7777777777777778,\"#fb9f3a\"],[0.8888888888888888,\"#fdca26\"],[1.0,\"#f0f921\"]],\"sequentialminus\":[[0.0,\"#0d0887\"],[0.1111111111111111,\"#46039f\"],[0.2222222222222222,\"#7201a8\"],[0.3333333333333333,\"#9c179e\"],[0.4444444444444444,\"#bd3786\"],[0.5555555555555556,\"#d8576b\"],[0.6666666666666666,\"#ed7953\"],[0.7777777777777778,\"#fb9f3a\"],[0.8888888888888888,\"#fdca26\"],[1.0,\"#f0f921\"]],\"diverging\":[[0,\"#8e0152\"],[0.1,\"#c51b7d\"],[0.2,\"#de77ae\"],[0.3,\"#f1b6da\"],[0.4,\"#fde0ef\"],[0.5,\"#f7f7f7\"],[0.6,\"#e6f5d0\"],[0.7,\"#b8e186\"],[0.8,\"#7fbc41\"],[0.9,\"#4d9221\"],[1,\"#276419\"]]},\"xaxis\":{\"gridcolor\":\"white\",\"linecolor\":\"white\",\"ticks\":\"\",\"title\":{\"standoff\":15},\"zerolinecolor\":\"white\",\"automargin\":true,\"zerolinewidth\":2},\"yaxis\":{\"gridcolor\":\"white\",\"linecolor\":\"white\",\"ticks\":\"\",\"title\":{\"standoff\":15},\"zerolinecolor\":\"white\",\"automargin\":true,\"zerolinewidth\":2},\"scene\":{\"xaxis\":{\"backgroundcolor\":\"#E5ECF6\",\"gridcolor\":\"white\",\"linecolor\":\"white\",\"showbackground\":true,\"ticks\":\"\",\"zerolinecolor\":\"white\",\"gridwidth\":2},\"yaxis\":{\"backgroundcolor\":\"#E5ECF6\",\"gridcolor\":\"white\",\"linecolor\":\"white\",\"showbackground\":true,\"ticks\":\"\",\"zerolinecolor\":\"white\",\"gridwidth\":2},\"zaxis\":{\"backgroundcolor\":\"#E5ECF6\",\"gridcolor\":\"white\",\"linecolor\":\"white\",\"showbackground\":true,\"ticks\":\"\",\"zerolinecolor\":\"white\",\"gridwidth\":2}},\"shapedefaults\":{\"line\":{\"color\":\"#2a3f5f\"}},\"annotationdefaults\":{\"arrowcolor\":\"#2a3f5f\",\"arrowhead\":0,\"arrowwidth\":1},\"geo\":{\"bgcolor\":\"white\",\"landcolor\":\"#E5ECF6\",\"subunitcolor\":\"white\",\"showland\":true,\"showlakes\":true,\"lakecolor\":\"white\"},\"title\":{\"x\":0.05},\"mapbox\":{\"style\":\"light\"}}},\"xaxis\":{\"type\":\"category\",\"rangeslider\":{\"visible\":false}},\"shapes\":[{\"line\":{\"color\":\"purple\",\"dash\":\"dash\",\"width\":3},\"type\":\"line\",\"x0\":\"2021-01-04T00:00:00-05:00\",\"x1\":\"2021-01-04T00:00:00-05:00\",\"xref\":\"x\",\"y0\":0,\"y1\":1,\"yref\":\"y domain\"},{\"line\":{\"color\":\"purple\",\"dash\":\"dash\",\"width\":3},\"type\":\"line\",\"x0\":\"2021-01-05T00:00:00-05:00\",\"x1\":\"2021-01-05T00:00:00-05:00\",\"xref\":\"x\",\"y0\":0,\"y1\":1,\"yref\":\"y domain\"},{\"line\":{\"color\":\"purple\",\"dash\":\"dash\",\"width\":3},\"type\":\"line\",\"x0\":\"2021-01-06T00:00:00-05:00\",\"x1\":\"2021-01-06T00:00:00-05:00\",\"xref\":\"x\",\"y0\":0,\"y1\":1,\"yref\":\"y domain\"},{\"line\":{\"color\":\"purple\",\"dash\":\"dash\",\"width\":3},\"type\":\"line\",\"x0\":\"2021-01-07T00:00:00-05:00\",\"x1\":\"2021-01-07T00:00:00-05:00\",\"xref\":\"x\",\"y0\":0,\"y1\":1,\"yref\":\"y domain\"},{\"line\":{\"color\":\"purple\",\"dash\":\"dash\",\"width\":3},\"type\":\"line\",\"x0\":\"2021-01-08T00:00:00-05:00\",\"x1\":\"2021-01-08T00:00:00-05:00\",\"xref\":\"x\",\"y0\":0,\"y1\":1,\"yref\":\"y domain\"},{\"line\":{\"color\":\"purple\",\"dash\":\"dash\",\"width\":3},\"type\":\"line\",\"x0\":\"2021-01-11T00:00:00-05:00\",\"x1\":\"2021-01-11T00:00:00-05:00\",\"xref\":\"x\",\"y0\":0,\"y1\":1,\"yref\":\"y domain\"},{\"line\":{\"color\":\"purple\",\"dash\":\"dash\",\"width\":3},\"type\":\"line\",\"x0\":\"2021-01-12T00:00:00-05:00\",\"x1\":\"2021-01-12T00:00:00-05:00\",\"xref\":\"x\",\"y0\":0,\"y1\":1,\"yref\":\"y domain\"},{\"line\":{\"color\":\"purple\",\"dash\":\"dash\",\"width\":3},\"type\":\"line\",\"x0\":\"2021-01-13T00:00:00-05:00\",\"x1\":\"2021-01-13T00:00:00-05:00\",\"xref\":\"x\",\"y0\":0,\"y1\":1,\"yref\":\"y domain\"},{\"line\":{\"color\":\"purple\",\"dash\":\"dash\",\"width\":3},\"type\":\"line\",\"x0\":\"2021-01-14T00:00:00-05:00\",\"x1\":\"2021-01-14T00:00:00-05:00\",\"xref\":\"x\",\"y0\":0,\"y1\":1,\"yref\":\"y domain\"},{\"line\":{\"color\":\"purple\",\"dash\":\"dash\",\"width\":3},\"type\":\"line\",\"x0\":\"2021-01-15T00:00:00-05:00\",\"x1\":\"2021-01-15T00:00:00-05:00\",\"xref\":\"x\",\"y0\":0,\"y1\":1,\"yref\":\"y domain\"},{\"line\":{\"color\":\"purple\",\"dash\":\"dash\",\"width\":3},\"type\":\"line\",\"x0\":\"2021-01-19T00:00:00-05:00\",\"x1\":\"2021-01-19T00:00:00-05:00\",\"xref\":\"x\",\"y0\":0,\"y1\":1,\"yref\":\"y domain\"},{\"line\":{\"color\":\"purple\",\"dash\":\"dash\",\"width\":3},\"type\":\"line\",\"x0\":\"2021-01-20T00:00:00-05:00\",\"x1\":\"2021-01-20T00:00:00-05:00\",\"xref\":\"x\",\"y0\":0,\"y1\":1,\"yref\":\"y domain\"},{\"line\":{\"color\":\"purple\",\"dash\":\"dash\",\"width\":3},\"type\":\"line\",\"x0\":\"2021-01-21T00:00:00-05:00\",\"x1\":\"2021-01-21T00:00:00-05:00\",\"xref\":\"x\",\"y0\":0,\"y1\":1,\"yref\":\"y domain\"},{\"line\":{\"color\":\"purple\",\"dash\":\"dash\",\"width\":3},\"type\":\"line\",\"x0\":\"2021-01-22T00:00:00-05:00\",\"x1\":\"2021-01-22T00:00:00-05:00\",\"xref\":\"x\",\"y0\":0,\"y1\":1,\"yref\":\"y domain\"},{\"line\":{\"color\":\"purple\",\"dash\":\"dash\",\"width\":3},\"type\":\"line\",\"x0\":\"2021-01-25T00:00:00-05:00\",\"x1\":\"2021-01-25T00:00:00-05:00\",\"xref\":\"x\",\"y0\":0,\"y1\":1,\"yref\":\"y domain\"},{\"line\":{\"color\":\"purple\",\"dash\":\"dash\",\"width\":3},\"type\":\"line\",\"x0\":\"2021-03-04T00:00:00-05:00\",\"x1\":\"2021-03-04T00:00:00-05:00\",\"xref\":\"x\",\"y0\":0,\"y1\":1,\"yref\":\"y domain\"},{\"line\":{\"color\":\"purple\",\"dash\":\"dash\",\"width\":3},\"type\":\"line\",\"x0\":\"2021-03-05T00:00:00-05:00\",\"x1\":\"2021-03-05T00:00:00-05:00\",\"xref\":\"x\",\"y0\":0,\"y1\":1,\"yref\":\"y domain\"},{\"line\":{\"color\":\"purple\",\"dash\":\"dash\",\"width\":3},\"type\":\"line\",\"x0\":\"2021-03-09T00:00:00-05:00\",\"x1\":\"2021-03-09T00:00:00-05:00\",\"xref\":\"x\",\"y0\":0,\"y1\":1,\"yref\":\"y domain\"},{\"line\":{\"color\":\"purple\",\"dash\":\"dash\",\"width\":3},\"type\":\"line\",\"x0\":\"2021-03-10T00:00:00-05:00\",\"x1\":\"2021-03-10T00:00:00-05:00\",\"xref\":\"x\",\"y0\":0,\"y1\":1,\"yref\":\"y domain\"},{\"line\":{\"color\":\"purple\",\"dash\":\"dash\",\"width\":3},\"type\":\"line\",\"x0\":\"2021-03-11T00:00:00-05:00\",\"x1\":\"2021-03-11T00:00:00-05:00\",\"xref\":\"x\",\"y0\":0,\"y1\":1,\"yref\":\"y domain\"},{\"line\":{\"color\":\"purple\",\"dash\":\"dash\",\"width\":3},\"type\":\"line\",\"x0\":\"2021-03-12T00:00:00-05:00\",\"x1\":\"2021-03-12T00:00:00-05:00\",\"xref\":\"x\",\"y0\":0,\"y1\":1,\"yref\":\"y domain\"},{\"line\":{\"color\":\"purple\",\"dash\":\"dash\",\"width\":3},\"type\":\"line\",\"x0\":\"2021-03-15T00:00:00-04:00\",\"x1\":\"2021-03-15T00:00:00-04:00\",\"xref\":\"x\",\"y0\":0,\"y1\":1,\"yref\":\"y domain\"},{\"line\":{\"color\":\"purple\",\"dash\":\"dash\",\"width\":3},\"type\":\"line\",\"x0\":\"2021-03-16T00:00:00-04:00\",\"x1\":\"2021-03-16T00:00:00-04:00\",\"xref\":\"x\",\"y0\":0,\"y1\":1,\"yref\":\"y domain\"},{\"line\":{\"color\":\"purple\",\"dash\":\"dash\",\"width\":3},\"type\":\"line\",\"x0\":\"2021-03-17T00:00:00-04:00\",\"x1\":\"2021-03-17T00:00:00-04:00\",\"xref\":\"x\",\"y0\":0,\"y1\":1,\"yref\":\"y domain\"},{\"line\":{\"color\":\"purple\",\"dash\":\"dash\",\"width\":3},\"type\":\"line\",\"x0\":\"2021-03-18T00:00:00-04:00\",\"x1\":\"2021-03-18T00:00:00-04:00\",\"xref\":\"x\",\"y0\":0,\"y1\":1,\"yref\":\"y domain\"},{\"line\":{\"color\":\"purple\",\"dash\":\"dash\",\"width\":3},\"type\":\"line\",\"x0\":\"2021-03-19T00:00:00-04:00\",\"x1\":\"2021-03-19T00:00:00-04:00\",\"xref\":\"x\",\"y0\":0,\"y1\":1,\"yref\":\"y domain\"},{\"line\":{\"color\":\"purple\",\"dash\":\"dash\",\"width\":3},\"type\":\"line\",\"x0\":\"2021-04-06T00:00:00-04:00\",\"x1\":\"2021-04-06T00:00:00-04:00\",\"xref\":\"x\",\"y0\":0,\"y1\":1,\"yref\":\"y domain\"},{\"line\":{\"color\":\"purple\",\"dash\":\"dash\",\"width\":3},\"type\":\"line\",\"x0\":\"2021-04-07T00:00:00-04:00\",\"x1\":\"2021-04-07T00:00:00-04:00\",\"xref\":\"x\",\"y0\":0,\"y1\":1,\"yref\":\"y domain\"},{\"line\":{\"color\":\"purple\",\"dash\":\"dash\",\"width\":3},\"type\":\"line\",\"x0\":\"2021-04-08T00:00:00-04:00\",\"x1\":\"2021-04-08T00:00:00-04:00\",\"xref\":\"x\",\"y0\":0,\"y1\":1,\"yref\":\"y domain\"},{\"line\":{\"color\":\"purple\",\"dash\":\"dash\",\"width\":3},\"type\":\"line\",\"x0\":\"2021-04-09T00:00:00-04:00\",\"x1\":\"2021-04-09T00:00:00-04:00\",\"xref\":\"x\",\"y0\":0,\"y1\":1,\"yref\":\"y domain\"},{\"line\":{\"color\":\"purple\",\"dash\":\"dash\",\"width\":3},\"type\":\"line\",\"x0\":\"2021-04-12T00:00:00-04:00\",\"x1\":\"2021-04-12T00:00:00-04:00\",\"xref\":\"x\",\"y0\":0,\"y1\":1,\"yref\":\"y domain\"},{\"line\":{\"color\":\"purple\",\"dash\":\"dash\",\"width\":3},\"type\":\"line\",\"x0\":\"2021-04-13T00:00:00-04:00\",\"x1\":\"2021-04-13T00:00:00-04:00\",\"xref\":\"x\",\"y0\":0,\"y1\":1,\"yref\":\"y domain\"},{\"line\":{\"color\":\"purple\",\"dash\":\"dash\",\"width\":3},\"type\":\"line\",\"x0\":\"2021-06-01T00:00:00-04:00\",\"x1\":\"2021-06-01T00:00:00-04:00\",\"xref\":\"x\",\"y0\":0,\"y1\":1,\"yref\":\"y domain\"},{\"line\":{\"color\":\"purple\",\"dash\":\"dash\",\"width\":3},\"type\":\"line\",\"x0\":\"2021-06-02T00:00:00-04:00\",\"x1\":\"2021-06-02T00:00:00-04:00\",\"xref\":\"x\",\"y0\":0,\"y1\":1,\"yref\":\"y domain\"},{\"line\":{\"color\":\"purple\",\"dash\":\"dash\",\"width\":3},\"type\":\"line\",\"x0\":\"2021-06-03T00:00:00-04:00\",\"x1\":\"2021-06-03T00:00:00-04:00\",\"xref\":\"x\",\"y0\":0,\"y1\":1,\"yref\":\"y domain\"},{\"line\":{\"color\":\"purple\",\"dash\":\"dash\",\"width\":3},\"type\":\"line\",\"x0\":\"2021-06-04T00:00:00-04:00\",\"x1\":\"2021-06-04T00:00:00-04:00\",\"xref\":\"x\",\"y0\":0,\"y1\":1,\"yref\":\"y domain\"},{\"line\":{\"color\":\"purple\",\"dash\":\"dash\",\"width\":3},\"type\":\"line\",\"x0\":\"2021-06-07T00:00:00-04:00\",\"x1\":\"2021-06-07T00:00:00-04:00\",\"xref\":\"x\",\"y0\":0,\"y1\":1,\"yref\":\"y domain\"},{\"line\":{\"color\":\"purple\",\"dash\":\"dash\",\"width\":3},\"type\":\"line\",\"x0\":\"2021-06-08T00:00:00-04:00\",\"x1\":\"2021-06-08T00:00:00-04:00\",\"xref\":\"x\",\"y0\":0,\"y1\":1,\"yref\":\"y domain\"},{\"line\":{\"color\":\"purple\",\"dash\":\"dash\",\"width\":3},\"type\":\"line\",\"x0\":\"2021-06-09T00:00:00-04:00\",\"x1\":\"2021-06-09T00:00:00-04:00\",\"xref\":\"x\",\"y0\":0,\"y1\":1,\"yref\":\"y domain\"},{\"line\":{\"color\":\"purple\",\"dash\":\"dash\",\"width\":3},\"type\":\"line\",\"x0\":\"2021-06-10T00:00:00-04:00\",\"x1\":\"2021-06-10T00:00:00-04:00\",\"xref\":\"x\",\"y0\":0,\"y1\":1,\"yref\":\"y domain\"},{\"line\":{\"color\":\"purple\",\"dash\":\"dash\",\"width\":3},\"type\":\"line\",\"x0\":\"2021-06-11T00:00:00-04:00\",\"x1\":\"2021-06-11T00:00:00-04:00\",\"xref\":\"x\",\"y0\":0,\"y1\":1,\"yref\":\"y domain\"},{\"line\":{\"color\":\"purple\",\"dash\":\"dash\",\"width\":3},\"type\":\"line\",\"x0\":\"2021-06-14T00:00:00-04:00\",\"x1\":\"2021-06-14T00:00:00-04:00\",\"xref\":\"x\",\"y0\":0,\"y1\":1,\"yref\":\"y domain\"},{\"line\":{\"color\":\"purple\",\"dash\":\"dash\",\"width\":3},\"type\":\"line\",\"x0\":\"2021-06-15T00:00:00-04:00\",\"x1\":\"2021-06-15T00:00:00-04:00\",\"xref\":\"x\",\"y0\":0,\"y1\":1,\"yref\":\"y domain\"},{\"line\":{\"color\":\"purple\",\"dash\":\"dash\",\"width\":3},\"type\":\"line\",\"x0\":\"2021-06-16T00:00:00-04:00\",\"x1\":\"2021-06-16T00:00:00-04:00\",\"xref\":\"x\",\"y0\":0,\"y1\":1,\"yref\":\"y domain\"},{\"line\":{\"color\":\"purple\",\"dash\":\"dash\",\"width\":3},\"type\":\"line\",\"x0\":\"2021-06-17T00:00:00-04:00\",\"x1\":\"2021-06-17T00:00:00-04:00\",\"xref\":\"x\",\"y0\":0,\"y1\":1,\"yref\":\"y domain\"},{\"line\":{\"color\":\"purple\",\"dash\":\"dash\",\"width\":3},\"type\":\"line\",\"x0\":\"2021-06-18T00:00:00-04:00\",\"x1\":\"2021-06-18T00:00:00-04:00\",\"xref\":\"x\",\"y0\":0,\"y1\":1,\"yref\":\"y domain\"},{\"line\":{\"color\":\"purple\",\"dash\":\"dash\",\"width\":3},\"type\":\"line\",\"x0\":\"2021-06-21T00:00:00-04:00\",\"x1\":\"2021-06-21T00:00:00-04:00\",\"xref\":\"x\",\"y0\":0,\"y1\":1,\"yref\":\"y domain\"},{\"line\":{\"color\":\"purple\",\"dash\":\"dash\",\"width\":3},\"type\":\"line\",\"x0\":\"2021-06-22T00:00:00-04:00\",\"x1\":\"2021-06-22T00:00:00-04:00\",\"xref\":\"x\",\"y0\":0,\"y1\":1,\"yref\":\"y domain\"},{\"line\":{\"color\":\"purple\",\"dash\":\"dash\",\"width\":3},\"type\":\"line\",\"x0\":\"2021-06-23T00:00:00-04:00\",\"x1\":\"2021-06-23T00:00:00-04:00\",\"xref\":\"x\",\"y0\":0,\"y1\":1,\"yref\":\"y domain\"},{\"line\":{\"color\":\"purple\",\"dash\":\"dash\",\"width\":3},\"type\":\"line\",\"x0\":\"2021-06-24T00:00:00-04:00\",\"x1\":\"2021-06-24T00:00:00-04:00\",\"xref\":\"x\",\"y0\":0,\"y1\":1,\"yref\":\"y domain\"},{\"line\":{\"color\":\"purple\",\"dash\":\"dash\",\"width\":3},\"type\":\"line\",\"x0\":\"2021-06-25T00:00:00-04:00\",\"x1\":\"2021-06-25T00:00:00-04:00\",\"xref\":\"x\",\"y0\":0,\"y1\":1,\"yref\":\"y domain\"},{\"line\":{\"color\":\"purple\",\"dash\":\"dash\",\"width\":3},\"type\":\"line\",\"x0\":\"2021-06-28T00:00:00-04:00\",\"x1\":\"2021-06-28T00:00:00-04:00\",\"xref\":\"x\",\"y0\":0,\"y1\":1,\"yref\":\"y domain\"},{\"line\":{\"color\":\"purple\",\"dash\":\"dash\",\"width\":3},\"type\":\"line\",\"x0\":\"2021-06-29T00:00:00-04:00\",\"x1\":\"2021-06-29T00:00:00-04:00\",\"xref\":\"x\",\"y0\":0,\"y1\":1,\"yref\":\"y domain\"},{\"line\":{\"color\":\"purple\",\"dash\":\"dash\",\"width\":3},\"type\":\"line\",\"x0\":\"2021-06-30T00:00:00-04:00\",\"x1\":\"2021-06-30T00:00:00-04:00\",\"xref\":\"x\",\"y0\":0,\"y1\":1,\"yref\":\"y domain\"},{\"line\":{\"color\":\"purple\",\"dash\":\"dash\",\"width\":3},\"type\":\"line\",\"x0\":\"2021-07-01T00:00:00-04:00\",\"x1\":\"2021-07-01T00:00:00-04:00\",\"xref\":\"x\",\"y0\":0,\"y1\":1,\"yref\":\"y domain\"},{\"line\":{\"color\":\"purple\",\"dash\":\"dash\",\"width\":3},\"type\":\"line\",\"x0\":\"2021-07-02T00:00:00-04:00\",\"x1\":\"2021-07-02T00:00:00-04:00\",\"xref\":\"x\",\"y0\":0,\"y1\":1,\"yref\":\"y domain\"},{\"line\":{\"color\":\"purple\",\"dash\":\"dash\",\"width\":3},\"type\":\"line\",\"x0\":\"2021-07-06T00:00:00-04:00\",\"x1\":\"2021-07-06T00:00:00-04:00\",\"xref\":\"x\",\"y0\":0,\"y1\":1,\"yref\":\"y domain\"},{\"line\":{\"color\":\"purple\",\"dash\":\"dash\",\"width\":3},\"type\":\"line\",\"x0\":\"2021-07-07T00:00:00-04:00\",\"x1\":\"2021-07-07T00:00:00-04:00\",\"xref\":\"x\",\"y0\":0,\"y1\":1,\"yref\":\"y domain\"},{\"line\":{\"color\":\"purple\",\"dash\":\"dash\",\"width\":3},\"type\":\"line\",\"x0\":\"2021-07-08T00:00:00-04:00\",\"x1\":\"2021-07-08T00:00:00-04:00\",\"xref\":\"x\",\"y0\":0,\"y1\":1,\"yref\":\"y domain\"},{\"line\":{\"color\":\"purple\",\"dash\":\"dash\",\"width\":3},\"type\":\"line\",\"x0\":\"2021-07-09T00:00:00-04:00\",\"x1\":\"2021-07-09T00:00:00-04:00\",\"xref\":\"x\",\"y0\":0,\"y1\":1,\"yref\":\"y domain\"},{\"line\":{\"color\":\"purple\",\"dash\":\"dash\",\"width\":3},\"type\":\"line\",\"x0\":\"2021-07-12T00:00:00-04:00\",\"x1\":\"2021-07-12T00:00:00-04:00\",\"xref\":\"x\",\"y0\":0,\"y1\":1,\"yref\":\"y domain\"},{\"line\":{\"color\":\"purple\",\"dash\":\"dash\",\"width\":3},\"type\":\"line\",\"x0\":\"2021-07-13T00:00:00-04:00\",\"x1\":\"2021-07-13T00:00:00-04:00\",\"xref\":\"x\",\"y0\":0,\"y1\":1,\"yref\":\"y domain\"},{\"line\":{\"color\":\"purple\",\"dash\":\"dash\",\"width\":3},\"type\":\"line\",\"x0\":\"2021-07-14T00:00:00-04:00\",\"x1\":\"2021-07-14T00:00:00-04:00\",\"xref\":\"x\",\"y0\":0,\"y1\":1,\"yref\":\"y domain\"},{\"line\":{\"color\":\"purple\",\"dash\":\"dash\",\"width\":3},\"type\":\"line\",\"x0\":\"2021-07-15T00:00:00-04:00\",\"x1\":\"2021-07-15T00:00:00-04:00\",\"xref\":\"x\",\"y0\":0,\"y1\":1,\"yref\":\"y domain\"},{\"line\":{\"color\":\"purple\",\"dash\":\"dash\",\"width\":3},\"type\":\"line\",\"x0\":\"2021-07-23T00:00:00-04:00\",\"x1\":\"2021-07-23T00:00:00-04:00\",\"xref\":\"x\",\"y0\":0,\"y1\":1,\"yref\":\"y domain\"},{\"line\":{\"color\":\"purple\",\"dash\":\"dash\",\"width\":3},\"type\":\"line\",\"x0\":\"2021-07-26T00:00:00-04:00\",\"x1\":\"2021-07-26T00:00:00-04:00\",\"xref\":\"x\",\"y0\":0,\"y1\":1,\"yref\":\"y domain\"},{\"line\":{\"color\":\"purple\",\"dash\":\"dash\",\"width\":3},\"type\":\"line\",\"x0\":\"2021-07-28T00:00:00-04:00\",\"x1\":\"2021-07-28T00:00:00-04:00\",\"xref\":\"x\",\"y0\":0,\"y1\":1,\"yref\":\"y domain\"},{\"line\":{\"color\":\"purple\",\"dash\":\"dash\",\"width\":3},\"type\":\"line\",\"x0\":\"2021-07-29T00:00:00-04:00\",\"x1\":\"2021-07-29T00:00:00-04:00\",\"xref\":\"x\",\"y0\":0,\"y1\":1,\"yref\":\"y domain\"},{\"line\":{\"color\":\"purple\",\"dash\":\"dash\",\"width\":3},\"type\":\"line\",\"x0\":\"2021-07-30T00:00:00-04:00\",\"x1\":\"2021-07-30T00:00:00-04:00\",\"xref\":\"x\",\"y0\":0,\"y1\":1,\"yref\":\"y domain\"},{\"line\":{\"color\":\"purple\",\"dash\":\"dash\",\"width\":3},\"type\":\"line\",\"x0\":\"2021-08-02T00:00:00-04:00\",\"x1\":\"2021-08-02T00:00:00-04:00\",\"xref\":\"x\",\"y0\":0,\"y1\":1,\"yref\":\"y domain\"},{\"line\":{\"color\":\"purple\",\"dash\":\"dash\",\"width\":3},\"type\":\"line\",\"x0\":\"2021-08-03T00:00:00-04:00\",\"x1\":\"2021-08-03T00:00:00-04:00\",\"xref\":\"x\",\"y0\":0,\"y1\":1,\"yref\":\"y domain\"},{\"line\":{\"color\":\"purple\",\"dash\":\"dash\",\"width\":3},\"type\":\"line\",\"x0\":\"2021-08-04T00:00:00-04:00\",\"x1\":\"2021-08-04T00:00:00-04:00\",\"xref\":\"x\",\"y0\":0,\"y1\":1,\"yref\":\"y domain\"},{\"line\":{\"color\":\"purple\",\"dash\":\"dash\",\"width\":3},\"type\":\"line\",\"x0\":\"2021-08-05T00:00:00-04:00\",\"x1\":\"2021-08-05T00:00:00-04:00\",\"xref\":\"x\",\"y0\":0,\"y1\":1,\"yref\":\"y domain\"},{\"line\":{\"color\":\"purple\",\"dash\":\"dash\",\"width\":3},\"type\":\"line\",\"x0\":\"2021-08-06T00:00:00-04:00\",\"x1\":\"2021-08-06T00:00:00-04:00\",\"xref\":\"x\",\"y0\":0,\"y1\":1,\"yref\":\"y domain\"},{\"line\":{\"color\":\"purple\",\"dash\":\"dash\",\"width\":3},\"type\":\"line\",\"x0\":\"2021-08-09T00:00:00-04:00\",\"x1\":\"2021-08-09T00:00:00-04:00\",\"xref\":\"x\",\"y0\":0,\"y1\":1,\"yref\":\"y domain\"},{\"line\":{\"color\":\"purple\",\"dash\":\"dash\",\"width\":3},\"type\":\"line\",\"x0\":\"2021-08-10T00:00:00-04:00\",\"x1\":\"2021-08-10T00:00:00-04:00\",\"xref\":\"x\",\"y0\":0,\"y1\":1,\"yref\":\"y domain\"},{\"line\":{\"color\":\"purple\",\"dash\":\"dash\",\"width\":3},\"type\":\"line\",\"x0\":\"2021-08-11T00:00:00-04:00\",\"x1\":\"2021-08-11T00:00:00-04:00\",\"xref\":\"x\",\"y0\":0,\"y1\":1,\"yref\":\"y domain\"},{\"line\":{\"color\":\"purple\",\"dash\":\"dash\",\"width\":3},\"type\":\"line\",\"x0\":\"2021-08-12T00:00:00-04:00\",\"x1\":\"2021-08-12T00:00:00-04:00\",\"xref\":\"x\",\"y0\":0,\"y1\":1,\"yref\":\"y domain\"},{\"line\":{\"color\":\"purple\",\"dash\":\"dash\",\"width\":3},\"type\":\"line\",\"x0\":\"2021-08-13T00:00:00-04:00\",\"x1\":\"2021-08-13T00:00:00-04:00\",\"xref\":\"x\",\"y0\":0,\"y1\":1,\"yref\":\"y domain\"},{\"line\":{\"color\":\"purple\",\"dash\":\"dash\",\"width\":3},\"type\":\"line\",\"x0\":\"2021-08-16T00:00:00-04:00\",\"x1\":\"2021-08-16T00:00:00-04:00\",\"xref\":\"x\",\"y0\":0,\"y1\":1,\"yref\":\"y domain\"},{\"line\":{\"color\":\"purple\",\"dash\":\"dash\",\"width\":3},\"type\":\"line\",\"x0\":\"2021-08-17T00:00:00-04:00\",\"x1\":\"2021-08-17T00:00:00-04:00\",\"xref\":\"x\",\"y0\":0,\"y1\":1,\"yref\":\"y domain\"},{\"line\":{\"color\":\"purple\",\"dash\":\"dash\",\"width\":3},\"type\":\"line\",\"x0\":\"2021-08-18T00:00:00-04:00\",\"x1\":\"2021-08-18T00:00:00-04:00\",\"xref\":\"x\",\"y0\":0,\"y1\":1,\"yref\":\"y domain\"},{\"line\":{\"color\":\"purple\",\"dash\":\"dash\",\"width\":3},\"type\":\"line\",\"x0\":\"2021-08-19T00:00:00-04:00\",\"x1\":\"2021-08-19T00:00:00-04:00\",\"xref\":\"x\",\"y0\":0,\"y1\":1,\"yref\":\"y domain\"},{\"line\":{\"color\":\"purple\",\"dash\":\"dash\",\"width\":3},\"type\":\"line\",\"x0\":\"2021-08-20T00:00:00-04:00\",\"x1\":\"2021-08-20T00:00:00-04:00\",\"xref\":\"x\",\"y0\":0,\"y1\":1,\"yref\":\"y domain\"},{\"line\":{\"color\":\"purple\",\"dash\":\"dash\",\"width\":3},\"type\":\"line\",\"x0\":\"2021-08-23T00:00:00-04:00\",\"x1\":\"2021-08-23T00:00:00-04:00\",\"xref\":\"x\",\"y0\":0,\"y1\":1,\"yref\":\"y domain\"},{\"line\":{\"color\":\"purple\",\"dash\":\"dash\",\"width\":3},\"type\":\"line\",\"x0\":\"2021-08-24T00:00:00-04:00\",\"x1\":\"2021-08-24T00:00:00-04:00\",\"xref\":\"x\",\"y0\":0,\"y1\":1,\"yref\":\"y domain\"},{\"line\":{\"color\":\"purple\",\"dash\":\"dash\",\"width\":3},\"type\":\"line\",\"x0\":\"2021-08-25T00:00:00-04:00\",\"x1\":\"2021-08-25T00:00:00-04:00\",\"xref\":\"x\",\"y0\":0,\"y1\":1,\"yref\":\"y domain\"},{\"line\":{\"color\":\"purple\",\"dash\":\"dash\",\"width\":3},\"type\":\"line\",\"x0\":\"2021-08-26T00:00:00-04:00\",\"x1\":\"2021-08-26T00:00:00-04:00\",\"xref\":\"x\",\"y0\":0,\"y1\":1,\"yref\":\"y domain\"},{\"line\":{\"color\":\"purple\",\"dash\":\"dash\",\"width\":3},\"type\":\"line\",\"x0\":\"2021-08-27T00:00:00-04:00\",\"x1\":\"2021-08-27T00:00:00-04:00\",\"xref\":\"x\",\"y0\":0,\"y1\":1,\"yref\":\"y domain\"},{\"line\":{\"color\":\"purple\",\"dash\":\"dash\",\"width\":3},\"type\":\"line\",\"x0\":\"2021-08-30T00:00:00-04:00\",\"x1\":\"2021-08-30T00:00:00-04:00\",\"xref\":\"x\",\"y0\":0,\"y1\":1,\"yref\":\"y domain\"},{\"line\":{\"color\":\"purple\",\"dash\":\"dash\",\"width\":3},\"type\":\"line\",\"x0\":\"2021-08-31T00:00:00-04:00\",\"x1\":\"2021-08-31T00:00:00-04:00\",\"xref\":\"x\",\"y0\":0,\"y1\":1,\"yref\":\"y domain\"},{\"line\":{\"color\":\"purple\",\"dash\":\"dash\",\"width\":3},\"type\":\"line\",\"x0\":\"2021-09-01T00:00:00-04:00\",\"x1\":\"2021-09-01T00:00:00-04:00\",\"xref\":\"x\",\"y0\":0,\"y1\":1,\"yref\":\"y domain\"},{\"line\":{\"color\":\"purple\",\"dash\":\"dash\",\"width\":3},\"type\":\"line\",\"x0\":\"2021-09-02T00:00:00-04:00\",\"x1\":\"2021-09-02T00:00:00-04:00\",\"xref\":\"x\",\"y0\":0,\"y1\":1,\"yref\":\"y domain\"},{\"line\":{\"color\":\"purple\",\"dash\":\"dash\",\"width\":3},\"type\":\"line\",\"x0\":\"2021-09-03T00:00:00-04:00\",\"x1\":\"2021-09-03T00:00:00-04:00\",\"xref\":\"x\",\"y0\":0,\"y1\":1,\"yref\":\"y domain\"},{\"line\":{\"color\":\"purple\",\"dash\":\"dash\",\"width\":3},\"type\":\"line\",\"x0\":\"2021-11-09T00:00:00-05:00\",\"x1\":\"2021-11-09T00:00:00-05:00\",\"xref\":\"x\",\"y0\":0,\"y1\":1,\"yref\":\"y domain\"},{\"line\":{\"color\":\"purple\",\"dash\":\"dash\",\"width\":3},\"type\":\"line\",\"x0\":\"2021-11-10T00:00:00-05:00\",\"x1\":\"2021-11-10T00:00:00-05:00\",\"xref\":\"x\",\"y0\":0,\"y1\":1,\"yref\":\"y domain\"},{\"line\":{\"color\":\"purple\",\"dash\":\"dash\",\"width\":3},\"type\":\"line\",\"x0\":\"2021-11-12T00:00:00-05:00\",\"x1\":\"2021-11-12T00:00:00-05:00\",\"xref\":\"x\",\"y0\":0,\"y1\":1,\"yref\":\"y domain\"},{\"line\":{\"color\":\"purple\",\"dash\":\"dash\",\"width\":3},\"type\":\"line\",\"x0\":\"2021-11-15T00:00:00-05:00\",\"x1\":\"2021-11-15T00:00:00-05:00\",\"xref\":\"x\",\"y0\":0,\"y1\":1,\"yref\":\"y domain\"},{\"line\":{\"color\":\"purple\",\"dash\":\"dash\",\"width\":3},\"type\":\"line\",\"x0\":\"2021-11-16T00:00:00-05:00\",\"x1\":\"2021-11-16T00:00:00-05:00\",\"xref\":\"x\",\"y0\":0,\"y1\":1,\"yref\":\"y domain\"},{\"line\":{\"color\":\"purple\",\"dash\":\"dash\",\"width\":3},\"type\":\"line\",\"x0\":\"2021-11-17T00:00:00-05:00\",\"x1\":\"2021-11-17T00:00:00-05:00\",\"xref\":\"x\",\"y0\":0,\"y1\":1,\"yref\":\"y domain\"},{\"line\":{\"color\":\"purple\",\"dash\":\"dash\",\"width\":3},\"type\":\"line\",\"x0\":\"2021-11-18T00:00:00-05:00\",\"x1\":\"2021-11-18T00:00:00-05:00\",\"xref\":\"x\",\"y0\":0,\"y1\":1,\"yref\":\"y domain\"},{\"line\":{\"color\":\"purple\",\"dash\":\"dash\",\"width\":3},\"type\":\"line\",\"x0\":\"2021-12-16T00:00:00-05:00\",\"x1\":\"2021-12-16T00:00:00-05:00\",\"xref\":\"x\",\"y0\":0,\"y1\":1,\"yref\":\"y domain\"},{\"line\":{\"color\":\"purple\",\"dash\":\"dash\",\"width\":3},\"type\":\"line\",\"x0\":\"2021-12-17T00:00:00-05:00\",\"x1\":\"2021-12-17T00:00:00-05:00\",\"xref\":\"x\",\"y0\":0,\"y1\":1,\"yref\":\"y domain\"},{\"line\":{\"color\":\"purple\",\"dash\":\"dash\",\"width\":3},\"type\":\"line\",\"x0\":\"2021-12-22T00:00:00-05:00\",\"x1\":\"2021-12-22T00:00:00-05:00\",\"xref\":\"x\",\"y0\":0,\"y1\":1,\"yref\":\"y domain\"},{\"line\":{\"color\":\"purple\",\"dash\":\"dash\",\"width\":3},\"type\":\"line\",\"x0\":\"2021-12-23T00:00:00-05:00\",\"x1\":\"2021-12-23T00:00:00-05:00\",\"xref\":\"x\",\"y0\":0,\"y1\":1,\"yref\":\"y domain\"},{\"line\":{\"color\":\"purple\",\"dash\":\"dash\",\"width\":3},\"type\":\"line\",\"x0\":\"2021-12-27T00:00:00-05:00\",\"x1\":\"2021-12-27T00:00:00-05:00\",\"xref\":\"x\",\"y0\":0,\"y1\":1,\"yref\":\"y domain\"},{\"line\":{\"color\":\"purple\",\"dash\":\"dash\",\"width\":3},\"type\":\"line\",\"x0\":\"2021-12-28T00:00:00-05:00\",\"x1\":\"2021-12-28T00:00:00-05:00\",\"xref\":\"x\",\"y0\":0,\"y1\":1,\"yref\":\"y domain\"},{\"line\":{\"color\":\"purple\",\"dash\":\"dash\",\"width\":3},\"type\":\"line\",\"x0\":\"2021-12-29T00:00:00-05:00\",\"x1\":\"2021-12-29T00:00:00-05:00\",\"xref\":\"x\",\"y0\":0,\"y1\":1,\"yref\":\"y domain\"},{\"line\":{\"color\":\"purple\",\"dash\":\"dash\",\"width\":3},\"type\":\"line\",\"x0\":\"2021-12-30T00:00:00-05:00\",\"x1\":\"2021-12-30T00:00:00-05:00\",\"xref\":\"x\",\"y0\":0,\"y1\":1,\"yref\":\"y domain\"}]},                        {\"responsive\": true}                    ).then(function(){\n",
       "                            \n",
       "var gd = document.getElementById('ef72b8f0-10f6-40b9-b5f1-75e3ff4c8995');\n",
       "var x = new MutationObserver(function (mutations, observer) {{\n",
       "        var display = window.getComputedStyle(gd).display;\n",
       "        if (!display || display === 'none') {{\n",
       "            console.log([gd, 'removed!']);\n",
       "            Plotly.purge(gd);\n",
       "            observer.disconnect();\n",
       "        }}\n",
       "}});\n",
       "\n",
       "// Listen for the removal of the full notebook cells\n",
       "var notebookContainer = gd.closest('#notebook-container');\n",
       "if (notebookContainer) {{\n",
       "    x.observe(notebookContainer, {childList: true});\n",
       "}}\n",
       "\n",
       "// Listen for the clearing of the current output cell\n",
       "var outputEl = gd.closest('.output');\n",
       "if (outputEl) {{\n",
       "    x.observe(outputEl, {childList: true});\n",
       "}}\n",
       "\n",
       "                        })                };                });            </script>        </div>"
      ]
     },
     "metadata": {},
     "output_type": "display_data"
    }
   ],
   "source": [
    "infy = my_trading_algo('INFY') # RSI is never less than 40 for INFY - hence no BUY calls"
   ]
  },
  {
   "cell_type": "code",
   "execution_count": null,
   "id": "39db18a7",
   "metadata": {},
   "outputs": [],
   "source": []
  },
  {
   "cell_type": "code",
   "execution_count": 100,
   "id": "eeb763d5",
   "metadata": {},
   "outputs": [
    {
     "ename": "KeyError",
     "evalue": "\"['Symbol'] not in index\"",
     "output_type": "error",
     "traceback": [
      "\u001b[0;31m---------------------------------------------------------------------------\u001b[0m",
      "\u001b[0;31mKeyError\u001b[0m                                  Traceback (most recent call last)",
      "Cell \u001b[0;32mIn[100], line 2\u001b[0m\n\u001b[1;32m      1\u001b[0m \u001b[38;5;66;03m#  FOR DEBUGGING\u001b[39;00m\n\u001b[0;32m----> 2\u001b[0m \u001b[43minfy\u001b[49m\u001b[43m[\u001b[49m\u001b[43m[\u001b[49m\u001b[38;5;124;43m'\u001b[39;49m\u001b[38;5;124;43mSymbol\u001b[39;49m\u001b[38;5;124;43m'\u001b[39;49m\u001b[43m,\u001b[49m\u001b[38;5;124;43m'\u001b[39;49m\u001b[38;5;124;43mClose\u001b[39;49m\u001b[38;5;124;43m'\u001b[39;49m\u001b[43m,\u001b[49m\u001b[38;5;124;43m'\u001b[39;49m\u001b[38;5;124;43mindicator\u001b[39;49m\u001b[38;5;124;43m'\u001b[39;49m\u001b[43m,\u001b[49m\u001b[38;5;124;43m'\u001b[39;49m\u001b[38;5;124;43mrsi\u001b[39;49m\u001b[38;5;124;43m'\u001b[39;49m\u001b[43m,\u001b[49m\u001b[38;5;124;43m'\u001b[39;49m\u001b[38;5;124;43mMA_indicator\u001b[39;49m\u001b[38;5;124;43m'\u001b[39;49m\u001b[43m,\u001b[49m\u001b[38;5;124;43m'\u001b[39;49m\u001b[38;5;124;43mmacd_indicator\u001b[39;49m\u001b[38;5;124;43m'\u001b[39;49m\u001b[43m,\u001b[49m\u001b[38;5;124;43m'\u001b[39;49m\u001b[38;5;124;43mengulf_indicator\u001b[39;49m\u001b[38;5;124;43m'\u001b[39;49m\u001b[43m]\u001b[49m\u001b[43m]\u001b[49m\n",
      "File \u001b[0;32m~/.virtualenvs/cobra/lib/python3.11/site-packages/pandas/core/frame.py:3902\u001b[0m, in \u001b[0;36mDataFrame.__getitem__\u001b[0;34m(self, key)\u001b[0m\n\u001b[1;32m   3900\u001b[0m     \u001b[38;5;28;01mif\u001b[39;00m is_iterator(key):\n\u001b[1;32m   3901\u001b[0m         key \u001b[38;5;241m=\u001b[39m \u001b[38;5;28mlist\u001b[39m(key)\n\u001b[0;32m-> 3902\u001b[0m     indexer \u001b[38;5;241m=\u001b[39m \u001b[38;5;28;43mself\u001b[39;49m\u001b[38;5;241;43m.\u001b[39;49m\u001b[43mcolumns\u001b[49m\u001b[38;5;241;43m.\u001b[39;49m\u001b[43m_get_indexer_strict\u001b[49m\u001b[43m(\u001b[49m\u001b[43mkey\u001b[49m\u001b[43m,\u001b[49m\u001b[43m \u001b[49m\u001b[38;5;124;43m\"\u001b[39;49m\u001b[38;5;124;43mcolumns\u001b[39;49m\u001b[38;5;124;43m\"\u001b[39;49m\u001b[43m)\u001b[49m[\u001b[38;5;241m1\u001b[39m]\n\u001b[1;32m   3904\u001b[0m \u001b[38;5;66;03m# take() does not accept boolean indexers\u001b[39;00m\n\u001b[1;32m   3905\u001b[0m \u001b[38;5;28;01mif\u001b[39;00m \u001b[38;5;28mgetattr\u001b[39m(indexer, \u001b[38;5;124m\"\u001b[39m\u001b[38;5;124mdtype\u001b[39m\u001b[38;5;124m\"\u001b[39m, \u001b[38;5;28;01mNone\u001b[39;00m) \u001b[38;5;241m==\u001b[39m \u001b[38;5;28mbool\u001b[39m:\n",
      "File \u001b[0;32m~/.virtualenvs/cobra/lib/python3.11/site-packages/pandas/core/indexes/base.py:6114\u001b[0m, in \u001b[0;36mIndex._get_indexer_strict\u001b[0;34m(self, key, axis_name)\u001b[0m\n\u001b[1;32m   6111\u001b[0m \u001b[38;5;28;01melse\u001b[39;00m:\n\u001b[1;32m   6112\u001b[0m     keyarr, indexer, new_indexer \u001b[38;5;241m=\u001b[39m \u001b[38;5;28mself\u001b[39m\u001b[38;5;241m.\u001b[39m_reindex_non_unique(keyarr)\n\u001b[0;32m-> 6114\u001b[0m \u001b[38;5;28;43mself\u001b[39;49m\u001b[38;5;241;43m.\u001b[39;49m\u001b[43m_raise_if_missing\u001b[49m\u001b[43m(\u001b[49m\u001b[43mkeyarr\u001b[49m\u001b[43m,\u001b[49m\u001b[43m \u001b[49m\u001b[43mindexer\u001b[49m\u001b[43m,\u001b[49m\u001b[43m \u001b[49m\u001b[43maxis_name\u001b[49m\u001b[43m)\u001b[49m\n\u001b[1;32m   6116\u001b[0m keyarr \u001b[38;5;241m=\u001b[39m \u001b[38;5;28mself\u001b[39m\u001b[38;5;241m.\u001b[39mtake(indexer)\n\u001b[1;32m   6117\u001b[0m \u001b[38;5;28;01mif\u001b[39;00m \u001b[38;5;28misinstance\u001b[39m(key, Index):\n\u001b[1;32m   6118\u001b[0m     \u001b[38;5;66;03m# GH 42790 - Preserve name from an Index\u001b[39;00m\n",
      "File \u001b[0;32m~/.virtualenvs/cobra/lib/python3.11/site-packages/pandas/core/indexes/base.py:6178\u001b[0m, in \u001b[0;36mIndex._raise_if_missing\u001b[0;34m(self, key, indexer, axis_name)\u001b[0m\n\u001b[1;32m   6175\u001b[0m     \u001b[38;5;28;01mraise\u001b[39;00m \u001b[38;5;167;01mKeyError\u001b[39;00m(\u001b[38;5;124mf\u001b[39m\u001b[38;5;124m\"\u001b[39m\u001b[38;5;124mNone of [\u001b[39m\u001b[38;5;132;01m{\u001b[39;00mkey\u001b[38;5;132;01m}\u001b[39;00m\u001b[38;5;124m] are in the [\u001b[39m\u001b[38;5;132;01m{\u001b[39;00maxis_name\u001b[38;5;132;01m}\u001b[39;00m\u001b[38;5;124m]\u001b[39m\u001b[38;5;124m\"\u001b[39m)\n\u001b[1;32m   6177\u001b[0m not_found \u001b[38;5;241m=\u001b[39m \u001b[38;5;28mlist\u001b[39m(ensure_index(key)[missing_mask\u001b[38;5;241m.\u001b[39mnonzero()[\u001b[38;5;241m0\u001b[39m]]\u001b[38;5;241m.\u001b[39munique())\n\u001b[0;32m-> 6178\u001b[0m \u001b[38;5;28;01mraise\u001b[39;00m \u001b[38;5;167;01mKeyError\u001b[39;00m(\u001b[38;5;124mf\u001b[39m\u001b[38;5;124m\"\u001b[39m\u001b[38;5;132;01m{\u001b[39;00mnot_found\u001b[38;5;132;01m}\u001b[39;00m\u001b[38;5;124m not in index\u001b[39m\u001b[38;5;124m\"\u001b[39m)\n",
      "\u001b[0;31mKeyError\u001b[0m: \"['Symbol'] not in index\""
     ]
    }
   ],
   "source": [
    "#  FOR DEBUGGING\n",
    "infy[['Symbol','Close','indicator','rsi','MA_indicator','macd_indicator','engulf_indicator']]"
   ]
  },
  {
   "cell_type": "code",
   "execution_count": null,
   "id": "f0e894a0",
   "metadata": {},
   "outputs": [],
   "source": []
  },
  {
   "cell_type": "code",
   "execution_count": null,
   "id": "eeb26aae",
   "metadata": {},
   "outputs": [],
   "source": []
  },
  {
   "cell_type": "code",
   "execution_count": null,
   "id": "0b921584",
   "metadata": {},
   "outputs": [],
   "source": []
  },
  {
   "cell_type": "markdown",
   "id": "7934ce63",
   "metadata": {},
   "source": [
    "# OTHERS"
   ]
  },
  {
   "cell_type": "markdown",
   "id": "25600e3a",
   "metadata": {},
   "source": [
    "## MORNING & EVENING STAR"
   ]
  },
  {
   "cell_type": "code",
   "execution_count": null,
   "id": "232e51cd",
   "metadata": {},
   "outputs": [],
   "source": [
    "\n",
    "stock_df = get_history(symbol='DMART',\n",
    "                    start=date(2021,1,1), \n",
    "                    end=date(2021,12,31))"
   ]
  },
  {
   "cell_type": "code",
   "execution_count": null,
   "id": "9816d075",
   "metadata": {},
   "outputs": [],
   "source": [
    "# Identify the morning/evening candles in the dataset\n",
    "stock_df['morn_star'] = talib.CDLMORNINGSTAR(stock_df['Open'], stock_df['High'], stock_df['Low'], stock_df['Close'])           \n",
    "stock_df['eve_star']  = talib.CDLEVENINGSTAR(stock_df['Open'], stock_df['High'], stock_df['Low'], stock_df['Close'])\n",
    "stock_df['star'] = stock_df['morn_star'] + stock_df['eve_star'] \n",
    "# Subset dataframe for only the doji candles\n",
    "stock_df['next_1_star'] = stock_df['star'].shift(-1, fill_value=0)\n",
    "stock_df['next_2_star'] = stock_df['star'].shift(-2, fill_value=0)\n",
    "star_candles = stock_df[(stock_df['star'] != 0) | (stock_df['next_1_star'] != 0) | (stock_df['next_2_star'] != 0)]\n",
    "display(star_candles[['Close','morn_star','eve_star']])\n",
    "\n",
    "\n",
    "# Plot the candlestick chart\n",
    "plot_candle(star_candles, title = f\"Morning/Evening Candlestick Pattern - DMART\")\n"
   ]
  },
  {
   "cell_type": "code",
   "execution_count": null,
   "id": "84a24070",
   "metadata": {},
   "outputs": [],
   "source": [
    "plot_candle(stock_df.loc[date(2021,3,26):date(2021,5,10)], title = f\"DMART - MORNING CANDLE\")\n",
    "plot_candle(stock_df.loc[date(2021,8,10):date(2021,9,15)], title = f\"DMART - EVENING CANDLE\")"
   ]
  },
  {
   "cell_type": "code",
   "execution_count": null,
   "id": "149cd8bd",
   "metadata": {},
   "outputs": [],
   "source": []
  }
 ],
 "metadata": {
  "kernelspec": {
   "display_name": "Python 3 (ipykernel)",
   "language": "python",
   "name": "python3"
  },
  "language_info": {
   "codemirror_mode": {
    "name": "ipython",
    "version": 3
   },
   "file_extension": ".py",
   "mimetype": "text/x-python",
   "name": "python",
   "nbconvert_exporter": "python",
   "pygments_lexer": "ipython3",
   "version": "3.11.5"
  },
  "toc": {
   "base_numbering": 1,
   "nav_menu": {},
   "number_sections": true,
   "sideBar": true,
   "skip_h1_title": false,
   "title_cell": "Table of Contents",
   "title_sidebar": "Contents",
   "toc_cell": false,
   "toc_position": {},
   "toc_section_display": true,
   "toc_window_display": true
  }
 },
 "nbformat": 4,
 "nbformat_minor": 5
}
