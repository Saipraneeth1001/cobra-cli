{
 "cells": [
  {
   "cell_type": "markdown",
   "id": "5d4686e2",
   "metadata": {},
   "source": [
    "# IMPORTS"
   ]
  },
  {
   "cell_type": "code",
   "execution_count": null,
   "id": "a3fbfbf2-caf6-4c7c-97fb-904dbb660aaa",
   "metadata": {
    "scrolled": true
   },
   "outputs": [],
   "source": [
    "!pip install nsepy\n",
    "!pip install pandas\n",
    "!pip install numpy\n",
    "!pip install TA-Lib\n",
    "!pip install plotly\n",
    "!pip install yfinance"
   ]
  },
  {
   "cell_type": "code",
   "execution_count": null,
   "id": "af6f4779",
   "metadata": {},
   "outputs": [],
   "source": [
    "from nsepy import get_history\n",
    "from datetime import date\n",
    "import pandas as pd\n",
    "import numpy as np\n",
    "import talib\n",
    "import datetime\n",
    "import yfinance as yf\n",
    "import plotly.graph_objects as go"
   ]
  },
  {
   "cell_type": "markdown",
   "id": "d7542a69",
   "metadata": {},
   "source": [
    "# FETCHING DATA FROM NSE"
   ]
  },
  {
   "cell_type": "code",
   "execution_count": null,
   "id": "436fab4a",
   "metadata": {},
   "outputs": [],
   "source": [
    "scrip = 'HDFCAMC'"
   ]
  },
  {
   "cell_type": "code",
   "execution_count": null,
   "id": "6a247362",
   "metadata": {},
   "outputs": [],
   "source": [
    "\n",
    "stock_df = get_history(symbol=scrip,\n",
    "                    start=date(2021,1,1), \n",
    "                    end=date(2021,12,31)) "
   ]
  },
  {
   "cell_type": "code",
   "execution_count": null,
   "id": "339b671f",
   "metadata": {},
   "outputs": [],
   "source": [
    "pd.set_option('display.width', 10000)\n",
    "print(f\"Stock data size:{stock_df.shape}\")\n",
    "display(stock_df.head(2))\n",
    "display(stock_df.tail(2))"
   ]
  },
  {
   "cell_type": "markdown",
   "id": "ad70589f",
   "metadata": {},
   "source": [
    "# STOCK ANALYSIS"
   ]
  },
  {
   "cell_type": "markdown",
   "id": "f98b11d0",
   "metadata": {},
   "source": [
    "## CANDLESTICK CHART"
   ]
  },
  {
   "cell_type": "code",
   "execution_count": null,
   "id": "e4fcfe2a",
   "metadata": {},
   "outputs": [],
   "source": [
    "import plotly.graph_objects as go\n",
    "\n",
    "candlestick = go.Candlestick(x=stock_df.index, \n",
    "                             open=stock_df['Open'],  \n",
    "                             high=stock_df['High'], \n",
    "                             low=stock_df['Low'], \n",
    "                             close=stock_df['Close'])\n",
    "\n",
    "fig = go.Figure(data=[candlestick])\n",
    "fig.layout.xaxis.type = 'category' \n",
    "fig.show()"
   ]
  },
  {
   "cell_type": "markdown",
   "id": "63962ff1",
   "metadata": {},
   "source": [
    "# CANDLESTICK PATTERNS"
   ]
  },
  {
   "cell_type": "code",
   "execution_count": null,
   "id": "3e37b769",
   "metadata": {},
   "outputs": [],
   "source": [
    "def plot_candle(df, title):\n",
    "    candlestick = go.Candlestick(x=df.index, open=df['Open'], high=df['High'], low=df['Low'], close=df['Close'])\n",
    "\n",
    "    # Plot only the last month's data\n",
    "    fig = go.Figure(data=[candlestick],\n",
    "                    layout=go.Layout(title=go.layout.Title(text=title)))\n",
    "    fig.layout.xaxis.type = 'category' \n",
    "    fig.show()\n"
   ]
  },
  {
   "cell_type": "markdown",
   "id": "9b3f8170",
   "metadata": {},
   "source": [
    "## MARUBOZU CANDLE - SINGLE CANDLESTICK PATTERN"
   ]
  },
  {
   "cell_type": "code",
   "execution_count": null,
   "id": "afc5c694",
   "metadata": {},
   "outputs": [],
   "source": [
    "# Identify the marubozu candles in the dataset\n",
    "stock_df['marubozu'] = talib.CDLMARUBOZU(stock_df['Open'], stock_df['High'], stock_df['Low'], stock_df['Close'])\n",
    "\n",
    "# Subset dataframe for only the marubozu candles\n",
    "marubozu_candles = stock_df[stock_df['marubozu'] != 0]\n",
    "display(marubozu_candles[['Close','marubozu']])\n",
    "\n",
    "# Plot the candlestick chart\n",
    "plot_candle(marubozu_candles, title = f\"Marubozu Candlestick Pattern - {scrip}\")\n"
   ]
  },
  {
   "cell_type": "markdown",
   "id": "26700b49",
   "metadata": {},
   "source": [
    "## DOJI CANDLE"
   ]
  },
  {
   "cell_type": "code",
   "execution_count": null,
   "id": "f29c7190",
   "metadata": {},
   "outputs": [],
   "source": [
    "# Identify the doji candles in the dataset\n",
    "stock_df['doji'] = talib.CDLDOJI(stock_df['Open'], stock_df['High'], stock_df['Low'], stock_df['Close'])\n",
    "\n",
    "# Subset dataframe for only the doji candles\n",
    "doji_candles = stock_df[stock_df['doji'] != 0]\n",
    "display(doji_candles[['Open','Close','doji']].tail())\n",
    "\n",
    "\n",
    "# Plot the candlestick chart\n",
    "plot_candle(doji_candles, title = f\"Doji Candlestick Pattern - {scrip}\")\n"
   ]
  },
  {
   "cell_type": "markdown",
   "id": "3cbdd900",
   "metadata": {},
   "source": [
    "## ENGULFING CANDLE"
   ]
  },
  {
   "cell_type": "code",
   "execution_count": null,
   "id": "bcfda9cd",
   "metadata": {},
   "outputs": [],
   "source": [
    "# Identify the engulfing candles in the dataset\n",
    "stock_df['engulf'] = talib.CDLENGULFING(stock_df['Open'], stock_df['High'], stock_df['Low'], stock_df['Close'])\n",
    "\n",
    "# Subset dataframe for only the doji candles\n",
    "stock_df['next_is_engulf'] = stock_df['engulf'].shift(-1)\n",
    "engulf_candles = stock_df[(stock_df['engulf'] != 0) | (stock_df['next_is_engulf'] != 0)]\n",
    "display(engulf_candles[['Open','Close','engulf']].head(10))\n",
    "\n",
    "\n",
    "# Plot the candlestick chart\n",
    "plot_candle(engulf_candles, title = f\"Engulfing Candlestick Pattern - {scrip}\")\n"
   ]
  },
  {
   "cell_type": "markdown",
   "id": "442d8808",
   "metadata": {},
   "source": [
    "## MORNING STAR/EVENING STAR CANDLE"
   ]
  },
  {
   "cell_type": "code",
   "execution_count": null,
   "id": "ced35681",
   "metadata": {},
   "outputs": [],
   "source": [
    "stock_df[stock_df['eve_star'] != 0]"
   ]
  },
  {
   "cell_type": "code",
   "execution_count": null,
   "id": "bd13675e",
   "metadata": {},
   "outputs": [],
   "source": [
    "# Identify the morning/evening candles in the dataset\n",
    "stock_df['morn_star'] = talib.CDLMORNINGSTAR(stock_df['Open'], stock_df['High'], stock_df['Low'], stock_df['Close'])           \n",
    "stock_df['eve_star']  = talib.CDLEVENINGSTAR(stock_df['Open'], stock_df['High'], stock_df['Low'], stock_df['Close'])\n",
    "stock_df['star'] = stock_df['morn_star'] + stock_df['eve_star'] \n",
    "# Subset dataframe for only the doji candles\n",
    "stock_df['next_1_star'] = stock_df['star'].shift(-1, fill_value=0)\n",
    "stock_df['next_2_star'] = stock_df['star'].shift(-2, fill_value=0)\n",
    "star_candles = stock_df[(stock_df['star'] != 0) | (stock_df['next_1_star'] != 0) | (stock_df['next_2_star'] != 0)]\n",
    "display(star_candles[['Close','morn_star','eve_star']].head(10))\n",
    "\n",
    "\n",
    "# Plot the candlestick chart\n",
    "plot_candle(star_candles, title = f\"Morning/Evening Candlestick Pattern - {scrip}\")\n"
   ]
  },
  {
   "cell_type": "code",
   "execution_count": null,
   "id": "95d36769",
   "metadata": {},
   "outputs": [],
   "source": []
  },
  {
   "cell_type": "markdown",
   "id": "6fff275e",
   "metadata": {},
   "source": [
    "# TRADING STRATEGIES/INDICATORS"
   ]
  },
  {
   "cell_type": "markdown",
   "id": "838b5b16",
   "metadata": {
    "jp-MarkdownHeadingCollapsed": true
   },
   "source": [
    "## MOVING AVERAGE"
   ]
  },
  {
   "cell_type": "markdown",
   "id": "5d5d3d35",
   "metadata": {},
   "source": [
    "### SIMPLE MOVING AVERAGE"
   ]
  },
  {
   "cell_type": "code",
   "execution_count": null,
   "id": "2fc65623",
   "metadata": {},
   "outputs": [],
   "source": [
    "stock_df['20_sma'] = stock_df['Close'].rolling(window=20).mean()\n",
    "stock_df[['Close','20_sma']].tail()"
   ]
  },
  {
   "cell_type": "markdown",
   "id": "cb1ee7a0",
   "metadata": {},
   "source": [
    "### MOVING AVERAGE CHART"
   ]
  },
  {
   "cell_type": "code",
   "execution_count": null,
   "id": "798e1a0e",
   "metadata": {},
   "outputs": [],
   "source": [
    "# Compute the moving averages for 20 days, 50 days and 200 days\n",
    "stock_df['20_sma'] = stock_df['Close'].rolling(window=20).mean()\n",
    "stock_df['50_sma'] = stock_df['Close'].rolling(window=50).mean()\n",
    "stock_df['200_sma'] = stock_df['Close'].rolling(window=200).mean()\n",
    "\n",
    "# Plot the moving averages along with the candlestick chart\n",
    "small_df = stock_df.tail(40)\n",
    "candlestick = go.Candlestick(x=small_df.index, open=small_df['Open'], high=small_df['High'], low=small_df['Low'], close=small_df['Close'])\n",
    "sma_20 = go.Scatter(x=small_df.index, y=small_df['20_sma'], name='20 days MA', line={'color': 'blue'})\n",
    "sma_50 = go.Scatter(x=small_df.index, y=small_df['50_sma'], name='50 days MA', line={'color': 'orange'})\n",
    "sma_200 = go.Scatter(x=small_df.index, y=small_df['200_sma'], name='200 days MA', line={'color': 'brown'})\n",
    "\n",
    "# Plot only the last month's data\n",
    "fig = go.Figure(data=[candlestick,sma_20,sma_50,sma_200],\n",
    "                layout=go.Layout(title=go.layout.Title(text=f\"MOVING AVERAGE CHART - {scrip}\")))\n",
    "fig.layout.xaxis.type = 'category' \n",
    "fig.show()\n"
   ]
  },
  {
   "cell_type": "markdown",
   "id": "985b28ef",
   "metadata": {},
   "source": [
    "## RSI"
   ]
  },
  {
   "cell_type": "code",
   "execution_count": null,
   "id": "abb1fdd8",
   "metadata": {},
   "outputs": [],
   "source": [
    "import talib\n",
    "RSI_PERIOD = 14\n",
    "stock_df['rsi'] = talib.RSI(stock_df['Close'], RSI_PERIOD) \n",
    "stock_df['rsi_indicator'] = stock_df['rsi'].apply(lambda x: 'BUY' if x<30 else 'SELL' if x>70 else 'HOLD')\n",
    "display(stock_df[['Close','rsi','rsi_indicator']].tail(15))"
   ]
  },
  {
   "cell_type": "markdown",
   "id": "69ce4437",
   "metadata": {
    "jp-MarkdownHeadingCollapsed": true
   },
   "source": [
    "## MACD"
   ]
  },
  {
   "cell_type": "code",
   "execution_count": null,
   "id": "b3b2a3e0",
   "metadata": {},
   "outputs": [],
   "source": [
    "scrip = 'HINDUNILVR'\n",
    "stock_df = get_history(symbol=scrip,\n",
    "                    start=date(2021,1,1), \n",
    "                    end=date(2021,12,31))"
   ]
  },
  {
   "cell_type": "code",
   "execution_count": null,
   "id": "38809adc",
   "metadata": {},
   "outputs": [],
   "source": [
    "from plotly.subplots import make_subplots\n",
    "\n",
    "def plot_macd(stock_df, macd, signal, hist):\n",
    "    fig = make_subplots( rows=2, cols=1)\n",
    "\n",
    "    candlestick = go.Candlestick(x=stock_df.index, \n",
    "                                 open=stock_df['Open'],  \n",
    "                                 high=stock_df['High'], \n",
    "                                 low=stock_df['Low'], \n",
    "                                 close=stock_df['Close'], name = 'daily candle')\n",
    "\n",
    "    positive_hist = hist[hist>0]\n",
    "    negative_hist = hist[hist<0]\n",
    "\n",
    "    macd_line = go.Scatter(x=macd.index, y = macd, name = 'macd',line_color = 'blue')\n",
    "    signal_line = go.Scatter(x=signal.index, y = signal, name = 'signal',line_color = 'orange')\n",
    "    pos_hist_bar = go.Bar(x=positive_hist.index, y = positive_hist, name = 'hist',marker={'color': 'green'})\n",
    "    neg_hist_bar = go.Bar(x=negative_hist.index, y = negative_hist, name = 'hist',marker={'color': 'red'})\n",
    "\n",
    "    fig.add_trace(candlestick, row=1,col=1)    \n",
    "    fig.add_trace(macd_line, row=2, col=1)\n",
    "    fig.add_trace(signal_line, row=2, col=1)\n",
    "    fig.add_trace(pos_hist_bar, row=2, col=1)\n",
    "    fig.add_trace(neg_hist_bar, row=2, col=1)\n",
    "\n",
    "    fig.update_layout(title_text=f'MACD - {scrip}', title_x=0.5,\n",
    "                     xaxis_type = 'category',xaxis_rangeslider_visible = False,\n",
    "                     xaxis_showticklabels = False,\n",
    "                     xaxis2_type = 'category' )\n",
    "    \n",
    "    fig.show()\n"
   ]
  },
  {
   "cell_type": "code",
   "execution_count": null,
   "id": "6ee5e814",
   "metadata": {},
   "outputs": [],
   "source": [
    "import talib\n",
    "\n",
    "MACD_FAST_EMA = 12\n",
    "MACD_SLOW_EMA = 26\n",
    "MACD_SIGNAL_PERIOD = 9 \n",
    "\n",
    "macd, signal, hist = talib.MACD(stock_df['Close'], \n",
    "                                fastperiod=MACD_FAST_EMA, slowperiod=MACD_SLOW_EMA, signalperiod=MACD_SIGNAL_PERIOD)\n",
    "\n",
    "plot_macd(stock_df, macd, signal, hist)"
   ]
  },
  {
   "cell_type": "markdown",
   "id": "63ca3939",
   "metadata": {},
   "source": [
    "## BOLLINGER BAND"
   ]
  },
  {
   "cell_type": "code",
   "execution_count": null,
   "id": "77e7880b",
   "metadata": {},
   "outputs": [],
   "source": [
    "scrip = 'ITC'\n",
    "stock_df = get_history(symbol=scrip,\n",
    "                    start=date(2021,1,1), \n",
    "                    end=date(2021,12,31))"
   ]
  },
  {
   "cell_type": "code",
   "execution_count": null,
   "id": "522d3f01",
   "metadata": {},
   "outputs": [],
   "source": [
    "# 20-day moving average \n",
    "stock_df['sma_bb'] = stock_df['Close'].rolling(window=20).mean()\n",
    "\n",
    "# upper and lower bollinger bands: SMA +/- 2 * standard deviation\n",
    "stock_df['stddev'] = stock_df['Close'].rolling(window=20).std()\n",
    "stock_df['upper_bb'] = stock_df['sma_bb'] + (2 * stock_df['stddev'])\n",
    "stock_df['lower_bb'] = stock_df['sma_bb'] - (2 * stock_df['stddev'])\n",
    "\n",
    "display(stock_df[['Close','sma_bb','upper_bb','lower_bb']]).tail()\n",
    "\n",
    "\n",
    "# TALib - Bollinger Band\n",
    "# upperband, middleband, lowerband = BBANDS(stock_df['Close'], timeperiod=20, nbdevup=2, nbdevdn=2, matype=0)\n"
   ]
  },
  {
   "cell_type": "code",
   "execution_count": null,
   "id": "e3970fe7",
   "metadata": {},
   "outputs": [],
   "source": [
    "def plot_bollinger_band(stock_df):\n",
    "\n",
    "    candlestick = go.Candlestick(x=stock_df.index, \n",
    "                                 open=stock_df['Open'],  \n",
    "                                 high=stock_df['High'], \n",
    "                                 low=stock_df['Low'], \n",
    "                                 close=stock_df['Close'], name = 'Daily candle')\n",
    "\n",
    "\n",
    "    upper_line = go.Scatter(x=stock_df.index, y = stock_df['upper_bb'], name='upper_band',line_color = 'blue')\n",
    "    lower_line = go.Scatter(x=stock_df.index, y = stock_df['lower_bb'], name = 'lower_band',line_color = 'blue')\n",
    "    sma_line = go.Scatter(x=stock_df.index, y = stock_df['sma_bb'], name = 'sma_line',line_color = 'lightblue')   \n",
    "\n",
    "                                                         \n",
    "    fig = go.Figure(data=[candlestick, upper_line, lower_line, sma_line])\n",
    "                                                         \n",
    "    fig.update_layout(title_text=f'Bollinger Band - {scrip}', title_x=0.5,\n",
    "                     xaxis_type = 'category',xaxis_rangeslider_visible = False,\n",
    "                     xaxis_showticklabels = True )\n",
    "    \n",
    "    fig.show()\n",
    "    \n",
    "plot_bollinger_band(stock_df)"
   ]
  },
  {
   "cell_type": "markdown",
   "id": "594bb3c8",
   "metadata": {},
   "source": [
    "# BUILDING A SIMPLE TRADING STRATEGY"
   ]
  },
  {
   "cell_type": "markdown",
   "id": "1b2792e0",
   "metadata": {},
   "source": [
    "TRADING STRATEGY:  \n",
    "1. Get the individual BUY/SELL/HOLD indicators based on the following strategies: Moving Average, MACD, Engulfing Pattern  \n",
    "2. If even one of the strategies provide a BUY/SELL recommendation, then check the RSI value\n",
    "3. If more than one indicator gives a signal, choose in this order: MACD, Moving Average, Engulfing Pattern  \n",
    "4. RSI value of last 3 sessions considered\n",
    "5. If strategy indicates a BUY and RSI < lower_threshold (40) --> Final Indicator = 'BUY'  \n",
    "6. If strategy indicates a BUY and RSI > upper_threshold (60) --> Final Indicator = 'SELL' \n"
   ]
  },
  {
   "cell_type": "code",
   "execution_count": null,
   "id": "060a9532",
   "metadata": {},
   "outputs": [],
   "source": [
    "# Get additional data to calculate the 200-d moving average from 1st Jan\n",
    "start_date = date(2021,1,1) - datetime.timedelta(300) \n",
    "def fetch_data(scrip_name):\n",
    "    return yf.Ticker(scrip_name).history(\n",
    "                    start=start_date, \n",
    "                    end=date(2021,12,31))"
   ]
  },
  {
   "cell_type": "code",
   "execution_count": null,
   "id": "3d2a65c7",
   "metadata": {},
   "outputs": [],
   "source": [
    "# Compute RSI\n",
    "def apply_rsi_strategy(stock_df, rsi_period = 14):\n",
    "    stock_df['rsi'] = talib.RSI(stock_df['Close'], rsi_period) \n",
    "    return stock_df"
   ]
  },
  {
   "cell_type": "code",
   "execution_count": null,
   "id": "419946d5",
   "metadata": {},
   "outputs": [],
   "source": [
    "# BUY/SELL/HOLD indicator based on the 200-days, 50-days and 20-days simple moving average\n",
    "def get_ma_indicator(row):\n",
    "    indicator = 'HOLD'\n",
    "    row_values = [row['Close'], row['20_sma'], row['50_sma'] , row['200_sma']]\n",
    "    \n",
    "    # If close < 20-day sma < 50-day sma < 200-day sma --> BUY\n",
    "    # If close > 20-day sma > 50-day sma > 200-day sma --> SELL\n",
    "    if(row_values == sorted(row_values)):\n",
    "        indicator = 'BUY'\n",
    "    elif (row_values == sorted(row_values, reverse=True)):\n",
    "        indicator = 'SELL'\n",
    "        \n",
    "    return indicator\n",
    "\n",
    "def apply_moving_average_strategy(stock_df):\n",
    "    # Compute the moving averages for 20 days, 50 days and 200 days\n",
    "    stock_df['20_sma'] = stock_df['Close'].rolling(window=20).mean()\n",
    "    stock_df['50_sma'] = stock_df['Close'].rolling(window=50).mean()\n",
    "    stock_df['200_sma'] = stock_df['Close'].rolling(window=200).mean()\n",
    "\n",
    "    stock_df['MA_indicator'] = stock_df.apply(lambda row: get_ma_indicator(row), axis=1)\n",
    "    return stock_df\n",
    "        "
   ]
  },
  {
   "cell_type": "code",
   "execution_count": null,
   "id": "0d4ade3a",
   "metadata": {},
   "outputs": [],
   "source": [
    "# BUY/SELL/HOLD indicator based on the macd crossover\n",
    "\n",
    "def get_macd_indicator(row):\n",
    "    last_hist = row['hist']\n",
    "    prev_hist = row['prev_hist']\n",
    "    indicator = 'HOLD'\n",
    "    # Provide BUY or SELL indications during crossovers\n",
    "    if not np.isnan(prev_hist) and not np.isnan(last_hist):\n",
    "        # If hist value has changed from negative to positive or vice versa, it indicates a crossover\n",
    "        macd_crossover = (abs(last_hist + prev_hist)) != (abs(last_hist) + abs(prev_hist))\n",
    "        if macd_crossover:\n",
    "            indicator = 'BUY' if last_hist > 0 else 'SELL'\n",
    "            \n",
    "    return indicator\n",
    "        \n",
    "def apply_macd_strategy(stock_df):\n",
    "    stock_df['macd'],  stock_df['signal'],  stock_df['hist'] = talib.MACD(stock_df['Close'], \n",
    "                                fastperiod=12, slowperiod=26, signalperiod=9)\n",
    "    stock_df['prev_hist'] = stock_df['hist'].shift(1)\n",
    "    stock_df['macd_indicator'] = stock_df.apply(lambda row: get_macd_indicator(row), axis=1)\n",
    "    \n",
    "    return stock_df\n",
    "    "
   ]
  },
  {
   "cell_type": "code",
   "execution_count": null,
   "id": "e35ff280",
   "metadata": {},
   "outputs": [],
   "source": [
    "# BUY/SELL/HOLD indicator based on the engulfing pattern\n",
    "\n",
    "def apply_engulfing_pattern(stock_df):\n",
    "    stock_df['engulf'] = talib.CDLENGULFING(stock_df['Open'], stock_df['High'], stock_df['Low'], stock_df['Close'])\n",
    "    stock_df['engulf_indicator'] = stock_df.apply(lambda row: 'BUY' if (row['engulf'] > 0) else 'SELL' if (row['engulf'] < 0) else 'HOLD', axis=1)\n",
    "    return stock_df\n",
    "\n"
   ]
  },
  {
   "cell_type": "code",
   "execution_count": null,
   "id": "f00acf14",
   "metadata": {
    "scrolled": true
   },
   "outputs": [],
   "source": [
    "CHECK_RSI_LAST_SESSIONS = 3\n",
    "RSI_LOWER_LIMIT = 40\n",
    "RSI_UPPER_LIMIT = 60\n",
    "def apply_trading_algo(stock_df):\n",
    "    stock_df['indicator'] = 'HOLD'\n",
    "    buy_sell_signals = stock_df[(stock_df['macd_indicator'] != 'HOLD') | (stock_df['MA_indicator'] != 'HOLD')| (stock_df['engulf_indicator'] != 'HOLD')]\n",
    "    for index,row in buy_sell_signals.iterrows():\n",
    "        # Get previous n sessions whenever a signal is reached \n",
    "        analysis_df = stock_df.loc[:index].tail(3)\n",
    "        macd_ind = analysis_df.iloc[-1]['macd_indicator']\n",
    "        ma_ind = analysis_df.iloc[-1]['MA_indicator']\n",
    "        engulf_ind = analysis_df.iloc[-1]['engulf_indicator']\n",
    "        current_indicator = 'HOLD' \n",
    "        \n",
    "        # Preference given in this order: MACD, MA, engulfing pattern\n",
    "        current_indicator = macd_ind if macd_ind != 'HOLD' else \\\n",
    "                            ma_ind if ma_ind != 'HOLD' else engulf_ind\n",
    "        \n",
    "        # Decide the final indicator based on the RSI value\n",
    "        if ((current_indicator == 'BUY') and (analysis_df['rsi'].min() <= RSI_LOWER_LIMIT)) \\\n",
    "            or \\\n",
    "            ((current_indicator == 'SELL') and (analysis_df['rsi'].max() >= RSI_UPPER_LIMIT)): \n",
    "            stock_df.at[index, 'indicator'] = current_indicator\n",
    "        \n",
    "    return stock_df\n",
    "\n"
   ]
  },
  {
   "cell_type": "code",
   "execution_count": 86,
   "id": "f930cbee",
   "metadata": {},
   "outputs": [],
   "source": [
    "def plot_buy_sell_chart(scrip_name, stock):\n",
    "    print(\"inside this method\")\n",
    "    candlestick = go.Candlestick(x=stock.index, \n",
    "                                 open=stock['Open'],  \n",
    "                                 high=stock['High'], \n",
    "                                 low=stock['Low'], \n",
    "                                 close=stock['Close'])\n",
    "    # print(candlestick)\n",
    "\n",
    "    fig = go.Figure(data=[candlestick],\n",
    "                   layout=go.Layout(title=go.layout.Title(text=f\"TRADING ALGO - BUY/SELL RECOMMENDATIONS - {scrip_name}\")))\n",
    "    fig.layout.xaxis.type = 'category' \n",
    "    fig.layout.xaxis.rangeslider.visible = False\n",
    "\n",
    "    for index, row in stock.iterrows(): \n",
    "        print(\"indicator\",row['indicator'])\n",
    "        if (row['indicator'] != 'HOLD'):\n",
    "            line_colour = 'orange' if (row['indicator'] == 'BUY') else 'purple'\n",
    "            fig.add_vline(x=row.name, line_width=3, line_dash=\"dash\", line_color=line_colour)\n",
    "\n",
    "            \n",
    "    fig.show()\n",
    "    \n",
    "    "
   ]
  },
  {
   "cell_type": "code",
   "execution_count": null,
   "id": "d2e2959b",
   "metadata": {},
   "outputs": [],
   "source": [
    "def my_trading_algo(scrip_name):\n",
    "    # Fetch the NSE data\n",
    "    stock = fetch_data(scrip_name)\n",
    "\n",
    "    # Apply the strategies individual\n",
    "    stock = apply_moving_average_strategy(stock)\n",
    "    stock = apply_rsi_strategy(stock)\n",
    "    stock = apply_macd_strategy(stock)\n",
    "    stock = apply_engulfing_pattern(stock)\n",
    "\n",
    "    # Get only 2021 data for further analysis\n",
    "    # import pdb; pdb.set_trace()\n",
    "    stock = stock[stock.index >= str(date(2021,1,1))]\n",
    "\n",
    "    # stock = print(stock)\n",
    "\n",
    "    # Merge the strategies to create a final BUY/SELL/HOLD indicator\n",
    "    stock = apply_trading_algo(stock)\n",
    "\n",
    "    # # Plot the buy/sell recommendations on 2021 data\n",
    "    plot_buy_sell_chart(scrip_name, stock)\n",
    "    \n",
    "    return stock"
   ]
  },
  {
   "cell_type": "code",
   "execution_count": null,
   "id": "f9d118a1",
   "metadata": {},
   "outputs": [],
   "source": [
    "hul = my_trading_algo('HINDUNILVR')"
   ]
  },
  {
   "cell_type": "code",
   "execution_count": 87,
   "id": "686088c5",
   "metadata": {},
   "outputs": [
    {
     "name": "stdout",
     "output_type": "stream",
     "text": [
      "inside this method\n"
     ]
    },
    {
     "ename": "KeyError",
     "evalue": "'name'",
     "output_type": "error",
     "traceback": [
      "\u001b[0;31m---------------------------------------------------------------------------\u001b[0m",
      "\u001b[0;31mKeyError\u001b[0m                                  Traceback (most recent call last)",
      "File \u001b[0;32m~/.virtualenvs/cobra/lib/python3.11/site-packages/pandas/core/indexes/base.py:3790\u001b[0m, in \u001b[0;36mIndex.get_loc\u001b[0;34m(self, key)\u001b[0m\n\u001b[1;32m   3789\u001b[0m \u001b[38;5;28;01mtry\u001b[39;00m:\n\u001b[0;32m-> 3790\u001b[0m     \u001b[38;5;28;01mreturn\u001b[39;00m \u001b[38;5;28;43mself\u001b[39;49m\u001b[38;5;241;43m.\u001b[39;49m\u001b[43m_engine\u001b[49m\u001b[38;5;241;43m.\u001b[39;49m\u001b[43mget_loc\u001b[49m\u001b[43m(\u001b[49m\u001b[43mcasted_key\u001b[49m\u001b[43m)\u001b[49m\n\u001b[1;32m   3791\u001b[0m \u001b[38;5;28;01mexcept\u001b[39;00m \u001b[38;5;167;01mKeyError\u001b[39;00m \u001b[38;5;28;01mas\u001b[39;00m err:\n",
      "File \u001b[0;32mindex.pyx:152\u001b[0m, in \u001b[0;36mpandas._libs.index.IndexEngine.get_loc\u001b[0;34m()\u001b[0m\n",
      "File \u001b[0;32mindex.pyx:181\u001b[0m, in \u001b[0;36mpandas._libs.index.IndexEngine.get_loc\u001b[0;34m()\u001b[0m\n",
      "File \u001b[0;32mpandas/_libs/hashtable_class_helper.pxi:7080\u001b[0m, in \u001b[0;36mpandas._libs.hashtable.PyObjectHashTable.get_item\u001b[0;34m()\u001b[0m\n",
      "File \u001b[0;32mpandas/_libs/hashtable_class_helper.pxi:7088\u001b[0m, in \u001b[0;36mpandas._libs.hashtable.PyObjectHashTable.get_item\u001b[0;34m()\u001b[0m\n",
      "\u001b[0;31mKeyError\u001b[0m: 'name'",
      "\nThe above exception was the direct cause of the following exception:\n",
      "\u001b[0;31mKeyError\u001b[0m                                  Traceback (most recent call last)",
      "Cell \u001b[0;32mIn[87], line 1\u001b[0m\n\u001b[0;32m----> 1\u001b[0m itc \u001b[38;5;241m=\u001b[39m \u001b[43mmy_trading_algo\u001b[49m\u001b[43m(\u001b[49m\u001b[38;5;124;43m'\u001b[39;49m\u001b[38;5;124;43mITC.NS\u001b[39;49m\u001b[38;5;124;43m'\u001b[39;49m\u001b[43m)\u001b[49m\n",
      "Cell \u001b[0;32mIn[75], line 21\u001b[0m, in \u001b[0;36mmy_trading_algo\u001b[0;34m(scrip_name)\u001b[0m\n\u001b[1;32m     18\u001b[0m stock \u001b[38;5;241m=\u001b[39m apply_trading_algo(stock)\n\u001b[1;32m     20\u001b[0m \u001b[38;5;66;03m# # Plot the buy/sell recommendations on 2021 data\u001b[39;00m\n\u001b[0;32m---> 21\u001b[0m \u001b[43mplot_buy_sell_chart\u001b[49m\u001b[43m(\u001b[49m\u001b[43mscrip_name\u001b[49m\u001b[43m,\u001b[49m\u001b[43m \u001b[49m\u001b[43mstock\u001b[49m\u001b[43m)\u001b[49m\n\u001b[1;32m     23\u001b[0m \u001b[38;5;28;01mreturn\u001b[39;00m stock\n",
      "Cell \u001b[0;32mIn[86], line 16\u001b[0m, in \u001b[0;36mplot_buy_sell_chart\u001b[0;34m(scrip_name, stock)\u001b[0m\n\u001b[1;32m     13\u001b[0m fig\u001b[38;5;241m.\u001b[39mlayout\u001b[38;5;241m.\u001b[39mxaxis\u001b[38;5;241m.\u001b[39mrangeslider\u001b[38;5;241m.\u001b[39mvisible \u001b[38;5;241m=\u001b[39m \u001b[38;5;28;01mFalse\u001b[39;00m\n\u001b[1;32m     15\u001b[0m \u001b[38;5;28;01mfor\u001b[39;00m index, row \u001b[38;5;129;01min\u001b[39;00m stock\u001b[38;5;241m.\u001b[39miterrows(): \n\u001b[0;32m---> 16\u001b[0m     \u001b[38;5;28mprint\u001b[39m(\u001b[38;5;124m\"\u001b[39m\u001b[38;5;124mdate: \u001b[39m\u001b[38;5;124m\"\u001b[39m, \u001b[43mrow\u001b[49m\u001b[43m[\u001b[49m\u001b[38;5;124;43m'\u001b[39;49m\u001b[38;5;124;43mname\u001b[39;49m\u001b[38;5;124;43m'\u001b[39;49m\u001b[43m]\u001b[49m, \u001b[38;5;124m\"\u001b[39m\u001b[38;5;124mindicator\u001b[39m\u001b[38;5;124m\"\u001b[39m,row[\u001b[38;5;124m'\u001b[39m\u001b[38;5;124mindicator\u001b[39m\u001b[38;5;124m'\u001b[39m])\n\u001b[1;32m     17\u001b[0m     \u001b[38;5;28;01mif\u001b[39;00m (row[\u001b[38;5;124m'\u001b[39m\u001b[38;5;124mindicator\u001b[39m\u001b[38;5;124m'\u001b[39m] \u001b[38;5;241m!=\u001b[39m \u001b[38;5;124m'\u001b[39m\u001b[38;5;124mHOLD\u001b[39m\u001b[38;5;124m'\u001b[39m):\n\u001b[1;32m     18\u001b[0m         line_colour \u001b[38;5;241m=\u001b[39m \u001b[38;5;124m'\u001b[39m\u001b[38;5;124morange\u001b[39m\u001b[38;5;124m'\u001b[39m \u001b[38;5;28;01mif\u001b[39;00m (row[\u001b[38;5;124m'\u001b[39m\u001b[38;5;124mindicator\u001b[39m\u001b[38;5;124m'\u001b[39m] \u001b[38;5;241m==\u001b[39m \u001b[38;5;124m'\u001b[39m\u001b[38;5;124mBUY\u001b[39m\u001b[38;5;124m'\u001b[39m) \u001b[38;5;28;01melse\u001b[39;00m \u001b[38;5;124m'\u001b[39m\u001b[38;5;124mpurple\u001b[39m\u001b[38;5;124m'\u001b[39m\n",
      "File \u001b[0;32m~/.virtualenvs/cobra/lib/python3.11/site-packages/pandas/core/series.py:1040\u001b[0m, in \u001b[0;36mSeries.__getitem__\u001b[0;34m(self, key)\u001b[0m\n\u001b[1;32m   1037\u001b[0m     \u001b[38;5;28;01mreturn\u001b[39;00m \u001b[38;5;28mself\u001b[39m\u001b[38;5;241m.\u001b[39m_values[key]\n\u001b[1;32m   1039\u001b[0m \u001b[38;5;28;01melif\u001b[39;00m key_is_scalar:\n\u001b[0;32m-> 1040\u001b[0m     \u001b[38;5;28;01mreturn\u001b[39;00m \u001b[38;5;28;43mself\u001b[39;49m\u001b[38;5;241;43m.\u001b[39;49m\u001b[43m_get_value\u001b[49m\u001b[43m(\u001b[49m\u001b[43mkey\u001b[49m\u001b[43m)\u001b[49m\n\u001b[1;32m   1042\u001b[0m \u001b[38;5;66;03m# Convert generator to list before going through hashable part\u001b[39;00m\n\u001b[1;32m   1043\u001b[0m \u001b[38;5;66;03m# (We will iterate through the generator there to check for slices)\u001b[39;00m\n\u001b[1;32m   1044\u001b[0m \u001b[38;5;28;01mif\u001b[39;00m is_iterator(key):\n",
      "File \u001b[0;32m~/.virtualenvs/cobra/lib/python3.11/site-packages/pandas/core/series.py:1156\u001b[0m, in \u001b[0;36mSeries._get_value\u001b[0;34m(self, label, takeable)\u001b[0m\n\u001b[1;32m   1153\u001b[0m     \u001b[38;5;28;01mreturn\u001b[39;00m \u001b[38;5;28mself\u001b[39m\u001b[38;5;241m.\u001b[39m_values[label]\n\u001b[1;32m   1155\u001b[0m \u001b[38;5;66;03m# Similar to Index.get_value, but we do not fall back to positional\u001b[39;00m\n\u001b[0;32m-> 1156\u001b[0m loc \u001b[38;5;241m=\u001b[39m \u001b[38;5;28;43mself\u001b[39;49m\u001b[38;5;241;43m.\u001b[39;49m\u001b[43mindex\u001b[49m\u001b[38;5;241;43m.\u001b[39;49m\u001b[43mget_loc\u001b[49m\u001b[43m(\u001b[49m\u001b[43mlabel\u001b[49m\u001b[43m)\u001b[49m\n\u001b[1;32m   1158\u001b[0m \u001b[38;5;28;01mif\u001b[39;00m is_integer(loc):\n\u001b[1;32m   1159\u001b[0m     \u001b[38;5;28;01mreturn\u001b[39;00m \u001b[38;5;28mself\u001b[39m\u001b[38;5;241m.\u001b[39m_values[loc]\n",
      "File \u001b[0;32m~/.virtualenvs/cobra/lib/python3.11/site-packages/pandas/core/indexes/base.py:3797\u001b[0m, in \u001b[0;36mIndex.get_loc\u001b[0;34m(self, key)\u001b[0m\n\u001b[1;32m   3792\u001b[0m     \u001b[38;5;28;01mif\u001b[39;00m \u001b[38;5;28misinstance\u001b[39m(casted_key, \u001b[38;5;28mslice\u001b[39m) \u001b[38;5;129;01mor\u001b[39;00m (\n\u001b[1;32m   3793\u001b[0m         \u001b[38;5;28misinstance\u001b[39m(casted_key, abc\u001b[38;5;241m.\u001b[39mIterable)\n\u001b[1;32m   3794\u001b[0m         \u001b[38;5;129;01mand\u001b[39;00m \u001b[38;5;28many\u001b[39m(\u001b[38;5;28misinstance\u001b[39m(x, \u001b[38;5;28mslice\u001b[39m) \u001b[38;5;28;01mfor\u001b[39;00m x \u001b[38;5;129;01min\u001b[39;00m casted_key)\n\u001b[1;32m   3795\u001b[0m     ):\n\u001b[1;32m   3796\u001b[0m         \u001b[38;5;28;01mraise\u001b[39;00m InvalidIndexError(key)\n\u001b[0;32m-> 3797\u001b[0m     \u001b[38;5;28;01mraise\u001b[39;00m \u001b[38;5;167;01mKeyError\u001b[39;00m(key) \u001b[38;5;28;01mfrom\u001b[39;00m \u001b[38;5;21;01merr\u001b[39;00m\n\u001b[1;32m   3798\u001b[0m \u001b[38;5;28;01mexcept\u001b[39;00m \u001b[38;5;167;01mTypeError\u001b[39;00m:\n\u001b[1;32m   3799\u001b[0m     \u001b[38;5;66;03m# If we have a listlike key, _check_indexing_error will raise\u001b[39;00m\n\u001b[1;32m   3800\u001b[0m     \u001b[38;5;66;03m#  InvalidIndexError. Otherwise we fall through and re-raise\u001b[39;00m\n\u001b[1;32m   3801\u001b[0m     \u001b[38;5;66;03m#  the TypeError.\u001b[39;00m\n\u001b[1;32m   3802\u001b[0m     \u001b[38;5;28mself\u001b[39m\u001b[38;5;241m.\u001b[39m_check_indexing_error(key)\n",
      "\u001b[0;31mKeyError\u001b[0m: 'name'"
     ]
    }
   ],
   "source": [
    "itc = my_trading_algo('ITC.NS')"
   ]
  },
  {
   "cell_type": "code",
   "execution_count": null,
   "id": "33e5e12f",
   "metadata": {},
   "outputs": [],
   "source": [
    "hdfcamc = my_trading_algo('HDFCAMC')"
   ]
  },
  {
   "cell_type": "code",
   "execution_count": null,
   "id": "bc9dcf44",
   "metadata": {},
   "outputs": [],
   "source": [
    "whirlpool = my_trading_algo('WHIRLPOOL')"
   ]
  },
  {
   "cell_type": "code",
   "execution_count": null,
   "id": "20dff7f2",
   "metadata": {},
   "outputs": [],
   "source": [
    "infy = my_trading_algo('INFY') # RSI is never less than 40 for INFY - hence no BUY calls"
   ]
  },
  {
   "cell_type": "code",
   "execution_count": null,
   "id": "39db18a7",
   "metadata": {},
   "outputs": [],
   "source": []
  },
  {
   "cell_type": "code",
   "execution_count": null,
   "id": "eeb763d5",
   "metadata": {},
   "outputs": [],
   "source": [
    "#  FOR DEBUGGING\n",
    "infy[['Symbol','Close','indicator','rsi','MA_indicator','macd_indicator','engulf_indicator']]"
   ]
  },
  {
   "cell_type": "code",
   "execution_count": null,
   "id": "f0e894a0",
   "metadata": {},
   "outputs": [],
   "source": []
  },
  {
   "cell_type": "code",
   "execution_count": null,
   "id": "eeb26aae",
   "metadata": {},
   "outputs": [],
   "source": []
  },
  {
   "cell_type": "code",
   "execution_count": null,
   "id": "0b921584",
   "metadata": {},
   "outputs": [],
   "source": []
  },
  {
   "cell_type": "markdown",
   "id": "7934ce63",
   "metadata": {},
   "source": [
    "# OTHERS"
   ]
  },
  {
   "cell_type": "markdown",
   "id": "25600e3a",
   "metadata": {},
   "source": [
    "## MORNING & EVENING STAR"
   ]
  },
  {
   "cell_type": "code",
   "execution_count": null,
   "id": "232e51cd",
   "metadata": {},
   "outputs": [],
   "source": [
    "\n",
    "stock_df = get_history(symbol='DMART',\n",
    "                    start=date(2021,1,1), \n",
    "                    end=date(2021,12,31))"
   ]
  },
  {
   "cell_type": "code",
   "execution_count": null,
   "id": "9816d075",
   "metadata": {},
   "outputs": [],
   "source": [
    "# Identify the morning/evening candles in the dataset\n",
    "stock_df['morn_star'] = talib.CDLMORNINGSTAR(stock_df['Open'], stock_df['High'], stock_df['Low'], stock_df['Close'])           \n",
    "stock_df['eve_star']  = talib.CDLEVENINGSTAR(stock_df['Open'], stock_df['High'], stock_df['Low'], stock_df['Close'])\n",
    "stock_df['star'] = stock_df['morn_star'] + stock_df['eve_star'] \n",
    "# Subset dataframe for only the doji candles\n",
    "stock_df['next_1_star'] = stock_df['star'].shift(-1, fill_value=0)\n",
    "stock_df['next_2_star'] = stock_df['star'].shift(-2, fill_value=0)\n",
    "star_candles = stock_df[(stock_df['star'] != 0) | (stock_df['next_1_star'] != 0) | (stock_df['next_2_star'] != 0)]\n",
    "display(star_candles[['Close','morn_star','eve_star']])\n",
    "\n",
    "\n",
    "# Plot the candlestick chart\n",
    "plot_candle(star_candles, title = f\"Morning/Evening Candlestick Pattern - DMART\")\n"
   ]
  },
  {
   "cell_type": "code",
   "execution_count": null,
   "id": "84a24070",
   "metadata": {},
   "outputs": [],
   "source": [
    "plot_candle(stock_df.loc[date(2021,3,26):date(2021,5,10)], title = f\"DMART - MORNING CANDLE\")\n",
    "plot_candle(stock_df.loc[date(2021,8,10):date(2021,9,15)], title = f\"DMART - EVENING CANDLE\")"
   ]
  },
  {
   "cell_type": "code",
   "execution_count": null,
   "id": "149cd8bd",
   "metadata": {},
   "outputs": [],
   "source": []
  }
 ],
 "metadata": {
  "kernelspec": {
   "display_name": "Python 3 (ipykernel)",
   "language": "python",
   "name": "python3"
  },
  "language_info": {
   "codemirror_mode": {
    "name": "ipython",
    "version": 3
   },
   "file_extension": ".py",
   "mimetype": "text/x-python",
   "name": "python",
   "nbconvert_exporter": "python",
   "pygments_lexer": "ipython3",
   "version": "3.11.5"
  },
  "toc": {
   "base_numbering": 1,
   "nav_menu": {},
   "number_sections": true,
   "sideBar": true,
   "skip_h1_title": false,
   "title_cell": "Table of Contents",
   "title_sidebar": "Contents",
   "toc_cell": false,
   "toc_position": {},
   "toc_section_display": true,
   "toc_window_display": true
  }
 },
 "nbformat": 4,
 "nbformat_minor": 5
}
